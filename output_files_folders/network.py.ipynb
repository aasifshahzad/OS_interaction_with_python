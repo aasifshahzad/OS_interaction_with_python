{
 "cells": [
  {
   "cell_type": "code",
   "execution_count": null,
   "metadata": {},
   "outputs": [],
   "source": [
    "#!/usr/bin/env python3\n",
    "\n",
    "import requests\n",
    "import socket\n",
    "\n",
    "def check_localhost():\n",
    "    localhost = socket.gethostbyname('localhost')\n",
    "    if str(localhost) == '127.0.0.1':\n",
    "        return True\n",
    "def check_connectivity():\n",
    "    request = requests.get(\"http://www.google.com\")\n",
    "    if request.status_code == 200:\n",
    "        return True\n"
   ]
  }
 ],
 "metadata": {
  "kernelspec": {
   "display_name": "Python 3",
   "language": "python",
   "name": "python3"
  },
  "language_info": {
   "codemirror_mode": {
    "name": "ipython",
    "version": 3
   },
   "file_extension": ".py",
   "mimetype": "text/x-python",
   "name": "python",
   "nbconvert_exporter": "python",
   "pygments_lexer": "ipython3",
   "version": "3.8.5"
  }
 },
 "nbformat": 4,
 "nbformat_minor": 4
}
