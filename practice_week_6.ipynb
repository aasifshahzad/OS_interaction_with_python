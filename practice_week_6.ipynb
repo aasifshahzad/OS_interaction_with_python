{
 "cells": [
  {
   "cell_type": "code",
   "execution_count": 1,
   "metadata": {},
   "outputs": [],
   "source": [
    "# interacting with commandline Shell"
   ]
  },
  {
   "cell_type": "markdown",
   "metadata": {},
   "source": [
    "# Basic linux Commands\n",
    "> echo\n",
    "\n",
    "> cat\n",
    "\n",
    "> ls\n",
    "\n",
    "> chmod\n",
    "\n",
    "> mkdir\n",
    "\n",
    "> pwd\n",
    "\n",
    "> cp ..spider.txt . (.. for parent directory and . after txt for current folder where the file would be copied.)\n",
    "\n",
    "> touch my_file.txt  (create a new file)\n",
    "\n",
    "> ls -l              (content of a directory shows permissions also)\n",
    "\n",
    "> ls -l | less       (shows output page by page)\n",
    "\n",
    "> ls -la             (content of directory including hiddeen file)\n",
    "\n",
    "> mv firstparamer secondparameter  (move a file or create a new copy)\n",
    "\n",
    "> rm *                (remove all)\n",
    "\n",
    "> cd ..\n",
    "\n",
    "> rm dir              (only works if dir is empty)\n",
    "Basic Linux Commands Cheat-Sheet\n",
    "This list includes a bunch of different commands that are useful to know when working with Linux. Not all of these commands are covered in the videos, so feel free to investigate them on your own.\n",
    "\n",
    "Managing files and directories\n",
    "cd directory:    changes the current working directory to the specified one\n",
    "pwd:             prints the current working directory\n",
    "ls:              lists the contents of the current directory\n",
    "ls directory:    lists the contents of the received directory  \n",
    "ls -l:           lists the additional information for the contents of the directory  \n",
    "ls -a:           lists all files, including those hidden  \n",
    "ls -la:          applies both the -l and the -a flags  \n",
    "mkdir directory: creates the directory with the received name\n",
    "rmdir directory: deletes the directory with the received name (if empty)\n",
    "cp old_name new_name: copies old_name into new_name\n",
    "mv old_name new_name: moves old_name into new_name\n",
    "touch file_name: creates an empty file or updates the modified time if it exists\n",
    "chmod modifiers files: changes the permissions for the files according to the provided modifiers; we've seen +x to make the file executable\n",
    "chown user files: changes the owner of the files to the given user\n",
    "chgrp group files: changes the group of the files to the given group\n",
    "Operating with the content of files\n",
    "cat file: shows the content of the file through standard output\n",
    "wc file: counts the amount of characters, words, and lines in the given file; can also count the same values of whatever it receives via stdin\n",
    "file file: prints the type of the given file, as recognized by the operating system\n",
    "head file: shows the first 10 lines of the given file\n",
    "tail file: shows the last 10 lines of the given file\n",
    "less file: scrolls through the contents of the given file (press \"q\" to quit)\n",
    "sort file: sorts the lines of the file alphabetically\n",
    "cut -dseparator -ffields file: for each line in the given file, splits the line according to the given separator and prints the given fields (starting from 1)\n",
    "Additional commands\n",
    "echo \"message\": prints the message to standard output\n",
    "date: prints the current date\n",
    "who: prints the list of users currently logged into the computer\n",
    "man command: shows the manual page of the given command; manual pages contain a lot of information explaining how to use each command (press \"q\" to quit)\n",
    "uptime: shows how long the computer has been running\n",
    "free: shows the amount of unused memory on the current system  \n",
    "\n",
    "    "
   ]
  },
  {
   "cell_type": "markdown",
   "metadata": {},
   "source": [
    "# Redirecting Streams\n",
    "# Redirection is a process of sending a stream to a different destination\n",
    "\n",
    "> ./stdout exampl.py > newfile.txt \n",
    "stores the output of the example.py file to newfile.txt \n",
    "and creates a new if file doesn't exists.\n",
    "\n",
    "> ./stdout example.py >> newfile.txt \n",
    "append the content of newfile.txt without erasing the older one\n",
    "\n",
    "> ./streams_err.py < newfile.txt\n",
    "redirecting input streams to take input from newfile.txt instead of keyboard\n",
    "\n",
    "> ./stream_err.py < newfile.txt 2> error_file.txt\n",
    "redirecting input streams to take input from newfile.txt instead of keyboard and redirecting output error messages to error_file.txt\n",
    "\n",
    "> echo \"This is my new file\" > myamazing_file.txt\n",
    "redirect the echo command out put to file instead of screen\n",
    "\n"
   ]
  },
  {
   "cell_type": "markdown",
   "metadata": {},
   "source": [
    "# Pipe and Pipelines\n",
    "> Pipes connect the output of one command to the input of another in order to pass data between programs\n",
    "\n",
    "> ls -l | less       (shows output page by page)\n",
    "\n",
    "> cat spider.txt | tr ' ' '\\n' | sort | uniq -c | sort -nr | head\n",
    "\n",
    "> bring over the content | transform 'takes instance' 'replace instance' | sorting | counting uniqe instances | sorting again numerically and then rearrange | displaying first ten\n",
    "\n",
    "> cat abc.txt | capatalize.py"
   ]
  },
  {
   "cell_type": "code",
   "execution_count": null,
   "metadata": {},
   "outputs": [],
   "source": []
  }
 ],
 "metadata": {
  "kernelspec": {
   "display_name": "Python 3",
   "language": "python",
   "name": "python3"
  },
  "language_info": {
   "codemirror_mode": {
    "name": "ipython",
    "version": 3
   },
   "file_extension": ".py",
   "mimetype": "text/x-python",
   "name": "python",
   "nbconvert_exporter": "python",
   "pygments_lexer": "ipython3",
   "version": "3.8.5"
  }
 },
 "nbformat": 4,
 "nbformat_minor": 4
}
