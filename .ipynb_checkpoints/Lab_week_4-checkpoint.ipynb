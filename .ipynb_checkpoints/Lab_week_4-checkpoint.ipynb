{
 "cells": [
  {
   "cell_type": "code",
   "execution_count": null,
   "metadata": {},
   "outputs": [],
   "source": [
    "#!/usr/bin/env python3\n",
    "import sys\n",
    "import os\n",
    "import re\n",
    "\n",
    "\n",
    "def error_search(log_file):\n",
    "    error = input(\"What is the error? \")\n",
    "    returned_errors = []\n",
    "    with open(log_file, mode='r',encoding='UTF-8') as file:\n",
    "        for log in  file.readlines():\n",
    "            error_patterns = [\"error\"]\n",
    "        for i in range(len(error.split(' '))):\n",
    "            error_patterns.append(r\"{}\".format(error.split(' ')[i].lower()))\n",
    "        if all(re.search(error_pattern, log.lower()) for error_pattern in error_patterns):\n",
    "            returned_errors.append(log)\n",
    "        file.close()\n",
    "    return returned_errors\n",
    "\n",
    "  \n",
    "def file_output(returned_errors):\n",
    "    with open(os.path.expanduser('~') + '/data/errors_found.log', 'w') as file:\n",
    "        for error in returned_errors:\n",
    "        file.write(error)\n",
    "        file.close()\n",
    "if __name__ == \"__main__\":\n",
    "    log_file = sys.argv[1]\n",
    "    returned_errors = error_search(log_file)\n",
    "    file_output(returned_errors)\n",
    "    sys.exit(0)"
   ]
  },
  {
   "cell_type": "code",
   "execution_count": null,
   "metadata": {},
   "outputs": [],
   "source": [
    "student-02-d19523ac7ca2@linux-instance:~$ cd ~/scripts\n",
    "student-02-d19523ac7ca2@linux-instance:~/scripts$ nano find_error.py\n",
    "student-02-d19523ac7ca2@linux-instance:~/scripts$ sudo chmod +x find_error.py\n",
    "student-02-d19523ac7ca2@linux-instance:~/scripts$ ./find_error.py ~/data/fishy.log\n",
    "What is the error? CRON ERROR Failed to start\n",
    "student-02-d19523ac7ca2@linux-instance:~/scripts$ cat ~/data/errors_found.log\n",
    "July 31 04:11:32 mycomputername CRON[51253]: ERROR: Failed to start CRON job due to script syntax error. Inform the CRON job owner!\n",
    "student-02-d19523ac7ca2@linux-instance:~/scripts$\n"
   ]
  }
 ],
 "metadata": {
  "kernelspec": {
   "display_name": "Python 3",
   "language": "python",
   "name": "python3"
  },
  "language_info": {
   "codemirror_mode": {
    "name": "ipython",
    "version": 3
   },
   "file_extension": ".py",
   "mimetype": "text/x-python",
   "name": "python",
   "nbconvert_exporter": "python",
   "pygments_lexer": "ipython3",
   "version": "3.8.5"
  }
 },
 "nbformat": 4,
 "nbformat_minor": 4
}
