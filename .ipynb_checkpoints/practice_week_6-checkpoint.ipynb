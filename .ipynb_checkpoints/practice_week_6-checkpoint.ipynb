{
 "cells": [
  {
   "cell_type": "code",
   "execution_count": 1,
   "metadata": {},
   "outputs": [],
   "source": [
    "# interacting with commandline Shell"
   ]
  },
  {
   "cell_type": "markdown",
   "metadata": {},
   "source": [
    "# Basic linux Commands\n",
    "> echo\n",
    "\n",
    "> cat\n",
    "\n",
    "> ls\n",
    "\n",
    "> chmod\n",
    "\n",
    "> mkdir\n",
    "\n",
    "> pwd\n",
    "\n",
    "> cp ..spider.txt . (.. for parent directory and . after txt for current folder where the file would be copied.)\n",
    "\n",
    "> touch my_file.txt  (create a new file)\n",
    "\n",
    "> ls -l              (content of a directory shows permissions also)\n",
    "\n",
    "> ls -la             (content of directory including hiddeen file)\n",
    "\n",
    "> mv firstparamer secondparameter  (move a file or create a new copy)\n",
    "\n",
    "> rm *                (remove all)\n",
    "\n",
    "> cd ..\n",
    "\n",
    "> rm dir              (only works if dir is empty)\n",
    "\n",
    "    "
   ]
  },
  {
   "cell_type": "markdown",
   "metadata": {},
   "source": [
    "# Redirecting Streams\n",
    "# Redirection is a process of sending a stream to a different destination\n",
    "\n",
    "> ./stdout exampl.py > newfile.txt \n",
    "stores the output of the example.py file to newfile.txt \n",
    "and creates a new if file doesn't exists.\n",
    "\n",
    "> ./stdout example.py >> newfile.txt \n",
    "append the content of newfile.txt without erasing the older one\n",
    "\n",
    "> ./streams_err.py < newfile.txt\n",
    "redirecting input streams to take input from newfile.txt instead of keyboard\n",
    "\n",
    "> ./stream_err.py < newfile.txt 2> error_file.txt\n",
    "redirecting input streams to take input from newfile.txt instead of keyboard and redirecting output error messages to error_file.txt\n",
    "\n",
    "> echo \"This is my new file\" > myamazing_file.txt\n",
    "redirect the echo command out put to file instead of screen"
   ]
  },
  {
   "cell_type": "code",
   "execution_count": null,
   "metadata": {},
   "outputs": [],
   "source": []
  }
 ],
 "metadata": {
  "kernelspec": {
   "display_name": "Python 3",
   "language": "python",
   "name": "python3"
  },
  "language_info": {
   "codemirror_mode": {
    "name": "ipython",
    "version": 3
   },
   "file_extension": ".py",
   "mimetype": "text/x-python",
   "name": "python",
   "nbconvert_exporter": "python",
   "pygments_lexer": "ipython3",
   "version": "3.8.5"
  }
 },
 "nbformat": 4,
 "nbformat_minor": 4
}
