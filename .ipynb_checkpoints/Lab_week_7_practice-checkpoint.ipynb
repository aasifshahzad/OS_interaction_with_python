{
 "cells": [
  {
   "cell_type": "code",
   "execution_count": 1,
   "metadata": {},
   "outputs": [],
   "source": [
    "#Exercise 1\n",
    "\n",
    "import fileinput\n",
    "import re\n",
    "import glob\n",
    "\n",
    "def grep(PATH, FILES):\n",
    "    result = {}\n",
    "    for line in fileinput.input(glob.glob(FILES)):\n",
    "        if re.search(PATH, line):\n",
    "            #print (fileinput.filename(), fileinput.lineno(), line)\n",
    "            #print (fileinput.lineno(), line)\n",
    "            result[line]= result.get(line,0) + 1\n",
    "    return result\n",
    "    "
   ]
  },
  {
   "cell_type": "code",
   "execution_count": 2,
   "metadata": {},
   "outputs": [
    {
     "data": {
      "text/plain": [
       "{'July 31 00:37:48 mycomputername utility[21449]: ERROR The cake is a lie!\\n': 1,\n",
       " 'July 31 01:24:05 mycomputername utility[14905]: INFO Healthy resource usage\\n': 1,\n",
       " 'July 31 02:23:37 mycomputername utility[37367]: INFO Starting sync\\n': 1,\n",
       " 'July 31 02:45:39 mycomputername utility[57387]: INFO Access permitted\\n': 1,\n",
       " \"July 31 03:42:45 mycomputername utility[53726]: INFO I'm sorry Dave. I'm afraid I can't do that\\n\": 1,\n",
       " 'July 31 04:12:05 mycomputername utility[63418]: INFO Successfully connected\\n': 1,\n",
       " 'July 31 04:14:22 mycomputername utility[53225]: ERROR I am error\\n': 1,\n",
       " 'July 31 05:14:16 mycomputername utility[91499]: ERROR Sorting a list\\n': 1,\n",
       " 'July 31 05:36:31 mycomputername utility[15156]: INFO Packets sent successfully\\n': 1,\n",
       " 'July 31 05:59:27 mycomputername utility[74219]: WARN Failed to start CPU thread[39016]\\n': 1,\n",
       " 'July 31 08:29:59 mycomputername utility[73121]: ERROR I am error\\n': 1,\n",
       " 'July 31 08:39:13 mycomputername utility[78233]: ERROR The cake is a lie!\\n': 1,\n",
       " 'July 31 09:26:46 mycomputername utility[53969]: WARN Low on memory\\n': 1,\n",
       " 'July 31 09:45:20 mycomputername utility[95200]: ERROR Out of yellow ink, specifically, even though you want grayscale\\n': 1,\n",
       " 'July 31 10:25:03 mycomputername utility[89273]: ERROR lp0 on fire\\n': 1,\n",
       " 'July 31 10:26:12 mycomputername utility[23086]: INFO Access permitted\\n': 1,\n",
       " 'July 31 10:58:29 mycomputername utility[78692]: INFO Writing Logs\\n': 1,\n",
       " 'July 31 11:25:08 mycomputername utility[65264]: INFO Checking process [16121]\\n': 1,\n",
       " 'July 31 15:23:54 mycomputername utility[20760]: ERROR lp0 on fire\\n': 1,\n",
       " 'July 31 16:43:19 mycomputername utility[31859]: ERROR Process failed\\n': 1,\n",
       " 'July 31 20:21:06 mycomputername utility[67718]: INFO Defragmenting hard drive\\n': 1,\n",
       " 'July 31 21:05:47 mycomputername utility[67348]: ERROR The cake is a lie!\\n': 1,\n",
       " 'July 31 22:14:37 mycomputername utility[78832]: INFO Healthy resource usage\\n': 1,\n",
       " 'July 31 23:28:49 mycomputername utility[40452]: INFO Checking process [16121]\\n': 1,\n",
       " 'July 31 23:29:25 mycomputername utility[22941]: WARN Failed to start CPU thread[39016]\\n': 1,\n",
       " 'July 31 23:40:05 mycomputername utility[88068]: INFO Generating Logs\\n': 1}"
      ]
     },
     "execution_count": 2,
     "metadata": {},
     "output_type": "execute_result"
    }
   ],
   "source": [
    "output_1 = grep(r\"(utility\\[(\\d){5}\\]:)\"+\"( (\\w+) )\"+\"([A-Za-z ,])*\",\"C:\\\\Users\\\\asif1\\\\Git\\\\OS_interaction_with_python\\\\log_file.txt\")\n",
    "output_1"
   ]
  },
  {
   "cell_type": "code",
   "execution_count": 3,
   "metadata": {},
   "outputs": [
    {
     "name": "stdout",
     "output_type": "stream",
     "text": [
      "{'July 31 07:51:48 mycomputer CRON[12345]: ERROR performing pakage upgrade USER (good_user)\\n': 4, 'July 31 07:51:48 mycomputer CRON[12345]: ERROR performing pakage upgrade USER (naughty_user)\\n': 8, 'July 31 07:51:48 mycomputer bad_process[12345]: ERROR performing pakage upgrade USER (UUID:0056)\\n': 3, 'July 31 07:51:48 mycomputer CRON[12345]: ERROR performing pakage upgrade USER (UUID:0056)\\n': 1, 'July 31 00:06:21 mycomputername kernel[96041]: WARN Failed to start network connection\\n': 1, 'July 31 00:09:53 mycomputername updater[46711]: WARN Computer needs to be turned off and on again\\n': 1, 'July 31 00:12:36 mycomputername kernel[48462]: INFO Successfully connected\\n': 1, 'July 31 00:13:52 mycomputername updater[43530]: ERROR Error running Python2.exe: Segmentation Fault (core dumped)\\n': 1, 'July 31 00:16:13 mycomputername NetworkManager[63902]: WARN Failed to start application install\\n': 1, \"July 31 00:26:45 mycomputername CRON[83063]: INFO I'm sorry Dave. I'm afraid I can't do that\\n\": 1, 'July 31 00:27:56 mycomputername cacheclient[75746]: WARN PC Load Letter\\n': 1, 'July 31 00:33:31 mycomputername system[25588]: ERROR Out of yellow ink, specifically, even though you want grayscale\\n': 1, 'July 31 00:36:55 mycomputername updater[73786]: WARN Packet loss\\n': 1, 'July 31 00:37:38 mycomputername dhcpclient[87602]: INFO Googling the answer\\n': 1, 'July 31 00:37:48 mycomputername utility[21449]: ERROR The cake is a lie!\\n': 1, 'July 31 00:44:50 mycomputername kernel[63793]: ERROR Failed process [13966]\\n': 1, 'July 31 00:45:23 mycomputername cacheclient[55644]: ERROR Unable to download more RAM\\n': 1, 'July 31 00:51:23 mycomputername cacheclient[85917]: ERROR Failed process [13966]\\n': 1, 'July 31 01:06:51 mycomputername cacheclient[47853]: WARN Computer needs to be turned off and on again\\n': 1, 'July 31 01:07:17 mycomputername system[78132]: INFO Packets sent successfully\\n': 1, 'July 31 01:19:34 mycomputername CRON[94028]: WARN Failed to start network connection\\n': 1, 'July 31 01:24:05 mycomputername utility[14905]: INFO Healthy resource usage\\n': 1, 'July 31 01:29:04 mycomputername kernel[57436]: INFO Generating Logs\\n': 1, 'July 31 01:36:27 mycomputername process[81163]: ERROR Unable to download more RAM\\n': 1, 'July 31 01:40:38 mycomputername kernel[35287]: ERROR ID: 10t\\n': 1, \"July 31 01:42:02 mycomputername jam_tag=psim[27947]: INFO I'm sorry Dave. I'm afraid I can't do that\\n\": 1, 'July 31 01:42:28 mycomputername kernel[16004]: WARN Computer needs to be turned off and on again\\n': 1, 'July 31 01:45:14 mycomputername cacheclient[28721]: INFO Googling the answer\\n': 1, 'July 31 02:01:20 mycomputername NetworkManager[55118]: ERROR Unable to perform package upgrade\\n': 1, 'July 31 02:12:54 mycomputername kernel[30641]: WARN Low on memory\\n': 1, 'July 31 02:23:37 mycomputername utility[37367]: INFO Starting sync\\n': 1, 'July 31 02:25:52 mycomputername system[41921]: WARN Failed to start CPU thread[39016]\\n': 1, 'July 31 02:34:37 mycomputername kernel[32280]: INFO Loading...\\n': 1, 'July 31 02:36:44 mycomputername NetworkManager[90289]: WARN Failed to start CPU thread[39016]\\n': 1, 'July 31 02:39:01 mycomputername CRON[89330]: ERROR Unable to perform package upgrade\\n': 1, 'July 31 02:45:39 mycomputername utility[57387]: INFO Access permitted\\n': 1, 'July 31 02:58:44 mycomputername process[44707]: WARN Computer needs to be turned off and on again\\n': 1, 'July 31 02:59:35 mycomputername system[55024]: WARN Packet loss\\n': 1, 'July 31 03:09:30 mycomputername kernel[40705]: ERROR The cake is a lie!\\n': 1, 'July 31 03:23:16 mycomputername cacheclient[57185]: INFO Checking process [16121]\\n': 1, 'July 31 03:26:56 mycomputername cacheclient[90154]: INFO Healthy resource usage\\n': 1, 'July 31 03:28:52 mycomputername CRON[55441]: INFO Loading...\\n': 1, 'July 31 03:29:34 mycomputername dhcpclient[69232]: ERROR Unable to download more RAM\\n': 1, 'July 31 03:34:41 mycomputername NetworkManager[14120]: ERROR 404 error not found\\n': 1, 'July 31 03:36:26 mycomputername dhcpclient[79731]: ERROR The cake is a lie!\\n': 1, 'July 31 03:38:24 mycomputername CRON[92141]: INFO Access permitted\\n': 1, 'July 31 03:40:00 mycomputername dhcpclient[40114]: INFO Starting sync\\n': 1, \"July 31 03:42:45 mycomputername utility[53726]: INFO I'm sorry Dave. I'm afraid I can't do that\\n\": 1, 'July 31 03:47:07 mycomputername NetworkManager[63805]: WARN Please reboot user\\n': 1, 'July 31 04:09:16 mycomputername CRON[52593]: WARN PC Load Letter\\n': 1, 'July 31 04:11:32 mycomputername jam_tag=psim[84082]: ERROR ID: 10t\\n': 1, 'July 31 04:12:05 mycomputername utility[63418]: INFO Successfully connected\\n': 1, 'July 31 04:14:22 mycomputername utility[53225]: ERROR I am error\\n': 1, 'July 31 04:31:00 mycomputername NetworkManager[23060]: ERROR Out of yellow ink, specifically, even though you want grayscale\\n': 1, 'July 31 04:36:49 mycomputername dhcpclient[89091]: ERROR Failed process [13966]\\n': 1, 'July 31 04:37:34 mycomputername cacheclient[63496]: ERROR Sorting a list\\n': 1, 'July 31 04:45:37 mycomputername CRON[78322]: INFO Checking process [16121]\\n': 1, 'July 31 04:51:20 mycomputername kernel[66473]: WARN System overheating\\n': 1, 'July 31 05:00:28 mycomputername NetworkManager[76363]: ERROR The cake is a lie!\\n': 1, 'July 31 05:10:52 mycomputername jam_tag=psim[26712]: ERROR Process failed\\n': 1, 'July 31 05:14:16 mycomputername utility[91499]: ERROR Sorting a list\\n': 1, 'July 31 05:15:02 mycomputername system[76042]: WARN System overheating\\n': 1, 'July 31 05:18:19 mycomputername kernel[59870]: INFO Starting sync\\n': 1, 'July 31 05:27:34 mycomputername NetworkManager[67593]: INFO Writing Logs\\n': 1, 'July 31 05:32:16 mycomputername process[21939]: ERROR Failed process [13966]\\n': 1, 'July 31 05:34:23 mycomputername NetworkManager[96505]: INFO Plenty of disk space left\\n': 1, 'July 31 05:36:31 mycomputername utility[15156]: INFO Packets sent successfully\\n': 1, 'July 31 05:43:29 mycomputername dhcpclient[35484]: ERROR Encapsulating packets\\n': 1, 'July 31 05:44:07 mycomputername cacheclient[97637]: ERROR Operation completed successfully\\n': 1, 'July 31 05:58:25 mycomputername process[99181]: ERROR Process failed\\n': 1, 'July 31 05:59:27 mycomputername utility[74219]: WARN Failed to start CPU thread[39016]\\n': 1, 'July 31 06:20:09 mycomputername jam_tag=psim[34744]: INFO Loading...\\n': 1, 'July 31 06:31:02 mycomputername jam_tag=psim[40033]: ERROR Syntax issue\\n': 1, 'July 31 06:38:58 mycomputername CRON[31832]: INFO Memory allocated\\n': 1, 'July 31 06:38:58 mycomputername updater[10115]: ERROR Unable to perform package upgrade\\n': 1, 'July 31 06:43:49 mycomputername jam_tag=psim[59857]: INFO Successfully connected\\n': 1, 'July 31 06:46:06 mycomputername CRON[12372]: ERROR Unable to perform package upgrade\\n': 1, 'July 31 06:48:38 mycomputername NetworkManager[95699]: WARN Failed to start network connection\\n': 1, 'July 31 07:01:16 mycomputername system[39619]: INFO Plenty of disk space left\\n': 1, 'July 31 07:08:07 mycomputername jam_tag=psim[39984]: INFO Memory allocated\\n': 1, 'July 31 07:08:10 mycomputername cacheclient[17912]: INFO Generating Logs\\n': 1, 'July 31 07:10:12 mycomputername process[60665]: INFO Failed to start process[85253]\\n': 1, 'July 31 07:11:12 mycomputername dhcpclient[98633]: WARN System overheating\\n': 1, 'July 31 07:24:38 mycomputername jam_tag=psim[83107]: ERROR ID: 10t\\n': 1, 'July 31 07:34:37 mycomputername process[22428]: INFO Failed to start process[85253]\\n': 1, 'July 31 07:34:52 mycomputername updater[42267]: ERROR I am error\\n': 1, 'July 31 07:35:27 mycomputername jam_tag=psim[96969]: INFO Loading...\\n': 1, 'July 31 07:37:13 mycomputername updater[11461]: ERROR Unable to perform package upgrade\\n': 1, 'July 31 07:46:27 mycomputername jam_tag=psim[21363]: INFO Packets sent successfully\\n': 1, 'July 31 07:50:05 mycomputername system[68973]: INFO Compiling code\\n': 1, 'July 31 08:02:17 mycomputername kernel[84055]: INFO Checking process [16121]\\n': 1, 'July 31 08:14:45 mycomputername process[84233]: ERROR Out of ink\\n': 1, 'July 31 08:21:11 mycomputername system[78476]: ERROR Error running Python2.exe: Segmentation Fault (core dumped)\\n': 1, 'July 31 08:29:59 mycomputername utility[73121]: ERROR I am error\\n': 1, 'July 31 08:33:24 mycomputername system[55880]: INFO Defragmenting hard drive\\n': 1, 'July 31 08:39:13 mycomputername utility[78233]: ERROR The cake is a lie!\\n': 1, 'July 31 08:49:55 mycomputername kernel[88866]: INFO Starting sync\\n': 1, 'July 31 08:55:07 mycomputername system[24562]: ERROR Process failed\\n': 1, 'July 31 08:56:17 mycomputername jam_tag=psim[67538]: WARN Packet loss\\n': 1, \"July 31 09:01:06 mycomputername NetworkManager[89092]: INFO I'm sorry Dave. I'm afraid I can't do that\\n\": 1, 'July 31 09:26:46 mycomputername utility[53969]: WARN Low on memory\\n': 1, 'July 31 09:29:37 mycomputername CRON[89099]: INFO Packets sent successfully\\n': 1, 'July 31 09:37:31 mycomputername updater[46513]: ERROR Out of yellow ink, specifically, even though you want grayscale\\n': 1, 'July 31 09:45:20 mycomputername utility[95200]: ERROR Out of yellow ink, specifically, even though you want grayscale\\n': 1, 'July 31 09:47:30 mycomputername system[61238]: ERROR I am error\\n': 1, 'July 31 09:51:01 mycomputername dhcpclient[83799]: WARN Packet loss\\n': 1, 'July 31 09:54:04 mycomputername system[18585]: ERROR 404 error not found\\n': 1, 'July 31 09:54:06 mycomputername updater[84188]: ERROR 404 error not found\\n': 1, 'July 31 09:57:08 mycomputername dhcpclient[26102]: WARN Failed to start application install\\n': 1, 'July 31 10:21:57 mycomputername NetworkManager[62856]: WARN Failed to start network connection\\n': 1, 'July 31 10:25:03 mycomputername utility[89273]: ERROR lp0 on fire\\n': 1, 'July 31 10:26:12 mycomputername utility[23086]: INFO Access permitted\\n': 1, 'July 31 10:30:37 mycomputername system[48235]: WARN Please reboot user\\n': 1, 'July 31 10:41:32 mycomputername NetworkManager[70251]: ERROR Sorting a list\\n': 1, 'July 31 10:53:36 mycomputername system[78903]: ERROR Encapsulating packets\\n': 1, 'July 31 10:56:12 mycomputername jam_tag=psim[97572]: WARN Failed to start network connection\\n': 1, 'July 31 10:56:29 mycomputername updater[55938]: ERROR Unable to download more RAM\\n': 1, 'July 31 10:58:29 mycomputername utility[78692]: INFO Writing Logs\\n': 1, 'July 31 11:05:09 mycomputername cacheclient[34385]: WARN System overheating\\n': 1, 'July 31 11:14:39 mycomputername process[22102]: WARN System overheating\\n': 1, \"July 31 11:18:34 mycomputername process[32468]: ERROR 418: I'm a teapot\\n\": 1, 'July 31 11:19:56 mycomputername system[15816]: ERROR I am error\\n': 1, 'July 31 11:20:11 mycomputername kernel[77339]: ERROR Out of ink\\n': 1, 'July 31 11:25:08 mycomputername utility[65264]: INFO Checking process [16121]\\n': 1, 'July 31 11:27:52 mycomputername CRON[65812]: ERROR ID: 10t\\n': 1, 'July 31 11:43:32 mycomputername CRON[72993]: WARN Failed to start network connection\\n': 1, 'July 31 11:50:34 mycomputername CRON[51748]: ERROR ID: 10t\\n': 1, 'July 31 12:00:29 mycomputername NetworkManager[96959]: ERROR Operation completed successfully\\n': 1, 'July 31 12:04:22 mycomputername updater[51112]: ERROR lp0 on fire\\n': 1, \"July 31 12:07:01 mycomputername updater[47209]: ERROR 418: I'm a teapot\\n\": 1, 'July 31 12:15:19 mycomputername updater[76427]: WARN Low on memory\\n': 1, 'July 31 12:21:53 mycomputername system[33216]: WARN PC Load Letter\\n': 1, \"July 31 12:42:41 mycomputername system[38483]: ERROR AssertionError 'False' is not 'True'\\n\": 1, 'July 31 12:47:53 mycomputername dhcpclient[17238]: WARN PC Load Letter\\n': 1, 'July 31 12:48:04 mycomputername system[68448]: ERROR lp0 on fire\\n': 1, 'July 31 12:54:55 mycomputername updater[93309]: WARN Please send help I am stuck inside the internet\\n': 1, 'July 31 13:00:34 mycomputername system[62593]: ERROR Out of yellow ink, specifically, even though you want grayscale\\n': 1, 'July 31 13:04:58 mycomputername cacheclient[63249]: INFO Access permitted\\n': 1, 'July 31 13:08:06 mycomputername cacheclient[32689]: INFO Loading...\\n': 1, 'July 31 13:14:54 mycomputername system[84324]: ERROR 404 error not found\\n': 1, 'July 31 13:23:12 mycomputername system[56046]: ERROR Unable to perform package upgrade\\n': 1, \"July 31 13:36:17 mycomputername CRON[53567]: ERROR You seriously weren't expecting to find anything useful in here, were you?\\n\": 1, \"July 31 13:39:39 mycomputername process[94615]: ERROR AssertionError 'False' is not 'True'\\n\": 1, 'July 31 14:34:36 mycomputername dhcpclient[37575]: ERROR 404 error not found\\n': 1, 'July 31 14:44:34 mycomputername kernel[34400]: INFO Successfully connected\\n': 1, 'July 31 15:18:00 mycomputername process[56145]: WARN Please send help I am stuck inside the internet\\n': 1, 'July 31 15:21:55 mycomputername CRON[38897]: INFO Failed to start process[85253]\\n': 1, 'July 31 15:23:54 mycomputername utility[20760]: ERROR lp0 on fire\\n': 1, 'July 31 15:45:53 mycomputername jam_tag=psim[18544]: INFO Hello world\\n': 1, 'July 31 15:51:37 mycomputername kernel[79314]: WARN Failed to start CPU thread[39016]\\n': 1, 'July 31 16:02:05 mycomputername cacheclient[80348]: INFO Starting sync\\n': 1, 'July 31 16:07:01 mycomputername process[11843]: ERROR Process failed\\n': 1, 'July 31 16:20:37 mycomputername dhcpclient[36371]: ERROR Unable to download more RAM\\n': 1, 'July 31 16:24:34 mycomputername updater[83956]: INFO Access permitted\\n': 1, 'July 31 16:30:59 mycomputername updater[61327]: INFO Starting sync\\n': 1, 'July 31 16:36:57 mycomputername system[27219]: ERROR Process failed\\n': 1, 'July 31 16:39:10 mycomputername jam_tag=psim[76787]: INFO Checking process [16121]\\n': 1, 'July 31 16:43:19 mycomputername utility[31859]: ERROR Process failed\\n': 1, 'July 31 16:45:49 mycomputername process[29993]: WARN Failed to start network connection\\n': 1, 'July 31 17:13:27 mycomputername system[77845]: WARN Failed to start CPU thread[39016]\\n': 1, 'July 31 17:25:11 mycomputername jam_tag=psim[70693]: ERROR Syntax issue\\n': 1, 'July 31 17:55:16 mycomputername jam_tag=psim[58396]: ERROR 404 error not found\\n': 1, 'July 31 17:55:32 mycomputername system[56762]: WARN Low on memory\\n': 1, 'July 31 18:03:28 mycomputername process[79703]: ERROR lp0 on fire\\n': 1, 'July 31 18:04:46 mycomputername updater[79077]: ERROR Operation completed successfully\\n': 1, 'July 31 18:51:04 mycomputername cacheclient[83250]: ERROR Sorting a list\\n': 1, 'July 31 18:51:46 mycomputername cacheclient[57597]: INFO Access permitted\\n': 1, 'July 31 18:56:23 mycomputername kernel[87834]: WARN Failed to start network connection\\n': 1, 'July 31 19:04:43 mycomputername kernel[36465]: WARN Packet loss\\n': 1, 'July 31 19:24:44 mycomputername cacheclient[47526]: INFO Googling the answer\\n': 1, 'July 31 19:44:47 mycomputername system[50340]: ERROR lp0 on fire\\n': 1, 'July 31 19:48:46 mycomputername CRON[88206]: ERROR Failed process [13966]\\n': 1, 'July 31 19:51:07 mycomputername NetworkManager[38455]: INFO Access permitted\\n': 1, 'July 31 19:55:34 mycomputername jam_tag=psim[21289]: INFO Plenty of disk space left\\n': 1, 'July 31 19:56:47 mycomputername CRON[61924]: ERROR Out of yellow ink, specifically, even though you want grayscale\\n': 1, 'July 31 20:02:26 mycomputername cacheclient[50070]: ERROR Encapsulating packets\\n': 1, 'July 31 20:05:36 mycomputername updater[23489]: INFO Healthy resource usage\\n': 1, 'July 31 20:21:06 mycomputername utility[67718]: INFO Defragmenting hard drive\\n': 1, \"July 31 20:38:05 mycomputername kernel[30846]: ERROR AssertionError 'False' is not 'True'\\n\": 1, 'July 31 20:42:44 mycomputername CRON[95019]: INFO Access permitted\\n': 1, 'July 31 20:48:06 mycomputername kernel[51099]: WARN PC Load Letter\\n': 1, 'July 31 20:57:02 mycomputername CRON[23996]: INFO Googling the answer\\n': 1, 'July 31 21:05:47 mycomputername utility[67348]: ERROR The cake is a lie!\\n': 1, 'July 31 21:06:46 mycomputername kernel[80105]: ERROR lp0 on fire\\n': 1, 'July 31 21:26:11 mycomputername process[18312]: WARN Computer needs to be turned off and on again\\n': 1, 'July 31 21:28:55 mycomputername jam_tag=psim[89637]: INFO Packets sent successfully\\n': 1, 'July 31 21:48:30 mycomputername kernel[33330]: ERROR Syntax issue\\n': 1, 'July 31 22:05:31 mycomputername process[37921]: ERROR Process failed\\n': 1, 'July 31 22:07:54 mycomputername cacheclient[12017]: ERROR Process failed\\n': 1, 'July 31 22:14:37 mycomputername utility[78832]: INFO Healthy resource usage\\n': 1, 'July 31 22:22:34 mycomputername updater[78750]: ERROR ID: 10t\\n': 1, 'July 31 22:41:00 mycomputername jam_tag=psim[40956]: ERROR The cake is a lie!\\n': 1, \"July 31 22:42:51 mycomputername NetworkManager[28895]: INFO I'm sorry Dave. I'm afraid I can't do that\\n\": 1, 'July 31 23:15:22 mycomputername jam_tag=psim[75013]: ERROR Failed process [13966]\\n': 1, \"July 31 23:17:05 mycomputername system[88316]: ERROR 418: I'm a teapot\\n\": 1, 'July 31 23:20:09 mycomputername system[42918]: ERROR Out of ink\\n': 1, 'July 31 23:28:49 mycomputername utility[40452]: INFO Checking process [16121]\\n': 1, 'July 31 23:29:25 mycomputername utility[22941]: WARN Failed to start CPU thread[39016]\\n': 1, 'July 31 23:30:46 mycomputername process[99294]: WARN Computer needs to be turned off and on again\\n': 1, 'July 31 23:35:49 mycomputername dhcpclient[10726]: INFO Googling the answer\\n': 1, \"July 31 23:36:29 mycomputername updater[86053]: ERROR AssertionError 'False' is not 'True'\\n\": 1, 'July 31 23:40:05 mycomputername utility[88068]: INFO Generating Logs\\n': 1, 'July 31 23:48:17 mycomputername CRON[28813]: WARN Please send help I am stuck inside the internet\\n': 1, 'July 31 23:53:58 mycomputername CRON[59985]: INFO Successfully connected\\n': 1}\n"
     ]
    }
   ],
   "source": [
    "output_2 = grep(r\"(([a-zA-z_]){4,}\\[(\\d){5}\\]:)\"+\"( (\\w+) )\"+\"([A-Za-z ,]*)\",\"C:\\\\Users\\\\asif1\\\\Git\\\\OS_interaction_with_python\\\\log_file.txt\")\n",
    "print (output_2)"
   ]
  },
  {
   "cell_type": "code",
   "execution_count": 48,
   "metadata": {},
   "outputs": [
    {
     "ename": "IndentationError",
     "evalue": "unexpected indent (<ipython-input-48-4331f48504d2>, line 4)",
     "output_type": "error",
     "traceback": [
      "\u001b[1;36m  File \u001b[1;32m\"<ipython-input-48-4331f48504d2>\"\u001b[1;36m, line \u001b[1;32m4\u001b[0m\n\u001b[1;33m    return \"a\"\u001b[0m\n\u001b[1;37m    ^\u001b[0m\n\u001b[1;31mIndentationError\u001b[0m\u001b[1;31m:\u001b[0m unexpected indent\n"
     ]
    }
   ],
   "source": [
    "output_2 = grep(r\"(([a-zA-z_]){4,}\\[(\\d){5}\\]:)\"+\"( (\\w+) )\"+\"([A-Za-z ,]*)\",\"C:\\\\Users\\\\asif1\\\\Git\\\\OS_interaction_with_python\\\\log_file.txt\")\n",
    "for each_instance in output_2.keys():\n",
    "    result_5 = re.split(r\"((([a-zA-z_]){4,}\\[(\\d){5}\\]):)\"+\"( (\\w+) )\"+\"([A-Za-z ,]*)\",each_instance)\n",
    "        return \"a\"\n",
    "    "
   ]
  },
  {
   "cell_type": "code",
   "execution_count": 53,
   "metadata": {},
   "outputs": [
    {
     "ename": "SyntaxError",
     "evalue": "'return' outside function (<ipython-input-53-f32bbba3f961>, line 3)",
     "output_type": "error",
     "traceback": [
      "\u001b[1;36m  File \u001b[1;32m\"<ipython-input-53-f32bbba3f961>\"\u001b[1;36m, line \u001b[1;32m3\u001b[0m\n\u001b[1;33m    return elemennt\u001b[0m\n\u001b[1;37m    ^\u001b[0m\n\u001b[1;31mSyntaxError\u001b[0m\u001b[1;31m:\u001b[0m 'return' outside function\n"
     ]
    }
   ],
   "source": [
    "x = [1,2,3,4,5,6,7,8,9,0]\n",
    "for elemennt in x:\n",
    "    return elemennt"
   ]
  },
  {
   "cell_type": "code",
   "execution_count": 4,
   "metadata": {},
   "outputs": [
    {
     "name": "stdout",
     "output_type": "stream",
     "text": [
      "CRON[12345]ERROR\n",
      "CRON[12345]ERROR\n",
      "bad_process[12345]ERROR\n",
      "CRON[12345]ERROR\n",
      "kernel[96041]WARN\n",
      "updater[46711]WARN\n",
      "kernel[48462]INFO\n",
      "updater[43530]ERROR\n",
      "NetworkManager[63902]WARN\n",
      "CRON[83063]INFO\n",
      "cacheclient[75746]WARN\n",
      "system[25588]ERROR\n",
      "updater[73786]WARN\n",
      "dhcpclient[87602]INFO\n",
      "utility[21449]ERROR\n",
      "kernel[63793]ERROR\n",
      "cacheclient[55644]ERROR\n",
      "cacheclient[85917]ERROR\n",
      "cacheclient[47853]WARN\n",
      "system[78132]INFO\n",
      "CRON[94028]WARN\n",
      "utility[14905]INFO\n",
      "kernel[57436]INFO\n",
      "process[81163]ERROR\n",
      "kernel[35287]ERROR\n",
      "psim[27947]INFO\n",
      "kernel[16004]WARN\n",
      "cacheclient[28721]INFO\n",
      "NetworkManager[55118]ERROR\n",
      "kernel[30641]WARN\n",
      "utility[37367]INFO\n",
      "system[41921]WARN\n",
      "kernel[32280]INFO\n",
      "NetworkManager[90289]WARN\n",
      "CRON[89330]ERROR\n",
      "utility[57387]INFO\n",
      "process[44707]WARN\n",
      "system[55024]WARN\n",
      "kernel[40705]ERROR\n",
      "cacheclient[57185]INFO\n",
      "cacheclient[90154]INFO\n",
      "CRON[55441]INFO\n",
      "dhcpclient[69232]ERROR\n",
      "NetworkManager[14120]ERROR\n",
      "dhcpclient[79731]ERROR\n",
      "CRON[92141]INFO\n",
      "dhcpclient[40114]INFO\n",
      "utility[53726]INFO\n",
      "NetworkManager[63805]WARN\n",
      "CRON[52593]WARN\n",
      "psim[84082]ERROR\n",
      "utility[63418]INFO\n",
      "utility[53225]ERROR\n",
      "NetworkManager[23060]ERROR\n",
      "dhcpclient[89091]ERROR\n",
      "cacheclient[63496]ERROR\n",
      "CRON[78322]INFO\n",
      "kernel[66473]WARN\n",
      "NetworkManager[76363]ERROR\n",
      "psim[26712]ERROR\n",
      "utility[91499]ERROR\n",
      "system[76042]WARN\n",
      "kernel[59870]INFO\n",
      "NetworkManager[67593]INFO\n",
      "process[21939]ERROR\n",
      "NetworkManager[96505]INFO\n",
      "utility[15156]INFO\n",
      "dhcpclient[35484]ERROR\n",
      "cacheclient[97637]ERROR\n",
      "process[99181]ERROR\n",
      "utility[74219]WARN\n",
      "psim[34744]INFO\n",
      "psim[40033]ERROR\n",
      "CRON[31832]INFO\n",
      "updater[10115]ERROR\n",
      "psim[59857]INFO\n",
      "CRON[12372]ERROR\n",
      "NetworkManager[95699]WARN\n",
      "system[39619]INFO\n",
      "psim[39984]INFO\n",
      "cacheclient[17912]INFO\n",
      "process[60665]INFO\n",
      "dhcpclient[98633]WARN\n",
      "psim[83107]ERROR\n",
      "process[22428]INFO\n",
      "updater[42267]ERROR\n",
      "psim[96969]INFO\n",
      "updater[11461]ERROR\n",
      "psim[21363]INFO\n",
      "system[68973]INFO\n",
      "kernel[84055]INFO\n",
      "process[84233]ERROR\n",
      "system[78476]ERROR\n",
      "utility[73121]ERROR\n",
      "system[55880]INFO\n",
      "utility[78233]ERROR\n",
      "kernel[88866]INFO\n",
      "system[24562]ERROR\n",
      "psim[67538]WARN\n",
      "NetworkManager[89092]INFO\n",
      "utility[53969]WARN\n",
      "CRON[89099]INFO\n",
      "updater[46513]ERROR\n",
      "utility[95200]ERROR\n",
      "system[61238]ERROR\n",
      "dhcpclient[83799]WARN\n",
      "system[18585]ERROR\n",
      "updater[84188]ERROR\n",
      "dhcpclient[26102]WARN\n",
      "NetworkManager[62856]WARN\n",
      "utility[89273]ERROR\n",
      "utility[23086]INFO\n",
      "system[48235]WARN\n",
      "NetworkManager[70251]ERROR\n",
      "system[78903]ERROR\n",
      "psim[97572]WARN\n",
      "updater[55938]ERROR\n",
      "utility[78692]INFO\n",
      "cacheclient[34385]WARN\n",
      "process[22102]WARN\n",
      "process[32468]ERROR\n",
      "system[15816]ERROR\n",
      "kernel[77339]ERROR\n",
      "utility[65264]INFO\n",
      "CRON[65812]ERROR\n",
      "CRON[72993]WARN\n",
      "CRON[51748]ERROR\n",
      "NetworkManager[96959]ERROR\n",
      "updater[51112]ERROR\n",
      "updater[47209]ERROR\n",
      "updater[76427]WARN\n",
      "system[33216]WARN\n",
      "system[38483]ERROR\n",
      "dhcpclient[17238]WARN\n",
      "system[68448]ERROR\n",
      "updater[93309]WARN\n",
      "system[62593]ERROR\n",
      "cacheclient[63249]INFO\n",
      "cacheclient[32689]INFO\n",
      "system[84324]ERROR\n",
      "system[56046]ERROR\n",
      "CRON[53567]ERROR\n",
      "process[94615]ERROR\n",
      "dhcpclient[37575]ERROR\n",
      "kernel[34400]INFO\n",
      "process[56145]WARN\n",
      "CRON[38897]INFO\n",
      "utility[20760]ERROR\n",
      "psim[18544]INFO\n",
      "kernel[79314]WARN\n",
      "cacheclient[80348]INFO\n",
      "process[11843]ERROR\n",
      "dhcpclient[36371]ERROR\n",
      "updater[83956]INFO\n",
      "updater[61327]INFO\n",
      "system[27219]ERROR\n",
      "psim[76787]INFO\n",
      "utility[31859]ERROR\n",
      "process[29993]WARN\n",
      "system[77845]WARN\n",
      "psim[70693]ERROR\n",
      "psim[58396]ERROR\n",
      "system[56762]WARN\n",
      "process[79703]ERROR\n",
      "updater[79077]ERROR\n",
      "cacheclient[83250]ERROR\n",
      "cacheclient[57597]INFO\n",
      "kernel[87834]WARN\n",
      "kernel[36465]WARN\n",
      "cacheclient[47526]INFO\n",
      "system[50340]ERROR\n",
      "CRON[88206]ERROR\n",
      "NetworkManager[38455]INFO\n",
      "psim[21289]INFO\n",
      "CRON[61924]ERROR\n",
      "cacheclient[50070]ERROR\n",
      "updater[23489]INFO\n",
      "utility[67718]INFO\n",
      "kernel[30846]ERROR\n",
      "CRON[95019]INFO\n",
      "kernel[51099]WARN\n",
      "CRON[23996]INFO\n",
      "utility[67348]ERROR\n",
      "kernel[80105]ERROR\n",
      "process[18312]WARN\n",
      "psim[89637]INFO\n",
      "kernel[33330]ERROR\n",
      "process[37921]ERROR\n",
      "cacheclient[12017]ERROR\n",
      "utility[78832]INFO\n",
      "updater[78750]ERROR\n",
      "psim[40956]ERROR\n",
      "NetworkManager[28895]INFO\n",
      "psim[75013]ERROR\n",
      "system[88316]ERROR\n",
      "system[42918]ERROR\n",
      "utility[40452]INFO\n",
      "utility[22941]WARN\n",
      "process[99294]WARN\n",
      "dhcpclient[10726]INFO\n",
      "updater[86053]ERROR\n",
      "utility[88068]INFO\n",
      "CRON[28813]WARN\n",
      "CRON[59985]INFO\n"
     ]
    }
   ],
   "source": [
    "for each_instance in output_2.keys():\n",
    "    output_3 = {}\n",
    "    keys = []\n",
    "    values = []\n",
    "    result_4 = re.search(r\"((([a-zA-z_]){4,}\\[(\\d){5}\\]):)\"+\"( (\\w+) )\"+\"([A-Za-z ,]*)\",each_instance)\n",
    "    print(result_4[2] + result_4[6])\n",
    "    "
   ]
  },
  {
   "cell_type": "code",
   "execution_count": 40,
   "metadata": {},
   "outputs": [
    {
     "data": {
      "text/plain": [
       "['July 31 23:53:58 mycomputername ',\n",
       " 'CRON[59985]:',\n",
       " 'CRON[59985]',\n",
       " 'N',\n",
       " '5',\n",
       " ' INFO ',\n",
       " 'INFO',\n",
       " 'Successfully connected',\n",
       " '\\n']"
      ]
     },
     "execution_count": 40,
     "metadata": {},
     "output_type": "execute_result"
    }
   ],
   "source": [
    "output_2 = grep(r\"(([a-zA-z_]){4,}\\[(\\d){5}\\]:)\"+\"( (\\w+) )\"+\"([A-Za-z ,]*)\",\"C:\\\\Users\\\\asif1\\\\Git\\\\OS_interaction_with_python\\\\log_file.txt\")\n",
    "for each_instance in output_2.keys():\n",
    "    keys = []\n",
    "    result_5 = re.split(r\"((([a-zA-z_]){4,}\\[(\\d){5}\\]):)\"+\"( (\\w+) )\"+\"([A-Za-z ,]*)\",each_instance)\n",
    "result_5\n",
    "    "
   ]
  },
  {
   "cell_type": "code",
   "execution_count": 25,
   "metadata": {},
   "outputs": [
    {
     "ename": "IndentationError",
     "evalue": "unexpected indent (<ipython-input-25-0a78a4a9604f>, line 2)",
     "output_type": "error",
     "traceback": [
      "\u001b[1;36m  File \u001b[1;32m\"<ipython-input-25-0a78a4a9604f>\"\u001b[1;36m, line \u001b[1;32m2\u001b[0m\n\u001b[1;33m    print(keys)\u001b[0m\n\u001b[1;37m    ^\u001b[0m\n\u001b[1;31mIndentationError\u001b[0m\u001b[1;31m:\u001b[0m unexpected indent\n"
     ]
    }
   ],
   "source": [
    "keys += keys.append(result_4[2])\n",
    "    print(keys)\n",
    "    values.append(result_4[6])\n",
    "    output_3[result_4[2]] = result_4[6]\n",
    "    print(output_3)   \n",
    "    #result[line]= result.get(line,0) + 1"
   ]
  },
  {
   "cell_type": "code",
   "execution_count": null,
   "metadata": {},
   "outputs": [],
   "source": []
  },
  {
   "cell_type": "code",
   "execution_count": 7,
   "metadata": {},
   "outputs": [
    {
     "name": "stdout",
     "output_type": "stream",
     "text": [
      "utility[95200]: ERROR Out of yellow ink, specifically, even though you want grayscale\n",
      ": ERROR Out of yellow ink, specifically, even though you want grayscale\n",
      "utility[95200]: ERROR Out of yellow ink, specifically, even though you want grayscale\n",
      "#utility[95200]: # ERROR  #Out of yellow ink, specifically, even though you want grayscale\n",
      "#utility[95200]: # ERROR Out of yellow ink, specifically, even though you want grayscale\n"
     ]
    }
   ],
   "source": [
    "line = \"117 July 31 09:45:20 mycomputername utility[95200]: ERROR Out of yellow ink, specifically, even though you want grayscale\"\n",
    "result_1 = re.search(r\"([a-zA-z]){4,}\\[(\\d){5}\\]: ERROR \"+\"([A-Za-z ,])*\", line)\n",
    "result_2 = re.search(r\":\"+\" (\\w+) \"+\"([A-Za-z ,])*\", line)\n",
    "result_3 = re.search(r\"(([a-zA-z]){4,}\\[(\\d){5}\\]:)\"+\"( \\w+ )\"+\"([A-Za-z ,]*)\",line)\n",
    "print(result_1[0])\n",
    "print(result_2[0])\n",
    "print(result_3[0])\n",
    "print(\"#{} #{} #{}\".format(result_3[1],result_3[4],result_3[5])) \n",
    "print(\"#{} #{}\".format(result_3[1],(result_3[4]+result_3[5]))) "
   ]
  },
  {
   "cell_type": "code",
   "execution_count": 27,
   "metadata": {},
   "outputs": [
    {
     "name": "stdout",
     "output_type": "stream",
     "text": [
      "[('apples', 5), ('bananas', 7), ('oranges', 3), ('pears', 2)]\n",
      "['apples', 'bananas', 'oranges', 'pears']\n",
      "[2, 3, 5, 7]\n"
     ]
    }
   ],
   "source": [
    "#Exercise 2\n",
    "\n",
    "fruit = {\"oranges\": 3, \"apples\": 5, \"bananas\": 7, \"pears\": 2}\n",
    "print(sorted(fruit.items()))\n",
    "print(sorted(fruit.keys()))\n",
    "print(sorted(fruit.values()))\n"
   ]
  },
  {
   "cell_type": "code",
   "execution_count": 28,
   "metadata": {},
   "outputs": [
    {
     "data": {
      "text/plain": [
       "[('apples', 5), ('bananas', 7), ('oranges', 3), ('pears', 2)]"
      ]
     },
     "execution_count": 28,
     "metadata": {},
     "output_type": "execute_result"
    }
   ],
   "source": [
    "import operator\n",
    "sorted(fruit.items(), key=operator.itemgetter(0))"
   ]
  },
  {
   "cell_type": "code",
   "execution_count": 29,
   "metadata": {},
   "outputs": [
    {
     "data": {
      "text/plain": [
       "[('pears', 2), ('oranges', 3), ('apples', 5), ('bananas', 7)]"
      ]
     },
     "execution_count": 29,
     "metadata": {},
     "output_type": "execute_result"
    }
   ],
   "source": [
    "sorted(fruit.items(), key=operator.itemgetter(1))"
   ]
  },
  {
   "cell_type": "code",
   "execution_count": 10,
   "metadata": {},
   "outputs": [
    {
     "data": {
      "text/plain": [
       "[('bananas', 7), ('apples', 5), ('oranges', 3), ('pears', 2)]"
      ]
     },
     "execution_count": 10,
     "metadata": {},
     "output_type": "execute_result"
    }
   ],
   "source": [
    "sorted(fruit.items(), key = operator.itemgetter(1), reverse=True)"
   ]
  },
  {
   "cell_type": "code",
   "execution_count": 30,
   "metadata": {},
   "outputs": [
    {
     "name": "stderr",
     "output_type": "stream",
     "text": [
      "'pwd' is not recognized as an internal or external command,\n",
      "operable program or batch file.\n"
     ]
    }
   ],
   "source": [
    "!pwd"
   ]
  },
  {
   "cell_type": "code",
   "execution_count": 35,
   "metadata": {},
   "outputs": [
    {
     "data": {
      "text/plain": [
       "'C:\\\\Users\\\\asif1\\\\Git\\\\OS_interaction_with_python'"
      ]
     },
     "execution_count": 35,
     "metadata": {},
     "output_type": "execute_result"
    }
   ],
   "source": [
    "pwd"
   ]
  },
  {
   "cell_type": "code",
   "execution_count": 39,
   "metadata": {},
   "outputs": [
    {
     "name": "stdout",
     "output_type": "stream",
     "text": [
      "Couldn't find program: 'bash'\n"
     ]
    }
   ],
   "source": [
    "%%bash\n",
    "for in a b c\n",
    "do\n",
    "echo $i\n",
    "done"
   ]
  },
  {
   "cell_type": "code",
   "execution_count": 40,
   "metadata": {},
   "outputs": [
    {
     "name": "stderr",
     "output_type": "stream",
     "text": [
      "'ls' is not recognized as an internal or external command,\n",
      "operable program or batch file.\n"
     ]
    }
   ],
   "source": [
    "!ls"
   ]
  },
  {
   "cell_type": "code",
   "execution_count": 45,
   "metadata": {},
   "outputs": [
    {
     "name": "stderr",
     "output_type": "stream",
     "text": [
      "'cwd' is not recognized as an internal or external command,\n",
      "operable program or batch file.\n"
     ]
    }
   ],
   "source": [
    "! cwd"
   ]
  },
  {
   "cell_type": "code",
   "execution_count": 46,
   "metadata": {},
   "outputs": [
    {
     "name": "stdout",
     "output_type": "stream",
     "text": [
      "string\n"
     ]
    }
   ],
   "source": [
    "!echo string"
   ]
  },
  {
   "cell_type": "raw",
   "metadata": {},
   "source": []
  },
  {
   "cell_type": "code",
   "execution_count": 51,
   "metadata": {},
   "outputs": [
    {
     "data": {
      "text/plain": [
       "[\"'pwd' is not recognized as an internal or external command,\",\n",
       " 'operable program or batch file.']"
      ]
     },
     "execution_count": 51,
     "metadata": {},
     "output_type": "execute_result"
    }
   ],
   "source": [
    "directory = !pwd\n",
    "directory\n"
   ]
  },
  {
   "cell_type": "code",
   "execution_count": 50,
   "metadata": {},
   "outputs": [
    {
     "data": {
      "text/plain": [
       "IPython.utils.text.SList"
      ]
     },
     "execution_count": 50,
     "metadata": {},
     "output_type": "execute_result"
    }
   ],
   "source": [
    "type(directory)"
   ]
  },
  {
   "cell_type": "code",
   "execution_count": 56,
   "metadata": {},
   "outputs": [
    {
     "name": "stdout",
     "output_type": "stream",
     "text": [
      "hello from Python\n"
     ]
    }
   ],
   "source": [
    "message = \"hello from Python\"\n",
    " \n",
    "!echo {message}"
   ]
  },
  {
   "cell_type": "code",
   "execution_count": 57,
   "metadata": {},
   "outputs": [
    {
     "name": "stderr",
     "output_type": "stream",
     "text": [
      "'wget' is not recognized as an internal or external command,\n",
      "operable program or batch file.\n"
     ]
    }
   ],
   "source": [
    "!wget -O - 'http://www.sfgate.com' > sfgate.html"
   ]
  },
  {
   "cell_type": "code",
   "execution_count": 59,
   "metadata": {},
   "outputs": [
    {
     "name": "stderr",
     "output_type": "stream",
     "text": [
      "'rm' is not recognized as an internal or external command,\n",
      "operable program or batch file.\n"
     ]
    }
   ],
   "source": [
    "!rm -r tmp"
   ]
  },
  {
   "cell_type": "code",
   "execution_count": 60,
   "metadata": {},
   "outputs": [
    {
     "name": "stdout",
     "output_type": "stream",
     "text": [
      "['', '#Exercise 1\\n\\nimport fileinput\\nimport re\\nimport glob\\n\\ndef grep(PATH, FILES):\\n    for line in fileinput.input(glob.glob(FILES)):\\n        if re.search(PATH, line):\\n            #print (fileinput.filename(), fileinput.lineno(), line)\\n            print (fileinput.lineno(), line)', 'dict_utility = grep(\"utility\",\"C:\\\\\\\\Users\\\\\\\\asif1\\\\\\\\Git\\\\\\\\OS_interaction_with_python\\\\\\\\log_file.txt\")', 'dict_utility = grep(\"utility\",\"C:\\\\\\\\Users\\\\\\\\asif1\\\\\\\\Git\\\\\\\\OS_interaction_with_python\\\\\\\\log_file.txt\")\\nprint(dict_utility)', 'line = \"117 July 31 09:45:20 mycomputername utility[95200]: ERROR Out of yellow ink, specifically, even though you want grayscale\"\\nresult = re.search(r\"utility\\\\[(\\\\d){5}\\\\]: ERROR \"+\"([A-Za-z ,])*\", line)\\nprint(result)', 'dict_utility = grep(\"utility\",\"C:\\\\\\\\Users\\\\\\\\asif1\\\\\\\\Git\\\\\\\\OS_interaction_with_python\\\\\\\\log_file.txt\")\\nprint(dict_utility)', 'line = \"117 July 31 09:45:20 mycomputername utility[95200]: ERROR Out of yellow ink, specifically, even though you want grayscale\"\\nresult = re.search(r\"utility\\\\[(\\\\d){5}\\\\]: ERROR \"+\"([A-Za-z ,])*\", line)\\nprint(result)', '#Exercise 2\\n\\nfruit = {\"oranges\": 3, \"apples\": 5, \"bananas\": 7, \"pears\": 2}\\nprint(sorted(fruit.items()))\\nprint(sorted(fruit.keys()))\\nprint(sorted(fruit.values()))', 'import operator\\nsorted(fruit.items(), key=operator.itemgetter(0))', 'sorted(fruit.items(), key=operator.itemgetter(1))', 'sorted(fruit.items(), key = operator.itemgetter(1), reverse=True)', '#Exercise 1\\n\\nimport fileinput\\nimport re\\nimport glob\\n\\ndef grep(PATH, FILES):\\n    for line in fileinput.input(glob.glob(FILES)):\\n        if re.search(PATH, line):\\n            #print (fileinput.filename(), fileinput.lineno(), line)\\n            #print (fileinput.lineno(), line)\\n            return fileinput.lineno()', 'dict_utility = grep(\"utility\",\"C:\\\\\\\\Users\\\\\\\\asif1\\\\\\\\Git\\\\\\\\OS_interaction_with_python\\\\\\\\log_file.txt\")\\nprint(dict_utility)', '#Exercise 1\\n\\nimport fileinput\\nimport re\\nimport glob\\n\\ndef grep(PATH, FILES):\\n    for line in fileinput.input(glob.glob(FILES)):\\n        if re.search(PATH, line):\\n            #print (fileinput.filename(), fileinput.lineno(), line)\\n            #print (fileinput.lineno(), line)\\n            return line', 'dict_utility = grep(\"utility\",\"C:\\\\\\\\Users\\\\\\\\asif1\\\\\\\\Git\\\\\\\\OS_interaction_with_python\\\\\\\\log_file.txt\")\\nprint(dict_utility)', 'dict_utility = grep(\"utility\",\"C:\\\\\\\\Users\\\\\\\\asif1\\\\\\\\Git\\\\\\\\OS_interaction_with_python\\\\\\\\log_file.txt\")\\ndict_utility', 'line = \"117 July 31 09:45:20 mycomputername utility[95200]: ERROR Out of yellow ink, specifically, even though you want grayscale\"\\nresult = re.search(r\"utility\\\\[(\\\\d){5}\\\\]: ERROR \"+\"([A-Za-z ,])*\", line)\\nprint(result)', 'dict_utility = grep(\"utility\",\"C:\\\\\\\\Users\\\\\\\\asif1\\\\\\\\Git\\\\\\\\OS_interaction_with_python\\\\\\\\log_file.txt\")\\ndict_utility', 'dict_utility = grep(\"utility\",\"C:\\\\\\\\Users\\\\\\\\asif1\\\\\\\\Git\\\\\\\\OS_interaction_with_python\\\\\\\\log_file.txt\")', 'line = \"117 July 31 09:45:20 mycomputername utility[95200]: ERROR Out of yellow ink, specifically, even though you want grayscale\"\\nresult = re.search(r\"utility\\\\[(\\\\d){5}\\\\]: ERROR \"+\"([A-Za-z ,])*\", line)\\nprint(result)', 'grep(\"utility\",\"C:\\\\\\\\Users\\\\\\\\asif1\\\\\\\\Git\\\\\\\\OS_interaction_with_python\\\\\\\\log_file.txt\")', '#Exercise 1\\n\\nimport fileinput\\nimport re\\nimport glob\\n\\ndef grep(PATH, FILES):\\n    for line in fileinput.input(glob.glob(FILES)):\\n        if re.search(PATH, line):\\n            #print (fileinput.filename(), fileinput.lineno(), line)\\n            #print (fileinput.lineno(), line)\\n            ', 'grep(\"utility\",\"C:\\\\\\\\Users\\\\\\\\asif1\\\\\\\\Git\\\\\\\\OS_interaction_with_python\\\\\\\\log_file.txt\")', 'line = \"117 July 31 09:45:20 mycomputername utility[95200]: ERROR Out of yellow ink, specifically, even though you want grayscale\"\\nresult = re.search(r\"utility\\\\[(\\\\d){5}\\\\]: ERROR \"+\"([A-Za-z ,])*\", line)\\nprint(result)', '#Exercise 1\\n\\nimport fileinput\\nimport re\\nimport glob\\n\\ndef grep(PATH, FILES):\\n    for line in fileinput.input(glob.glob(FILES)):\\n        if re.search(PATH, line):\\n            print (fileinput.filename(), fileinput.lineno(), line)\\n            #print (fileinput.lineno(), line)\\n            ', 'grep(\"utility\",\"C:\\\\\\\\Users\\\\\\\\asif1\\\\\\\\Git\\\\\\\\OS_interaction_with_python\\\\\\\\log_file.txt\")', 'line = \"117 July 31 09:45:20 mycomputername utility[95200]: ERROR Out of yellow ink, specifically, even though you want grayscale\"\\nresult = re.search(r\"utility\\\\[(\\\\d){5}\\\\]: ERROR \"+\"([A-Za-z ,])*\", line)\\nprint(result)', '#Exercise 2\\n\\nfruit = {\"oranges\": 3, \"apples\": 5, \"bananas\": 7, \"pears\": 2}\\nprint(sorted(fruit.items()))\\nprint(sorted(fruit.keys()))\\nprint(sorted(fruit.values()))', 'import operator\\nsorted(fruit.items(), key=operator.itemgetter(0))', 'sorted(fruit.items(), key=operator.itemgetter(1))', \"get_ipython().system('pwd')\", \"get_ipython().system('..cd')\", \"get_ipython().system('cd..')\", 'print(!cd..)', \"get_ipython().system('cd..')\", \"get_ipython().run_line_magic('pwd', '')\", \"get_ipython().run_cell_magic('bash', '', 'for in a b c\\\\ndo\\\\necho $i\\\\ndone\\\\n')\", \"get_ipython().run_cell_magic('', 'bash', 'for in a b c\\\\ndo\\\\necho $i\\\\ndone\\\\n')\", \"get_ipython().run_line_magic('', 'bash')\\nfor in a b c\\ndo\\necho $i\\ndone\", \"get_ipython().run_cell_magic('bash', '', 'for in a b c\\\\ndo\\\\necho $i\\\\ndone\\\\n')\", \"get_ipython().system('ls')\", \"get_ipython().system('pwd')\", \"get_ipython().system('echo')\", \"get_ipython().system('echo string')\", \"get_ipython().system('cwd')\", \"get_ipython().system(' cwd')\", \"get_ipython().system('echo string')\", \"dir = get_ipython().getoutput('pwd')\\ndir\", \"directory = get_ipython().getoutput('pwd')\\ndirectory\", \"directory = get_ipython().getoutput('pwd')\\ndirectory\\ntype(directory)\", 'type(directory)', \"directory = get_ipython().getoutput('pwd')\\ndirectory\", \"get_ipython().run_line_magic('pwd', '')\", \"get_ipython().run_line_magic('pwd', '')\", \"get_ipython().system('pwd')\", \"get_ipython().system('%pwd')\", 'message = \"hello from Python\"\\n \\nget_ipython().system(\\'echo {message}\\')', 'get_ipython().system(\"wget -O - \\'http://www.sfgate.com\\' > sfgate.html\")', 'rm -r tmp', \"get_ipython().system('rm -r tmp')\", 'print(In)']\n"
     ]
    }
   ],
   "source": [
    "print(In)"
   ]
  },
  {
   "cell_type": "code",
   "execution_count": 62,
   "metadata": {},
   "outputs": [
    {
     "name": "stdout",
     "output_type": "stream",
     "text": [
      "{8: [('apples', 5), ('bananas', 7), ('oranges', 3), ('pears', 2)], 9: [('pears', 2), ('oranges', 3), ('apples', 5), ('bananas', 7)], 10: [('bananas', 7), ('apples', 5), ('oranges', 3), ('pears', 2)], 28: [('apples', 5), ('bananas', 7), ('oranges', 3), ('pears', 2)], 29: [('pears', 2), ('oranges', 3), ('apples', 5), ('bananas', 7)], 35: 'C:\\\\Users\\\\asif1\\\\Git\\\\OS_interaction_with_python', 47: [\"'pwd' is not recognized as an internal or external command,\", 'operable program or batch file.'], 48: [\"'pwd' is not recognized as an internal or external command,\", 'operable program or batch file.'], 49: <class 'IPython.utils.text.SList'>, 50: <class 'IPython.utils.text.SList'>, 51: [\"'pwd' is not recognized as an internal or external command,\", 'operable program or batch file.'], 52: 'C:\\\\Users\\\\asif1\\\\Git\\\\OS_interaction_with_python', 53: 'C:\\\\Users\\\\asif1\\\\Git\\\\OS_interaction_with_python'}\n"
     ]
    }
   ],
   "source": [
    "print(Out)"
   ]
  },
  {
   "cell_type": "code",
   "execution_count": 63,
   "metadata": {},
   "outputs": [
    {
     "name": "stderr",
     "output_type": "stream",
     "text": [
      "'rm' is not recognized as an internal or external command,\n",
      "operable program or batch file.\n"
     ]
    }
   ],
   "source": [
    "get_ipython().system('rm -r tmp')"
   ]
  },
  {
   "cell_type": "code",
   "execution_count": 64,
   "metadata": {},
   "outputs": [
    {
     "data": {
      "text/plain": [
       "{8: [('apples', 5), ('bananas', 7), ('oranges', 3), ('pears', 2)],\n",
       " 9: [('pears', 2), ('oranges', 3), ('apples', 5), ('bananas', 7)],\n",
       " 10: [('bananas', 7), ('apples', 5), ('oranges', 3), ('pears', 2)],\n",
       " 28: [('apples', 5), ('bananas', 7), ('oranges', 3), ('pears', 2)],\n",
       " 29: [('pears', 2), ('oranges', 3), ('apples', 5), ('bananas', 7)],\n",
       " 35: 'C:\\\\Users\\\\asif1\\\\Git\\\\OS_interaction_with_python',\n",
       " 47: [\"'pwd' is not recognized as an internal or external command,\",\n",
       "  'operable program or batch file.'],\n",
       " 48: [\"'pwd' is not recognized as an internal or external command,\",\n",
       "  'operable program or batch file.'],\n",
       " 49: IPython.utils.text.SList,\n",
       " 50: IPython.utils.text.SList,\n",
       " 51: [\"'pwd' is not recognized as an internal or external command,\",\n",
       "  'operable program or batch file.'],\n",
       " 52: 'C:\\\\Users\\\\asif1\\\\Git\\\\OS_interaction_with_python',\n",
       " 53: 'C:\\\\Users\\\\asif1\\\\Git\\\\OS_interaction_with_python'}"
      ]
     },
     "execution_count": 64,
     "metadata": {},
     "output_type": "execute_result"
    }
   ],
   "source": [
    " Out"
   ]
  },
  {
   "cell_type": "code",
   "execution_count": 65,
   "metadata": {},
   "outputs": [
    {
     "data": {
      "text/plain": [
       "['',\n",
       " '#Exercise 1\\n\\nimport fileinput\\nimport re\\nimport glob\\n\\ndef grep(PATH, FILES):\\n    for line in fileinput.input(glob.glob(FILES)):\\n        if re.search(PATH, line):\\n            #print (fileinput.filename(), fileinput.lineno(), line)\\n            print (fileinput.lineno(), line)',\n",
       " 'dict_utility = grep(\"utility\",\"C:\\\\\\\\Users\\\\\\\\asif1\\\\\\\\Git\\\\\\\\OS_interaction_with_python\\\\\\\\log_file.txt\")',\n",
       " 'dict_utility = grep(\"utility\",\"C:\\\\\\\\Users\\\\\\\\asif1\\\\\\\\Git\\\\\\\\OS_interaction_with_python\\\\\\\\log_file.txt\")\\nprint(dict_utility)',\n",
       " 'line = \"117 July 31 09:45:20 mycomputername utility[95200]: ERROR Out of yellow ink, specifically, even though you want grayscale\"\\nresult = re.search(r\"utility\\\\[(\\\\d){5}\\\\]: ERROR \"+\"([A-Za-z ,])*\", line)\\nprint(result)',\n",
       " 'dict_utility = grep(\"utility\",\"C:\\\\\\\\Users\\\\\\\\asif1\\\\\\\\Git\\\\\\\\OS_interaction_with_python\\\\\\\\log_file.txt\")\\nprint(dict_utility)',\n",
       " 'line = \"117 July 31 09:45:20 mycomputername utility[95200]: ERROR Out of yellow ink, specifically, even though you want grayscale\"\\nresult = re.search(r\"utility\\\\[(\\\\d){5}\\\\]: ERROR \"+\"([A-Za-z ,])*\", line)\\nprint(result)',\n",
       " '#Exercise 2\\n\\nfruit = {\"oranges\": 3, \"apples\": 5, \"bananas\": 7, \"pears\": 2}\\nprint(sorted(fruit.items()))\\nprint(sorted(fruit.keys()))\\nprint(sorted(fruit.values()))',\n",
       " 'import operator\\nsorted(fruit.items(), key=operator.itemgetter(0))',\n",
       " 'sorted(fruit.items(), key=operator.itemgetter(1))',\n",
       " 'sorted(fruit.items(), key = operator.itemgetter(1), reverse=True)',\n",
       " '#Exercise 1\\n\\nimport fileinput\\nimport re\\nimport glob\\n\\ndef grep(PATH, FILES):\\n    for line in fileinput.input(glob.glob(FILES)):\\n        if re.search(PATH, line):\\n            #print (fileinput.filename(), fileinput.lineno(), line)\\n            #print (fileinput.lineno(), line)\\n            return fileinput.lineno()',\n",
       " 'dict_utility = grep(\"utility\",\"C:\\\\\\\\Users\\\\\\\\asif1\\\\\\\\Git\\\\\\\\OS_interaction_with_python\\\\\\\\log_file.txt\")\\nprint(dict_utility)',\n",
       " '#Exercise 1\\n\\nimport fileinput\\nimport re\\nimport glob\\n\\ndef grep(PATH, FILES):\\n    for line in fileinput.input(glob.glob(FILES)):\\n        if re.search(PATH, line):\\n            #print (fileinput.filename(), fileinput.lineno(), line)\\n            #print (fileinput.lineno(), line)\\n            return line',\n",
       " 'dict_utility = grep(\"utility\",\"C:\\\\\\\\Users\\\\\\\\asif1\\\\\\\\Git\\\\\\\\OS_interaction_with_python\\\\\\\\log_file.txt\")\\nprint(dict_utility)',\n",
       " 'dict_utility = grep(\"utility\",\"C:\\\\\\\\Users\\\\\\\\asif1\\\\\\\\Git\\\\\\\\OS_interaction_with_python\\\\\\\\log_file.txt\")\\ndict_utility',\n",
       " 'line = \"117 July 31 09:45:20 mycomputername utility[95200]: ERROR Out of yellow ink, specifically, even though you want grayscale\"\\nresult = re.search(r\"utility\\\\[(\\\\d){5}\\\\]: ERROR \"+\"([A-Za-z ,])*\", line)\\nprint(result)',\n",
       " 'dict_utility = grep(\"utility\",\"C:\\\\\\\\Users\\\\\\\\asif1\\\\\\\\Git\\\\\\\\OS_interaction_with_python\\\\\\\\log_file.txt\")\\ndict_utility',\n",
       " 'dict_utility = grep(\"utility\",\"C:\\\\\\\\Users\\\\\\\\asif1\\\\\\\\Git\\\\\\\\OS_interaction_with_python\\\\\\\\log_file.txt\")',\n",
       " 'line = \"117 July 31 09:45:20 mycomputername utility[95200]: ERROR Out of yellow ink, specifically, even though you want grayscale\"\\nresult = re.search(r\"utility\\\\[(\\\\d){5}\\\\]: ERROR \"+\"([A-Za-z ,])*\", line)\\nprint(result)',\n",
       " 'grep(\"utility\",\"C:\\\\\\\\Users\\\\\\\\asif1\\\\\\\\Git\\\\\\\\OS_interaction_with_python\\\\\\\\log_file.txt\")',\n",
       " '#Exercise 1\\n\\nimport fileinput\\nimport re\\nimport glob\\n\\ndef grep(PATH, FILES):\\n    for line in fileinput.input(glob.glob(FILES)):\\n        if re.search(PATH, line):\\n            #print (fileinput.filename(), fileinput.lineno(), line)\\n            #print (fileinput.lineno(), line)\\n            ',\n",
       " 'grep(\"utility\",\"C:\\\\\\\\Users\\\\\\\\asif1\\\\\\\\Git\\\\\\\\OS_interaction_with_python\\\\\\\\log_file.txt\")',\n",
       " 'line = \"117 July 31 09:45:20 mycomputername utility[95200]: ERROR Out of yellow ink, specifically, even though you want grayscale\"\\nresult = re.search(r\"utility\\\\[(\\\\d){5}\\\\]: ERROR \"+\"([A-Za-z ,])*\", line)\\nprint(result)',\n",
       " '#Exercise 1\\n\\nimport fileinput\\nimport re\\nimport glob\\n\\ndef grep(PATH, FILES):\\n    for line in fileinput.input(glob.glob(FILES)):\\n        if re.search(PATH, line):\\n            print (fileinput.filename(), fileinput.lineno(), line)\\n            #print (fileinput.lineno(), line)\\n            ',\n",
       " 'grep(\"utility\",\"C:\\\\\\\\Users\\\\\\\\asif1\\\\\\\\Git\\\\\\\\OS_interaction_with_python\\\\\\\\log_file.txt\")',\n",
       " 'line = \"117 July 31 09:45:20 mycomputername utility[95200]: ERROR Out of yellow ink, specifically, even though you want grayscale\"\\nresult = re.search(r\"utility\\\\[(\\\\d){5}\\\\]: ERROR \"+\"([A-Za-z ,])*\", line)\\nprint(result)',\n",
       " '#Exercise 2\\n\\nfruit = {\"oranges\": 3, \"apples\": 5, \"bananas\": 7, \"pears\": 2}\\nprint(sorted(fruit.items()))\\nprint(sorted(fruit.keys()))\\nprint(sorted(fruit.values()))',\n",
       " 'import operator\\nsorted(fruit.items(), key=operator.itemgetter(0))',\n",
       " 'sorted(fruit.items(), key=operator.itemgetter(1))',\n",
       " \"get_ipython().system('pwd')\",\n",
       " \"get_ipython().system('..cd')\",\n",
       " \"get_ipython().system('cd..')\",\n",
       " 'print(!cd..)',\n",
       " \"get_ipython().system('cd..')\",\n",
       " \"get_ipython().run_line_magic('pwd', '')\",\n",
       " \"get_ipython().run_cell_magic('bash', '', 'for in a b c\\\\ndo\\\\necho $i\\\\ndone\\\\n')\",\n",
       " \"get_ipython().run_cell_magic('', 'bash', 'for in a b c\\\\ndo\\\\necho $i\\\\ndone\\\\n')\",\n",
       " \"get_ipython().run_line_magic('', 'bash')\\nfor in a b c\\ndo\\necho $i\\ndone\",\n",
       " \"get_ipython().run_cell_magic('bash', '', 'for in a b c\\\\ndo\\\\necho $i\\\\ndone\\\\n')\",\n",
       " \"get_ipython().system('ls')\",\n",
       " \"get_ipython().system('pwd')\",\n",
       " \"get_ipython().system('echo')\",\n",
       " \"get_ipython().system('echo string')\",\n",
       " \"get_ipython().system('cwd')\",\n",
       " \"get_ipython().system(' cwd')\",\n",
       " \"get_ipython().system('echo string')\",\n",
       " \"dir = get_ipython().getoutput('pwd')\\ndir\",\n",
       " \"directory = get_ipython().getoutput('pwd')\\ndirectory\",\n",
       " \"directory = get_ipython().getoutput('pwd')\\ndirectory\\ntype(directory)\",\n",
       " 'type(directory)',\n",
       " \"directory = get_ipython().getoutput('pwd')\\ndirectory\",\n",
       " \"get_ipython().run_line_magic('pwd', '')\",\n",
       " \"get_ipython().run_line_magic('pwd', '')\",\n",
       " \"get_ipython().system('pwd')\",\n",
       " \"get_ipython().system('%pwd')\",\n",
       " 'message = \"hello from Python\"\\n \\nget_ipython().system(\\'echo {message}\\')',\n",
       " 'get_ipython().system(\"wget -O - \\'http://www.sfgate.com\\' > sfgate.html\")',\n",
       " 'rm -r tmp',\n",
       " \"get_ipython().system('rm -r tmp')\",\n",
       " 'print(In)',\n",
       " 'print(Out)',\n",
       " 'print(Out)',\n",
       " \"get_ipython().system('rm -r tmp')\",\n",
       " 'Out',\n",
       " 'In']"
      ]
     },
     "execution_count": 65,
     "metadata": {},
     "output_type": "execute_result"
    }
   ],
   "source": [
    "In"
   ]
  },
  {
   "cell_type": "code",
   "execution_count": 70,
   "metadata": {},
   "outputs": [
    {
     "name": "stdout",
     "output_type": "stream",
     "text": [
      "#Exercise 1\n",
      "\n",
      "import fileinput\n",
      "import re\n",
      "import glob\n",
      "\n",
      "def grep(PATH, FILES):\n",
      "    for line in fileinput.input(glob.glob(FILES)):\n",
      "        if re.search(PATH, line):\n",
      "            #print (fileinput.filename(), fileinput.lineno(), line)\n",
      "            print (fileinput.lineno(), line)\n",
      "[('bananas', 7), ('apples', 5), ('oranges', 3), ('pears', 2)]\n"
     ]
    }
   ],
   "source": [
    "print(In[1])\n",
    "print(Out[10])\n",
    "#Out[2] ** 2 + Out[3] ** 2"
   ]
  },
  {
   "cell_type": "code",
   "execution_count": 73,
   "metadata": {},
   "outputs": [
    {
     "name": "stdout",
     "output_type": "stream",
     "text": [
      "['', '#Exercise 1\\n\\nimport fileinput\\nimport re\\nimport glob\\n\\ndef grep(PATH, FILES):\\n    for line in fileinput.input(glob.glob(FILES)):\\n        if re.search(PATH, line):\\n            #print (fileinput.filename(), fileinput.lineno(), line)\\n            print (fileinput.lineno(), line)', 'dict_utility = grep(\"utility\",\"C:\\\\\\\\Users\\\\\\\\asif1\\\\\\\\Git\\\\\\\\OS_interaction_with_python\\\\\\\\log_file.txt\")', 'dict_utility = grep(\"utility\",\"C:\\\\\\\\Users\\\\\\\\asif1\\\\\\\\Git\\\\\\\\OS_interaction_with_python\\\\\\\\log_file.txt\")\\nprint(dict_utility)', 'line = \"117 July 31 09:45:20 mycomputername utility[95200]: ERROR Out of yellow ink, specifically, even though you want grayscale\"\\nresult = re.search(r\"utility\\\\[(\\\\d){5}\\\\]: ERROR \"+\"([A-Za-z ,])*\", line)\\nprint(result)', 'dict_utility = grep(\"utility\",\"C:\\\\\\\\Users\\\\\\\\asif1\\\\\\\\Git\\\\\\\\OS_interaction_with_python\\\\\\\\log_file.txt\")\\nprint(dict_utility)', 'line = \"117 July 31 09:45:20 mycomputername utility[95200]: ERROR Out of yellow ink, specifically, even though you want grayscale\"\\nresult = re.search(r\"utility\\\\[(\\\\d){5}\\\\]: ERROR \"+\"([A-Za-z ,])*\", line)\\nprint(result)', '#Exercise 2\\n\\nfruit = {\"oranges\": 3, \"apples\": 5, \"bananas\": 7, \"pears\": 2}\\nprint(sorted(fruit.items()))\\nprint(sorted(fruit.keys()))\\nprint(sorted(fruit.values()))', 'import operator\\nsorted(fruit.items(), key=operator.itemgetter(0))', 'sorted(fruit.items(), key=operator.itemgetter(1))', 'sorted(fruit.items(), key = operator.itemgetter(1), reverse=True)', '#Exercise 1\\n\\nimport fileinput\\nimport re\\nimport glob\\n\\ndef grep(PATH, FILES):\\n    for line in fileinput.input(glob.glob(FILES)):\\n        if re.search(PATH, line):\\n            #print (fileinput.filename(), fileinput.lineno(), line)\\n            #print (fileinput.lineno(), line)\\n            return fileinput.lineno()', 'dict_utility = grep(\"utility\",\"C:\\\\\\\\Users\\\\\\\\asif1\\\\\\\\Git\\\\\\\\OS_interaction_with_python\\\\\\\\log_file.txt\")\\nprint(dict_utility)', '#Exercise 1\\n\\nimport fileinput\\nimport re\\nimport glob\\n\\ndef grep(PATH, FILES):\\n    for line in fileinput.input(glob.glob(FILES)):\\n        if re.search(PATH, line):\\n            #print (fileinput.filename(), fileinput.lineno(), line)\\n            #print (fileinput.lineno(), line)\\n            return line', 'dict_utility = grep(\"utility\",\"C:\\\\\\\\Users\\\\\\\\asif1\\\\\\\\Git\\\\\\\\OS_interaction_with_python\\\\\\\\log_file.txt\")\\nprint(dict_utility)', 'dict_utility = grep(\"utility\",\"C:\\\\\\\\Users\\\\\\\\asif1\\\\\\\\Git\\\\\\\\OS_interaction_with_python\\\\\\\\log_file.txt\")\\ndict_utility', 'line = \"117 July 31 09:45:20 mycomputername utility[95200]: ERROR Out of yellow ink, specifically, even though you want grayscale\"\\nresult = re.search(r\"utility\\\\[(\\\\d){5}\\\\]: ERROR \"+\"([A-Za-z ,])*\", line)\\nprint(result)', 'dict_utility = grep(\"utility\",\"C:\\\\\\\\Users\\\\\\\\asif1\\\\\\\\Git\\\\\\\\OS_interaction_with_python\\\\\\\\log_file.txt\")\\ndict_utility', 'dict_utility = grep(\"utility\",\"C:\\\\\\\\Users\\\\\\\\asif1\\\\\\\\Git\\\\\\\\OS_interaction_with_python\\\\\\\\log_file.txt\")', 'line = \"117 July 31 09:45:20 mycomputername utility[95200]: ERROR Out of yellow ink, specifically, even though you want grayscale\"\\nresult = re.search(r\"utility\\\\[(\\\\d){5}\\\\]: ERROR \"+\"([A-Za-z ,])*\", line)\\nprint(result)', 'grep(\"utility\",\"C:\\\\\\\\Users\\\\\\\\asif1\\\\\\\\Git\\\\\\\\OS_interaction_with_python\\\\\\\\log_file.txt\")', '#Exercise 1\\n\\nimport fileinput\\nimport re\\nimport glob\\n\\ndef grep(PATH, FILES):\\n    for line in fileinput.input(glob.glob(FILES)):\\n        if re.search(PATH, line):\\n            #print (fileinput.filename(), fileinput.lineno(), line)\\n            #print (fileinput.lineno(), line)\\n            ', 'grep(\"utility\",\"C:\\\\\\\\Users\\\\\\\\asif1\\\\\\\\Git\\\\\\\\OS_interaction_with_python\\\\\\\\log_file.txt\")', 'line = \"117 July 31 09:45:20 mycomputername utility[95200]: ERROR Out of yellow ink, specifically, even though you want grayscale\"\\nresult = re.search(r\"utility\\\\[(\\\\d){5}\\\\]: ERROR \"+\"([A-Za-z ,])*\", line)\\nprint(result)', '#Exercise 1\\n\\nimport fileinput\\nimport re\\nimport glob\\n\\ndef grep(PATH, FILES):\\n    for line in fileinput.input(glob.glob(FILES)):\\n        if re.search(PATH, line):\\n            print (fileinput.filename(), fileinput.lineno(), line)\\n            #print (fileinput.lineno(), line)\\n            ', 'grep(\"utility\",\"C:\\\\\\\\Users\\\\\\\\asif1\\\\\\\\Git\\\\\\\\OS_interaction_with_python\\\\\\\\log_file.txt\")', 'line = \"117 July 31 09:45:20 mycomputername utility[95200]: ERROR Out of yellow ink, specifically, even though you want grayscale\"\\nresult = re.search(r\"utility\\\\[(\\\\d){5}\\\\]: ERROR \"+\"([A-Za-z ,])*\", line)\\nprint(result)', '#Exercise 2\\n\\nfruit = {\"oranges\": 3, \"apples\": 5, \"bananas\": 7, \"pears\": 2}\\nprint(sorted(fruit.items()))\\nprint(sorted(fruit.keys()))\\nprint(sorted(fruit.values()))', 'import operator\\nsorted(fruit.items(), key=operator.itemgetter(0))', 'sorted(fruit.items(), key=operator.itemgetter(1))', \"get_ipython().system('pwd')\", \"get_ipython().system('..cd')\", \"get_ipython().system('cd..')\", 'print(!cd..)', \"get_ipython().system('cd..')\", \"get_ipython().run_line_magic('pwd', '')\", \"get_ipython().run_cell_magic('bash', '', 'for in a b c\\\\ndo\\\\necho $i\\\\ndone\\\\n')\", \"get_ipython().run_cell_magic('', 'bash', 'for in a b c\\\\ndo\\\\necho $i\\\\ndone\\\\n')\", \"get_ipython().run_line_magic('', 'bash')\\nfor in a b c\\ndo\\necho $i\\ndone\", \"get_ipython().run_cell_magic('bash', '', 'for in a b c\\\\ndo\\\\necho $i\\\\ndone\\\\n')\", \"get_ipython().system('ls')\", \"get_ipython().system('pwd')\", \"get_ipython().system('echo')\", \"get_ipython().system('echo string')\", \"get_ipython().system('cwd')\", \"get_ipython().system(' cwd')\", \"get_ipython().system('echo string')\", \"dir = get_ipython().getoutput('pwd')\\ndir\", \"directory = get_ipython().getoutput('pwd')\\ndirectory\", \"directory = get_ipython().getoutput('pwd')\\ndirectory\\ntype(directory)\", 'type(directory)', \"directory = get_ipython().getoutput('pwd')\\ndirectory\", \"get_ipython().run_line_magic('pwd', '')\", \"get_ipython().run_line_magic('pwd', '')\", \"get_ipython().system('pwd')\", \"get_ipython().system('%pwd')\", 'message = \"hello from Python\"\\n \\nget_ipython().system(\\'echo {message}\\')', 'get_ipython().system(\"wget -O - \\'http://www.sfgate.com\\' > sfgate.html\")', 'rm -r tmp', \"get_ipython().system('rm -r tmp')\", 'print(In)', 'print(Out)', 'print(Out)', \"get_ipython().system('rm -r tmp')\", 'Out', 'In', 'print(In[1])\\nprint(Out[2])\\nOut[2] ** 2 + Out[3] ** 2', 'print(In[1])\\nprint(Out[2])\\n#Out[2] ** 2 + Out[3] ** 2', 'print(In[1])\\nprint(Out[1])\\n#Out[2] ** 2 + Out[3] ** 2', 'print(In[1])\\nprint(Out[0])\\n#Out[2] ** 2 + Out[3] ** 2', 'print(In[1])\\nprint(Out[10])\\n#Out[2] ** 2 + Out[3] ** 2', 'print(_)', 'print(_) last out put \\nprint(__)', 'print(_)    #last output \\nprint(__)   #secondlast output']\n",
      "C:\\Users\\asif1\\Git\\OS_interaction_with_python\n"
     ]
    }
   ],
   "source": [
    "print(_)    #last output \n",
    "print(__)   #secondlast output"
   ]
  },
  {
   "cell_type": "code",
   "execution_count": 75,
   "metadata": {},
   "outputs": [],
   "source": [
    "import math\n",
    "math.sin(2) + math.cos(2);"
   ]
  },
  {
   "cell_type": "code",
   "execution_count": 76,
   "metadata": {},
   "outputs": [
    {
     "data": {
      "text/plain": [
       "False"
      ]
     },
     "execution_count": 76,
     "metadata": {},
     "output_type": "execute_result"
    }
   ],
   "source": [
    "14 in Out"
   ]
  },
  {
   "cell_type": "code",
   "execution_count": 77,
   "metadata": {},
   "outputs": [
    {
     "name": "stdout",
     "output_type": "stream",
     "text": [
      "   1:\n",
      "#Exercise 1\n",
      "\n",
      "import fileinput\n",
      "import re\n",
      "import glob\n",
      "\n",
      "def grep(PATH, FILES):\n",
      "    for line in fileinput.input(glob.glob(FILES)):\n",
      "        if re.search(PATH, line):\n",
      "            #print (fileinput.filename(), fileinput.lineno(), line)\n",
      "            print (fileinput.lineno(), line)\n",
      "   2: dict_utility = grep(\"utility\",\"C:\\\\Users\\\\asif1\\\\Git\\\\OS_interaction_with_python\\\\log_file.txt\")\n",
      "   3:\n",
      "dict_utility = grep(\"utility\",\"C:\\\\Users\\\\asif1\\\\Git\\\\OS_interaction_with_python\\\\log_file.txt\")\n",
      "print(dict_utility)\n",
      "   4:\n",
      "line = \"117 July 31 09:45:20 mycomputername utility[95200]: ERROR Out of yellow ink, specifically, even though you want grayscale\"\n",
      "result = re.search(r\"utility\\[(\\d){5}\\]: ERROR \"+\"([A-Za-z ,])*\", line)\n",
      "print(result)\n"
     ]
    }
   ],
   "source": [
    "%history -n 1-4"
   ]
  },
  {
   "cell_type": "code",
   "execution_count": 54,
   "metadata": {},
   "outputs": [],
   "source": [
    "# ticky.py\n",
    "import os\n",
    "import re\n",
    "import sys\n",
    "import operator\n",
    "import csv\n",
    "\n",
    "error_counter = {}\n",
    "error_user = {}\n",
    "info_user = {}"
   ]
  },
  {
   "cell_type": "code",
   "execution_count": null,
   "metadata": {},
   "outputs": [],
   "source": []
  }
 ],
 "metadata": {
  "kernelspec": {
   "display_name": "Python 3",
   "language": "python",
   "name": "python3"
  },
  "language_info": {
   "codemirror_mode": {
    "name": "ipython",
    "version": 3
   },
   "file_extension": ".py",
   "mimetype": "text/x-python",
   "name": "python",
   "nbconvert_exporter": "python",
   "pygments_lexer": "ipython3",
   "version": "3.8.5"
  }
 },
 "nbformat": 4,
 "nbformat_minor": 4
}
