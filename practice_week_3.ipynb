{
 "cells": [
  {
   "cell_type": "markdown",
   "metadata": {},
   "source": [
    "# Regular Expression"
   ]
  },
  {
   "cell_type": "code",
   "execution_count": 2,
   "metadata": {},
   "outputs": [
    {
     "name": "stdout",
     "output_type": "stream",
     "text": [
      "12345\n"
     ]
    }
   ],
   "source": [
    "log = \"July 31 07:51:48 mycomputer bad_process[12345]: ERROR performing pakage upgrade\"\n",
    "index = log.index('[')\n",
    "print(log[index+1:index+6])"
   ]
  },
  {
   "cell_type": "code",
   "execution_count": 69,
   "metadata": {},
   "outputs": [
    {
     "name": "stdout",
     "output_type": "stream",
     "text": [
      "12345\n"
     ]
    }
   ],
   "source": [
    "# using re module to extract irequireed information\n",
    "import re\n",
    "\n",
    "log = \"July 31 07:51:48 mycomputer bad_process[12345]: ERROR performing pakage upgrade\"\n",
    "regex = r\"\\[(\\d+)\\]\"\n",
    "result = re.search(regex,log)\n",
    "print(result[1])"
   ]
  },
  {
   "cell_type": "raw",
   "metadata": {},
   "source": [
    "word  will search any pattern in the given text\n",
    "\n",
    "l.rts is used to search match of any character having l_rts in it_ for any word\n",
    "The circumflex [^] and the dollar sign [$] are anchor characters\n",
    "^fruit is used to search all words or strings that starts with fruit\n",
    "fruit$ is used to search all words or strings that ends with fruit "
   ]
  },
  {
   "cell_type": "code",
   "execution_count": 5,
   "metadata": {},
   "outputs": [
    {
     "name": "stdout",
     "output_type": "stream",
     "text": [
      "<re.Match object; span=(3, 6), match='tan'>\n",
      "<re.Match object; span=(5, 8), match='tan'>\n",
      "None\n"
     ]
    }
   ],
   "source": [
    "# using re module\n",
    "result = re.search(r\"tan\", \"sentangrudx\")\n",
    "print(result)\n",
    "result = re.search(r\"tan\", \"pakistan\")\n",
    "print(result)\n",
    "result = re.search(r\"tan\", \"betaxse\")\n",
    "print(result)"
   ]
  },
  {
   "cell_type": "code",
   "execution_count": 6,
   "metadata": {},
   "outputs": [
    {
     "name": "stdout",
     "output_type": "stream",
     "text": [
      "<re.Match object; span=(0, 3), match='sen'>\n",
      "None\n"
     ]
    }
   ],
   "source": [
    "result = re.search(r\"^sen\", \"sentangrudx\")\n",
    "print(result)\n",
    "result = re.search(r\"^tan\", \"pakistan\")\n",
    "print(result)"
   ]
  },
  {
   "cell_type": "code",
   "execution_count": 7,
   "metadata": {},
   "outputs": [
    {
     "name": "stdout",
     "output_type": "stream",
     "text": [
      "None\n",
      "<re.Match object; span=(5, 8), match='tan'>\n"
     ]
    }
   ],
   "source": [
    "result = re.search(r\"sen$\", \"sentangrudx\")\n",
    "print(result)\n",
    "result = re.search(r\"tan$\", \"pakistan\")\n",
    "print(result)"
   ]
  },
  {
   "cell_type": "code",
   "execution_count": 8,
   "metadata": {},
   "outputs": [
    {
     "name": "stdout",
     "output_type": "stream",
     "text": [
      "<re.Match object; span=(0, 4), match='sent'>\n",
      "None\n"
     ]
    }
   ],
   "source": [
    "result = re.search(r\"s.nt\", \"sentangrudx\")\n",
    "print(result)\n",
    "result = re.search(r\"s.ta\", \"pakistan\")\n",
    "print(result)"
   ]
  },
  {
   "cell_type": "code",
   "execution_count": 10,
   "metadata": {},
   "outputs": [
    {
     "name": "stdout",
     "output_type": "stream",
     "text": [
      "<re.Match object; span=(0, 3), match='Sen'>\n",
      "None\n"
     ]
    }
   ],
   "source": [
    "result = re.search(r\"^sen\", \"Sentangrudx\", re.IGNORECASE)\n",
    "print(result)\n",
    "result = re.search(r\"^sen\", \"Sentangrudx\")\n",
    "print(result)"
   ]
  },
  {
   "cell_type": "code",
   "execution_count": 11,
   "metadata": {},
   "outputs": [
    {
     "name": "stdout",
     "output_type": "stream",
     "text": [
      "<re.Match object; span=(0, 6), match='python'>\n"
     ]
    }
   ],
   "source": [
    "result = re.search(r\"[Pp]ython\", \"python\")\n",
    "print(result)"
   ]
  },
  {
   "cell_type": "code",
   "execution_count": 18,
   "metadata": {},
   "outputs": [
    {
     "name": "stdout",
     "output_type": "stream",
     "text": [
      "<re.Match object; span=(20, 24), match='hway'>\n",
      "None\n"
     ]
    }
   ],
   "source": [
    "result = re.search(r\"[a-z]way\", \"The truck was on highway\")\n",
    "print(result)\n",
    "result = re.search(r\"[a-z]way\", \"The truck was on the way to boston\")\n",
    "print(result)"
   ]
  },
  {
   "cell_type": "code",
   "execution_count": 17,
   "metadata": {},
   "outputs": [
    {
     "name": "stdout",
     "output_type": "stream",
     "text": [
      "<re.Match object; span=(1, 4), match='The'>\n"
     ]
    }
   ],
   "source": [
    "result = re.search(r\"[A-Z]he\", \"aTheee truck was on highway\")\n",
    "print(result)"
   ]
  },
  {
   "cell_type": "code",
   "execution_count": 20,
   "metadata": {},
   "outputs": [
    {
     "name": "stdout",
     "output_type": "stream",
     "text": [
      "<re.Match object; span=(17, 23), match='cloudS'>\n"
     ]
    }
   ],
   "source": [
    "result = re.search(r\"cloud[a-zA-Z0-9]\", \"The  weather has cloudS and cloud5\")\n",
    "print(result)\n",
    "# will respond only to first item found"
   ]
  },
  {
   "cell_type": "code",
   "execution_count": 23,
   "metadata": {},
   "outputs": [
    {
     "name": "stdout",
     "output_type": "stream",
     "text": [
      "<re.Match object; span=(3, 4), match=' '>\n"
     ]
    }
   ],
   "source": [
    "result = re.search(r\"[^a-zA-Z]\", \"The truck on the lowway was on highway\")\n",
    "print(result)\n",
    "# matches the first space as it say match any thing which is not alphabet"
   ]
  },
  {
   "cell_type": "code",
   "execution_count": 25,
   "metadata": {},
   "outputs": [
    {
     "name": "stdout",
     "output_type": "stream",
     "text": [
      "<re.Match object; span=(38, 39), match='.'>\n"
     ]
    }
   ],
   "source": [
    "result = re.search(r\"[^a-zA-Z ]\", \"The truck on the lowway was on highway.\")\n",
    "print(result)"
   ]
  },
  {
   "cell_type": "code",
   "execution_count": 26,
   "metadata": {},
   "outputs": [
    {
     "name": "stdout",
     "output_type": "stream",
     "text": [
      "<re.Match object; span=(9, 12), match='cat'>\n"
     ]
    }
   ],
   "source": [
    "result = re.search(r\"cat|dog\", \"he likes cats.\")\n",
    "print(result)"
   ]
  },
  {
   "cell_type": "code",
   "execution_count": 27,
   "metadata": {},
   "outputs": [
    {
     "name": "stdout",
     "output_type": "stream",
     "text": [
      "<re.Match object; span=(9, 12), match='dog'>\n"
     ]
    }
   ],
   "source": [
    "result = re.search(r\"cat|dog\", \"he likes dogss.\")\n",
    "print(result)"
   ]
  },
  {
   "cell_type": "code",
   "execution_count": 28,
   "metadata": {},
   "outputs": [
    {
     "name": "stdout",
     "output_type": "stream",
     "text": [
      "['cat', 'dog']\n"
     ]
    }
   ],
   "source": [
    "result = re.findall(r\"cat|dog\", \"he likes cats and dogs.\")\n",
    "print(result)"
   ]
  },
  {
   "cell_type": "code",
   "execution_count": 29,
   "metadata": {},
   "outputs": [
    {
     "name": "stdout",
     "output_type": "stream",
     "text": [
      "<re.Match object; span=(0, 15), match='Pyksdjffflsdaln'>\n"
     ]
    }
   ],
   "source": [
    "# repeated matches .*\n",
    "result = re.search(r\"Py.*n\", \"Pyksdjffflsdalnafhdbsd\")\n",
    "print(result)\n"
   ]
  },
  {
   "cell_type": "code",
   "execution_count": 31,
   "metadata": {},
   "outputs": [
    {
     "name": "stdout",
     "output_type": "stream",
     "text": [
      "<re.Match object; span=(0, 25), match='Pyksdjfffl sdalna fhdbsdn'>\n"
     ]
    }
   ],
   "source": [
    "result = re.search(r\"Py.*n\", \"Pyksdjfffl sdalna fhdbsdn\")\n",
    "print(result)\n",
    "# greedy behaviour"
   ]
  },
  {
   "cell_type": "code",
   "execution_count": 33,
   "metadata": {},
   "outputs": [
    {
     "name": "stdout",
     "output_type": "stream",
     "text": [
      "<re.Match object; span=(0, 10), match='Pyksdjfffn'>\n"
     ]
    }
   ],
   "source": [
    "result = re.search(r\"Py[a-z]*n\", \"Pyksdjfffn lsdalnaf hdbsdn\")\n",
    "print(result)\n"
   ]
  },
  {
   "cell_type": "code",
   "execution_count": 34,
   "metadata": {},
   "outputs": [
    {
     "name": "stdout",
     "output_type": "stream",
     "text": [
      "<re.Match object; span=(0, 3), match='Pyn'>\n"
     ]
    }
   ],
   "source": [
    "result = re.search(r\"Py[a-z]*n\", \"Pyn\")\n",
    "print(result)\n"
   ]
  },
  {
   "cell_type": "code",
   "execution_count": 36,
   "metadata": {},
   "outputs": [
    {
     "name": "stdout",
     "output_type": "stream",
     "text": [
      "<re.Match object; span=(1, 3), match='ol'>\n"
     ]
    }
   ],
   "source": [
    "result = re.search(r\"o+l+\", \"Woldj\")\n",
    "print(result)\n"
   ]
  },
  {
   "cell_type": "code",
   "execution_count": 37,
   "metadata": {},
   "outputs": [
    {
     "name": "stdout",
     "output_type": "stream",
     "text": [
      "<re.Match object; span=(1, 5), match='ooll'>\n"
     ]
    }
   ],
   "source": [
    "result = re.search(r\"o+l+\", \"Woolldj\")\n",
    "print(result)\n"
   ]
  },
  {
   "cell_type": "code",
   "execution_count": 38,
   "metadata": {},
   "outputs": [
    {
     "name": "stdout",
     "output_type": "stream",
     "text": [
      "None\n"
     ]
    }
   ],
   "source": [
    "result = re.search(r\"o+l+\", \"Woildj\")\n",
    "print(result)\n"
   ]
  },
  {
   "cell_type": "code",
   "execution_count": 39,
   "metadata": {},
   "outputs": [
    {
     "name": "stdout",
     "output_type": "stream",
     "text": [
      "<re.Match object; span=(3, 7), match='each'>\n"
     ]
    }
   ],
   "source": [
    "result = re.search(r\"p?each\", \"To each their own\")\n",
    "print(result)\n",
    "#p is optional"
   ]
  },
  {
   "cell_type": "code",
   "execution_count": 40,
   "metadata": {},
   "outputs": [
    {
     "name": "stdout",
     "output_type": "stream",
     "text": [
      "<re.Match object; span=(7, 12), match='peach'>\n"
     ]
    }
   ],
   "source": [
    "result = re.search(r\"p?each\", \"I like peaches\")\n",
    "print(result)\n",
    "# p is optional"
   ]
  },
  {
   "cell_type": "code",
   "execution_count": 41,
   "metadata": {},
   "outputs": [
    {
     "name": "stdout",
     "output_type": "stream",
     "text": [
      "<re.Match object; span=(2, 6), match='lcom'>\n"
     ]
    }
   ],
   "source": [
    "#Special cahracters .*+?^$[]\n",
    "# Escaping character \\\n",
    "result = re.search(r\".com\", \"welcome\")\n",
    "print(result)\n",
    "\n"
   ]
  },
  {
   "cell_type": "code",
   "execution_count": 71,
   "metadata": {},
   "outputs": [
    {
     "name": "stdout",
     "output_type": "stream",
     "text": [
      "<re.Match object; span=(19, 23), match='.com'>\n"
     ]
    }
   ],
   "source": [
    "result = re.search(r\"\\.com\", \"welcome to coursera.com\")\n",
    "print(result)\n"
   ]
  },
  {
   "cell_type": "code",
   "execution_count": 67,
   "metadata": {},
   "outputs": [
    {
     "name": "stdout",
     "output_type": "stream",
     "text": [
      "<re.Match object; span=(0, 4), match='This'>\n"
     ]
    }
   ],
   "source": [
    "result = re.search(r\"\\w*\", \"This is an example\")\n",
    "print(result)\n",
    "#\\w* maches letters,numbers,_ until space\n",
    "#\\d maches digits until space\n",
    "#\\s matches spaces,tabs,newline characters"
   ]
  },
  {
   "cell_type": "code",
   "execution_count": 68,
   "metadata": {},
   "outputs": [
    {
     "name": "stdout",
     "output_type": "stream",
     "text": [
      "<re.Match object; span=(0, 11), match='This_is_an_'>\n"
     ]
    }
   ],
   "source": [
    "result = re.search(r\"\\w*\", \"This_is_an_ example\")\n",
    "print(result)"
   ]
  },
  {
   "cell_type": "code",
   "execution_count": 72,
   "metadata": {},
   "outputs": [
    {
     "name": "stdout",
     "output_type": "stream",
     "text": [
      "<re.Match object; span=(0, 9), match='Australia'>\n"
     ]
    }
   ],
   "source": [
    "result = re.search(r\"^A.*a$\", \"Australia\")\n",
    "print(result)"
   ]
  },
  {
   "cell_type": "code",
   "execution_count": 11,
   "metadata": {},
   "outputs": [
    {
     "name": "stdout",
     "output_type": "stream",
     "text": [
      "<re.Match object; span=(0, 20), match='This_is_an_examp9le_'>\n"
     ]
    }
   ],
   "source": [
    "pattern = r\"^[a-zA-Z][a-zA-Z0-9_]*$\"\n",
    "# to check a valid variable name\n",
    "result = re.search(pattern, \"This_is_an_examp9le_\")\n",
    "print(result)"
   ]
  },
  {
   "cell_type": "code",
   "execution_count": 32,
   "metadata": {},
   "outputs": [
    {
     "name": "stdout",
     "output_type": "stream",
     "text": [
      "True\n",
      "False\n",
      "True\n",
      "False\n",
      "True\n"
     ]
    }
   ],
   "source": [
    "\"\"\"The check_web_address function checks if the text passed qualifies as a top-level web address,\n",
    "meaning that it contains alphanumeric characters (which includes letters, numbers, and underscores)\n",
    ", as well as periods, dashes, and a plus sign, followed by a period and a character-only top-level\n",
    "domain such as \".com\", \".info\", \".edu\", etc. Fill in the regular expression to do that, using escape\n",
    "characters,wildcards, repetition qualifiers, beginning and end-of-line characters, and character\n",
    "classes.\"\"\"\n",
    "import re\n",
    "def check_web_address(text):\n",
    "    pattern = \"^([a-zA-Z0-9]+([a-zA-Z0-9_-])*\\\\.)+[a-zA-Z]{2,6}$\"\n",
    "    result = re.search(pattern, text)\n",
    "    return result != None\n",
    "\n",
    "print(check_web_address(\"gmail.com\")) # True\n",
    "print(check_web_address(\"www@google\")) # False\n",
    "print(check_web_address(\"www.Coursera.org\")) # True\n",
    "print(check_web_address(\"web-address.com/homepage\")) # False\n",
    "print(check_web_address(\"My_Favorite-Blog.US\")) # True\n"
   ]
  },
  {
   "cell_type": "code",
   "execution_count": 87,
   "metadata": {},
   "outputs": [
    {
     "name": "stdout",
     "output_type": "stream",
     "text": [
      "True\n",
      "True\n",
      "False\n",
      "False\n",
      "False\n"
     ]
    }
   ],
   "source": [
    "# Python3 program to validate \n",
    "# domain name\n",
    "# using regular expression\n",
    "\"\"\"Where: \n",
    "^ represents the starting of the string.\n",
    "( represents the starting of the group.\n",
    "(?!-) represents the string should not start with a hyphen (-).\n",
    "[A-Za-z0-9-]{1, 63} represents the domain name should be a-z or A-Z or 0-9 and hyphen (-) between 1 and 63 characters long.\n",
    "(?<!-) represents the string should not end with a hyphen (-).\n",
    "\\\\. represents the string followed by a dot.\n",
    ")+ represents the ending of the group, this group must appear at least 1 time, but allowed multiple times for subdomain.\n",
    "[A-Za-z]{2, 6} represents the TLD must be A-Z or a-z between 2 and 6 characters long.\n",
    "$ represents the ending of the string.\n",
    "Match the given string with the regular expression. In Java, this can be done by using Pattern.matcher().\n",
    "Return true if the string matches with the given regular expression, else return false.\"\"\"\n",
    "\n",
    "\n",
    "import re\n",
    "\n",
    "# Function to validate\n",
    "# domain name. \n",
    "def isValidDomain(str):\n",
    "\n",
    "# Regex to check valid \n",
    "# domain name. \n",
    "    regex = \"^((?!-)[A-Za-z0-9-]\" +\"{1,63}(?<!-)\\\\.)\" +\"+[A-Za-z]{2,6}\"\n",
    "\n",
    "# Compile the ReGex\n",
    "    p = re.compile(regex)\n",
    "\n",
    "# If the string is empty \n",
    "# return false\n",
    "    if (str == None):\n",
    "        return False\n",
    "\n",
    "# Return if the string \n",
    "# matched the ReGex\n",
    "    if(re.search(p, str)):\n",
    "        return True\n",
    "    else:\n",
    "        return False\n",
    "\n",
    "# Driver code\n",
    "\n",
    "# Test Case 1:\n",
    "str1 = \"geeksforgeeks.org\"\n",
    "print(isValidDomain(str1))\n",
    "\n",
    "# Test Case 2:\n",
    "str2 = \"contribute.geeksforgeeks.org\"\n",
    "print(isValidDomain(str2))\n",
    "\n",
    "# Test Case 3:\n",
    "str3 = \"-geeksforgeeks.org\"\n",
    "print(isValidDomain(str3))\n",
    "\n",
    "# Test Case 4:\n",
    "str4 = \"geeksforgeeks.o\"\n",
    "print(isValidDomain(str4))\n",
    "\n",
    "# Test Case 5:\n",
    "str5 = \".org\"\n",
    "print(isValidDomain(str5))\n",
    "\n",
    "# This code is contributed by avanitrachhadiya2155\n"
   ]
  },
  {
   "cell_type": "code",
   "execution_count": 19,
   "metadata": {},
   "outputs": [
    {
     "name": "stdout",
     "output_type": "stream",
     "text": [
      "True\n",
      "True\n",
      "False\n",
      "False\n"
     ]
    }
   ],
   "source": [
    "\"\"\"The check_time function checks for the time format of a 12-hour clock, as follows: \n",
    "the hour is between 1 and 12, with no leading zero, followed by a colon, then minutes between\n",
    "00 and 59, then an optional space, and then AM or PM, in upper or lower case. Fill in \n",
    "the regular expression to do that. How many of the concepts that you just learned can you use here?\"\"\"\n",
    "import re\n",
    "def check_time(text):\n",
    "    pattern = \"(1[012]|[1-9]):\"+ \"[0-5][0-9](\\\\s)\"+ \"?([aA|pP][mM])\"\n",
    "  \n",
    "    result = re.search(pattern, text)\n",
    "    return result != None\n",
    "\n",
    "print(check_time(\"12:45pm\")) # True\n",
    "print(check_time(\"9:59 AM\")) # True\n",
    "print(check_time(\"6:60am\")) # False\n",
    "print(check_time(\"five o'clock\")) # False"
   ]
  },
  {
   "cell_type": "code",
   "execution_count": 26,
   "metadata": {},
   "outputs": [
    {
     "name": "stdout",
     "output_type": "stream",
     "text": [
      "False\n",
      "True\n",
      "False\n",
      "True\n",
      "True\n"
     ]
    }
   ],
   "source": [
    "\"\"\"The contains_acronym function checks the text for the presence of 2 or more characters or digits \n",
    "surrounded by parentheses, with at least the first character in uppercase (if it's a letter),\n",
    "returning True if the condition is met, or False otherwise. For example, \n",
    "\"Instant messaging (IM) is a set of communication technologies used for text-based communication\"\n",
    "should return True since (IM) satisfies the match conditions.\" \n",
    "Fill in the regular expression in this function: \"\"\"\n",
    "import re\n",
    "def contains_acronym(text):\n",
    "    pattern = r\"\\([A-Za-z0-9]{3,}\\)\" \n",
    "    result = re.search(pattern, text)\n",
    "    return result != None\n",
    "\n",
    "print(contains_acronym(\"Instant messaging (IM) is a set of communication technologies used for text-based communication\")) # True\n",
    "print(contains_acronym(\"American Standard Code for Information Interchange (ASCII) is a character encoding standard for electronic communication\")) # True\n",
    "print(contains_acronym(\"Please do NOT enter without permission!\")) # False\n",
    "print(contains_acronym(\"PostScript is a fourth-generation programming language (4GL)\")) # True\n",
    "print(contains_acronym(\"Have fun using a self-contained underwater breathing apparatus (Scuba)!\")) # True"
   ]
  },
  {
   "cell_type": "code",
   "execution_count": 58,
   "metadata": {},
   "outputs": [
    {
     "name": "stdout",
     "output_type": "stream",
     "text": [
      "True\n",
      "False\n",
      "True\n",
      "False\n"
     ]
    }
   ],
   "source": [
    "\"\"\"Fill in the code to check if the text passed includes a possible U.S. zip code\n",
    ", formatted as follows: exactly 5 digits, and sometimes, but not always, followed\n",
    "by a dash with 4 more digits. The zip code needs to be preceded by at least one\n",
    "space, and cannot be at the start of the text.\"\"\"\n",
    "import re\n",
    "def check_zip_code (text):\n",
    "    result = re.search(r\"(\\s\\d{5})\"+\"(-\\d{4})?\", text)\n",
    "    return result != None\n",
    "\n",
    "print(check_zip_code(\"The zip codes for New York are 10001 thru 11104.\")) # True\n",
    "print(check_zip_code(\"90210 is a TV show\")) # False\n",
    "print(check_zip_code(\"Their address is: 123 Main Street, Anytown, AZ 85258-0001.\")) # True\n",
    "print(check_zip_code(\"The Parliament of Canada is at 111 Wellington St, Ottawa, ON K1A0A9.\")) # False"
   ]
  },
  {
   "cell_type": "raw",
   "metadata": {},
   "source": [
    "[a-b] where a and b are digits in the range 0 to 9\n",
    "\n",
    "[3-7] will match a single digit in the range 3 to 7.\n",
    "Matching multiple digits\n",
    "\n",
    "\\d\\d       will match 2 consecutive digits\n",
    "\\d+        will match 1 or more consecutive digits\n",
    "\\d*        will match 0 or more consecutive digits\n",
    "\\d{3}      will match 3 consecutive digits\n",
    "\\d{3,6}    will match 3 to 6 consecutive digits\n",
    "\\d{3,}     will match 3 or more consecutive digits\n",
    "The \\d in the above examples can be replaced with a number range:\n",
    "\n",
    "[3-7][3-7]    will match 2 consecutive digits that are in the range 3 to 7\n",
    "[3-7]+        will match 1 or more consecutive digits that are in the range 3 to 7\n",
    "[3-7]*        will match 0 or more consecutive digits that are in the range 3 to 7\n",
    "[3-7]{3}      will match 3 consecutive digits that are in the range 3 to 7\n",
    "[3-7]{3,6}    will match 3 to 6 consecutive digits that are in the range 3 to 7\n",
    "[3-7]{3,}     will match 3 or more consecutive digits that are in the range 3 to 7\n",
    "You can also select specific digits:\n",
    "\n",
    "[13579]       will only match \"odd\" digits\n",
    "[02468]       will only match \"even\" digits\n",
    "1|3|5|7|9     another way of matching \"odd\" digits - the | symbol means OR\n",
    "Matching numbers in ranges that contain more than one digit:\n",
    "\n",
    "\\d|10        matches 0 to 10    single digit OR 10.  The | symbol means OR\n",
    "[1-9]|10     matches 1 to 10    digit in range 1 to 9 OR 10\n",
    "[1-9]|1[0-5] matches 1 to 15    digit in range 1 to 9 OR 1 followed by digit 1 to 5\n",
    "\\d{1,2}|100  matches 0 to 100   one to two digits OR 100\n",
    "Matching numbers that divide by other numbers:\n",
    "\n",
    "\\d*0         matches any number that divides by 10  - any number ending in 0\n",
    "\\d*00        matches any number that divides by 100 - any number ending in 00\n",
    "\\d*[05]      matches any number that divides by 5   - any number ending in 0 or 5\n",
    "\\d*[02468]   matches any number that divides by 2   - any number ending in 0,2,4,6 or 8\n",
    "matching numbers that divide by 4 - any number that is 0, 4 or 8 or ends in 00, 04, 08, 12, 16, 20, 24, 28, 32, 36, 40, 44, 48, 52, 56, 60, 64, 68, 72, 76, 80, 84, 88, 92 or 96\n",
    "\n",
    "[048]|\\d*(00|04|08|12|16|20|24|28|32|36|40|44|48|52|56|60|64|68|72|76|80|84|88|92|96)\n",
    "This can be shortened. For example, instead of using 20|24|28 we can use 2[048]. Also, as the 40s, 60s and 80s have the same pattern we can include them: [02468][048] and the others have a pattern too [13579][26]. So the whole sequence can be reduce to:\n",
    "\n",
    "[048]|\\d*([02468][048]|[13579][26])    - numbers divisible by 4\n",
    "Matching numbers that don't have a pattern like those divisible by 2,4,5,10 etc can't always be done succinctly and you usually have to resort to a range of numbers. For example matching all numbers that divide by 7 within the range of 1 to 50 can be done simple by listing all those numbers:\n",
    "\n",
    "7|14|21|28|35|42|49\n",
    "\n",
    "or you could do it this way\n",
    "\n",
    "7|14|2[18]|35|4[29]\n"
   ]
  },
  {
   "cell_type": "code",
   "execution_count": 59,
   "metadata": {},
   "outputs": [],
   "source": [
    "# Capturing groups\n",
    "# portion of pattern that are enclosed in parantheses"
   ]
  },
  {
   "cell_type": "code",
   "execution_count": 71,
   "metadata": {},
   "outputs": [
    {
     "name": "stdout",
     "output_type": "stream",
     "text": [
      "<re.Match object; span=(0, 14), match='Lovelance, Ada'>\n",
      "('Lovelance', 'Ada')\n",
      "Lovelance, Ada\n",
      "Lovelance\n",
      "Ada\n"
     ]
    },
    {
     "data": {
      "text/plain": [
       "'Ada Lovelance'"
      ]
     },
     "execution_count": 71,
     "metadata": {},
     "output_type": "execute_result"
    }
   ],
   "source": [
    "result = re.search(r\"^(\\w*), (\\w*)$\", \"Lovelance, Ada\")\n",
    "print(result)\n",
    "# \\w will mathc letters,numbers and underscores\n",
    "print(result.groups())\n",
    "#group method will return the tuple of two elements\n",
    "print(result[0])\n",
    "print(result[1])\n",
    "print(result[2])\n",
    "\"{} {}\".format(result[2],result[1])"
   ]
  },
  {
   "cell_type": "code",
   "execution_count": 81,
   "metadata": {},
   "outputs": [
    {
     "name": "stdout",
     "output_type": "stream",
     "text": [
      "shahzad asif\n",
      "M. asif, shahzad\n",
      "shahzad M. asif\n"
     ]
    }
   ],
   "source": [
    "def rearrange_name1(name):\n",
    "    result = re.search(r\"^(\\w*), (\\w*)$\", name)\n",
    "    if result is None:\n",
    "        return name\n",
    "    else:\n",
    "        result.groups()\n",
    "        return \"{} {}\".format(result[2],result[1])\n",
    "\n",
    "def rearrange_name2(name):\n",
    "    result = re.search(r\"^([\\w .-]*), ([\\w .-]*)$\", name)\n",
    "    if result is None:\n",
    "        return name\n",
    "    return \"{} {}\".format(result[2],result[1])\n",
    "print(rearrange_name1(\"asif, shahzad\"))\n",
    "print(rearrange_name1(\"M. asif, shahzad\")) # can't process spased and dots in name\n",
    "print(rearrange_name2(\"M. asif, shahzad\"))"
   ]
  },
  {
   "cell_type": "code",
   "execution_count": 18,
   "metadata": {},
   "outputs": [
    {
     "name": "stdout",
     "output_type": "stream",
     "text": [
      "<re.Match object; span=(4, 9), match='grace'>\n",
      "['grace', 'guide', 'goodn', 'someo']\n",
      "['grace', 'guide']\n",
      "['grace', 'guide', '1234_5690', 'goodnessl', 'ytgft', 'someone']\n",
      "['grace', 'guide', '123_45svcsxv', 'goodnesslytgft', 'someone']\n",
      "<re.Match object; span=(4, 9), match='grace'>\n",
      "['grace', 'guide', 'goodnesslytg']\n"
     ]
    }
   ],
   "source": [
    "# repeition quantifiers * + and ?\n",
    "# PYTHON also offer numeric repitition quantifier\n",
    "import re\n",
    "result = re.search(r\"[a-zA-z]{5}\", \"The grace is good.\")\n",
    "print(result)\n",
    "result = re.findall(r\"[a-zA-z]{5}\", \"The grace and guide are goodness of someone.\")\n",
    "print(result)\n",
    "result = re.findall(r\"\\b[a-zA-z]{5}\\b\", \"The grace and guide are goodness of someone.\")\n",
    "print(result)   # \\b is used to restrict the search to exactly 5 letters words\n",
    "result = re.findall(r\"\\w{5,9}\", \"The grace and guide are 1234_569001 goodnesslytgft of someone.\")\n",
    "print(result)\n",
    "result = re.findall(r\"\\w{5,}\", \"The grace and guide are 123_45svcsxv goodnesslytgft of someone.\")\n",
    "print(result)\n",
    "result = re.search(r\"g\\w{,11}\", \"The grace and guide are 123_45svcsxv goodnesslytgft of someone.\")\n",
    "print(result)\n",
    "result = re.findall(r\"g\\w{,11}\", \"The grace and guide are 123_45svcsxv goodnesslytgft of someone.\")\n",
    "print(result)"
   ]
  },
  {
   "cell_type": "code",
   "execution_count": 20,
   "metadata": {},
   "outputs": [
    {
     "name": "stdout",
     "output_type": "stream",
     "text": [
      "12345\n",
      "98745\n"
     ]
    },
    {
     "ename": "TypeError",
     "evalue": "'NoneType' object is not subscriptable",
     "output_type": "error",
     "traceback": [
      "\u001b[1;31m---------------------------------------------------------------------------\u001b[0m",
      "\u001b[1;31mTypeError\u001b[0m                                 Traceback (most recent call last)",
      "\u001b[1;32m<ipython-input-20-cf8787395ca9>\u001b[0m in \u001b[0;36m<module>\u001b[1;34m\u001b[0m\n\u001b[0;32m      9\u001b[0m \u001b[0mprint\u001b[0m\u001b[1;33m(\u001b[0m\u001b[0mresult\u001b[0m\u001b[1;33m[\u001b[0m\u001b[1;36m1\u001b[0m\u001b[1;33m]\u001b[0m\u001b[1;33m)\u001b[0m\u001b[1;33m\u001b[0m\u001b[1;33m\u001b[0m\u001b[0m\n\u001b[0;32m     10\u001b[0m \u001b[0mresult\u001b[0m \u001b[1;33m=\u001b[0m \u001b[0mre\u001b[0m\u001b[1;33m.\u001b[0m\u001b[0msearch\u001b[0m\u001b[1;33m(\u001b[0m\u001b[0mregex\u001b[0m\u001b[1;33m,\u001b[0m\u001b[1;34m\"999 elephans are going in [jungl]\"\u001b[0m\u001b[1;33m)\u001b[0m\u001b[1;33m\u001b[0m\u001b[1;33m\u001b[0m\u001b[0m\n\u001b[1;32m---> 11\u001b[1;33m \u001b[0mprint\u001b[0m\u001b[1;33m(\u001b[0m\u001b[0mresult\u001b[0m\u001b[1;33m[\u001b[0m\u001b[1;36m1\u001b[0m\u001b[1;33m]\u001b[0m\u001b[1;33m)\u001b[0m\u001b[1;33m\u001b[0m\u001b[1;33m\u001b[0m\u001b[0m\n\u001b[0m",
      "\u001b[1;31mTypeError\u001b[0m: 'NoneType' object is not subscriptable"
     ]
    }
   ],
   "source": [
    "# using re module to extract irequireed information\n",
    "import re\n",
    "\n",
    "log = \"July 31 07:51:48 mycomputer bad_process[12345]: ERROR performing pakage upgrade\"\n",
    "regex = r\"\\[(\\d+)\\]\"\n",
    "result = re.search(regex,log)\n",
    "print(result[1])\n",
    "result = re.search(regex,\"The process code was [98745]\")\n",
    "print(result[1])\n",
    "result = re.search(regex,\"999 elephans are going in [jungl]\")\n",
    "print(result[1])"
   ]
  },
  {
   "cell_type": "code",
   "execution_count": 22,
   "metadata": {},
   "outputs": [
    {
     "name": "stdout",
     "output_type": "stream",
     "text": [
      "12345\n",
      "98745\n",
      "\n"
     ]
    }
   ],
   "source": [
    "def extract_pid(log_line):\n",
    "    regex = r\"\\[(\\d+)\\]\"\n",
    "    result = re.search(regex,log_line)\n",
    "    if result is None:\n",
    "        return \"\"\n",
    "    return result[1]\n",
    "\n",
    "print(extract_pid(\"July 31 07:51:48 mycomputer bad_process[12345]: ERROR performing pakage upgrade\"))\n",
    "print(extract_pid(\"The process code was [98745]\"))\n",
    "print(extract_pid(\"999 elephans are going in [jungl]\"))"
   ]
  },
  {
   "cell_type": "code",
   "execution_count": 26,
   "metadata": {},
   "outputs": [
    {
     "name": "stdout",
     "output_type": "stream",
     "text": [
      "['This is sentence', ' And this is anonther', ' This is also', '']\n",
      "['This is sentence', '.', ' And this is anonther', '?', ' This is also', '!', '']\n"
     ]
    }
   ],
   "source": [
    "# Splitin an Replacing\n",
    "print(re.split(r\"[.?!]\", \"This is sentence. And this is anonther? This is also!\"))\n",
    "print(re.split(r\"([.?!])\", \"This is sentence. And this is anonther? This is also!\"))   #using capturin paranthesis\n"
   ]
  },
  {
   "cell_type": "code",
   "execution_count": 31,
   "metadata": {},
   "outputs": [
    {
     "data": {
      "text/plain": [
       "'Received an email from [REDACTED]'"
      ]
     },
     "execution_count": 31,
     "metadata": {},
     "output_type": "execute_result"
    }
   ],
   "source": [
    "re.sub(r\"[\\w.%+.]+@[\\w.-]+\",\"[REDACTED]\",\"Received an email from go_nuts95@gmail..example.com\")"
   ]
  },
  {
   "cell_type": "code",
   "execution_count": 36,
   "metadata": {},
   "outputs": [
    {
     "data": {
      "text/plain": [
       "'Java Randy'"
      ]
     },
     "execution_count": 36,
     "metadata": {},
     "output_type": "execute_result"
    }
   ],
   "source": [
    "re.sub(r\"^([\\w .-]*), ([\\w .-]*)$\", r\"\\2 \\1\", \"Lovelance, Ada\")\n",
    "re.sub(r\"^([\\w .-]*), ([\\w .-]*)$\", r\"\\2 \\1\", \"Randy, Java\")"
   ]
  },
  {
   "cell_type": "code",
   "execution_count": 30,
   "metadata": {},
   "outputs": [
    {
     "name": "stdout",
     "output_type": "stream",
     "text": [
      "<re.Match object; span=(0, 16), match='asd.jk-f@abc.com'>\n",
      "asd.jk-f@xyz.com\n"
     ]
    }
   ],
   "source": [
    "import re\n",
    "old_domain = \"abc\"\n",
    "result = re.search(r\"[\\w\\.-]+@\"+old_domain+\"(.com)\", \"asd.jk-f@abc.com\")\n",
    "print(result)\n",
    "new_domain = \"xyz\"\n",
    "result = re.sub(r\"([\\w\\.-]+@)\"+(old_domain)+\"([.com])\",r\"\\1\"+new_domain+\".\",\"asd.jk-f@abc.com\")\n",
    "print(result)"
   ]
  },
  {
   "cell_type": "code",
   "execution_count": 63,
   "metadata": {},
   "outputs": [
    {
     "name": "stdout",
     "output_type": "stream",
     "text": [
      "Sabrina Green,+1-802-867-5309,System Administrator\n",
      "Eli Jones,+1-684-3481127,IT specialist\n",
      "Melody Daniels,+1-846-687-7436,Programmer\n",
      "Charlie Rivera,+1-698-746-3357,Web Developer\n"
     ]
    }
   ],
   "source": [
    "\"\"\"We're working with a CSV file, which contains employee information. Each record has a name field,\n",
    "followed by a phone number field, and a role field. The phone number field contains U.S. phone numbers\n",
    ", and needs to be modified to the international format, with \"+1-\" in front of the phone number.\n",
    "Fill in the regular expression, using groups, to use the transform_record function to do that.\"\"\"\n",
    "import re\n",
    "def transform_record(record):\n",
    "    new_record_1 = re.sub(r\",(\\d{3}-\\d{3,}(-\\d{3,})?)\", r',+1-'+record.split(\",\")[1], record)\n",
    "    new_record_2 = re.sub(r',(?=\\d)', r',+1-', record)\n",
    "    return new_record_1\n",
    "\n",
    "print(transform_record(\"Sabrina Green,802-867-5309,System Administrator\")) \n",
    "# Sabrina Green,+1-802-867-5309,System Administrator\n",
    "\n",
    "print(transform_record(\"Eli Jones,684-3481127,IT specialist\")) \n",
    "# Eli Jones,+1-684-3481127,IT specialist\n",
    "\n",
    "print(transform_record(\"Melody Daniels,846-687-7436,Programmer\")) \n",
    "# Melody Daniels,+1-846-687-7436,Programmer\n",
    "\n",
    "print(transform_record(\"Charlie Rivera,698-746-3357,Web Developer\")) \n",
    "# Charlie Rivera,+1-698-746-3357,Web Developer"
   ]
  },
  {
   "cell_type": "code",
   "execution_count": 80,
   "metadata": {},
   "outputs": [
    {
     "name": "stdout",
     "output_type": "stream",
     "text": [
      "['beautiful']\n",
      "['Obviously', 'queen', 'courageous', 'gracious']\n",
      "['rambunctious', 'quietly', 'delicious']\n",
      "['queue']\n",
      "[]\n"
     ]
    }
   ],
   "source": [
    "\"\"\"The multi_vowel_words function returns all words with 3 or more consecutive vowels (a, e, i, o, u).\n",
    "Fill in the regular expression to do that.\"\"\"\n",
    "import re\n",
    "def multi_vowel_words(text):\n",
    "    pattern = r\"\\w*[aeiou]{3,}\\w*\"\n",
    "    result = re.findall(pattern, text)\n",
    "    return result\n",
    "\n",
    "print(multi_vowel_words(\"Life is beautiful\")) \n",
    "# ['beautiful']\n",
    "\n",
    "print(multi_vowel_words(\"Obviously, the queen is courageous and gracious.\")) \n",
    "# ['Obviously', 'queen', 'courageous', 'gracious']\n",
    "\n",
    "print(multi_vowel_words(\"The rambunctious children had to sit quietly and await their delicious dinner.\")) \n",
    "# ['rambunctious', 'quietly', 'delicious']\n",
    "\n",
    "print(multi_vowel_words(\"The order of a data queue is First In First Out (FIFO)\")) \n",
    "# ['queue']\n",
    "\n",
    "print(multi_vowel_words(\"Hello world!\")) \n",
    "# []"
   ]
  },
  {
   "cell_type": "code",
   "execution_count": 78,
   "metadata": {},
   "outputs": [
    {
     "name": "stdout",
     "output_type": "stream",
     "text": [
      "['eau']\n"
     ]
    }
   ],
   "source": [
    "pattern = r\"[aeiou]{3,}\"\n",
    "result = re.findall(pattern, \"Life is beautiful\")\n",
    "print(result)\n",
    "# r\"\\b\\w*[aeiou]{3,}\\w*\\b\""
   ]
  },
  {
   "cell_type": "code",
   "execution_count": 87,
   "metadata": {},
   "outputs": [
    {
     "name": "stdout",
     "output_type": "stream",
     "text": [
      "// Start of program\n",
      "  number = 0   // Initialize the variable\n",
      "  number += 1   // Increment the variable\n",
      "  return(number)\n"
     ]
    }
   ],
   "source": [
    "\"\"\"The transform_comments function converts comments in a Python script into those usable by\n",
    "a C compiler. This means looking for text that begins with a hash mark (#) and replacing it \n",
    "with double slashes (//), which is the C single-line comment indicator. For the purpose of \n",
    "this exercise, we'll ignore the possibility of a hash mark embedded inside of a Python command,\n",
    "and assume that it's only used to indicate a comment. We also want to treat repetitive \n",
    "hash marks (##), (###), etc., as a single comment indicator, to be replaced with just (//) \n",
    "and not (#//) or (//#).Fill in the parameters of the substitution \n",
    "method to complete this function: \"\"\"\n",
    "import re\n",
    "def transform_comments(line_of_code):\n",
    "    result = re.sub(r\"([#]{1,})\",r\"//\",line_of_code)\n",
    "    return result\n",
    "\n",
    "print(transform_comments(\"### Start of program\")) \n",
    "# Should be \"// Start of program\"\n",
    "print(transform_comments(\"  number = 0   ## Initialize the variable\")) \n",
    "# Should be \"  number = 0   // Initialize the variable\"\n",
    "print(transform_comments(\"  number += 1   # Increment the variable\")) \n",
    "# Should be \"  number += 1   // Increment the variable\"\n",
    "print(transform_comments(\"  return(number)\")) \n",
    "# Should be \"  return(number)\""
   ]
  },
  {
   "cell_type": "code",
   "execution_count": 98,
   "metadata": {},
   "outputs": [
    {
     "name": "stdout",
     "output_type": "stream",
     "text": [
      "My number is (212) 345-9999.\n",
      "Please call (888) 555-1234\n",
      "123-123-12345\n",
      "Phone number of Buckingham Palace is +44 303 123 7300\n"
     ]
    }
   ],
   "source": [
    "\"\"\"The convert_phone_number function checks for a U.S. phone number format: XXX-XXX-XXXX \n",
    "(3 digits followed by a dash, 3 more digits followed by a dash, and 4 digits), and converts \n",
    "it to a more formal format that looks like this:(XXX) XXX-XXXX. Fill in the regular expression \n",
    "to complete this function.\"\"\"\n",
    "import re\n",
    "def convert_phone_number(phone):\n",
    "    result_1 = re.sub(r\"\\b([\\d]{3})-([\\d]{3})-([\\d]{4})\\b\",r\"(\\1) \\2-\\3\",phone)    \n",
    "    # re.sub(r\"^([\\w .-]*), ([\\w .-]*)$\", r\"\\2 \\1\", \"Lovelance, Ada\")\n",
    "    result_2 = re.search(r\"[\\d]{3}-[\\d]{3}-[\\d]{4}\",phone)\n",
    "    return result_1\n",
    "\n",
    "print(convert_phone_number(\"My number is 212-345-9999.\")) # My number is (212) 345-9999.\n",
    "print(convert_phone_number(\"Please call 888-555-1234\")) # Please call (888) 555-1234\n",
    "print(convert_phone_number(\"123-123-12345\")) # 123-123-12345\n",
    "print(convert_phone_number(\"Phone number of Buckingham Palace is +44 303 123 7300\")) # Phone number of Buckingham Palace is +44 303 123 7300"
   ]
  },
  {
   "cell_type": "code",
   "execution_count": 6,
   "metadata": {},
   "outputs": [],
   "source": [
    "# Search for lines that contain 'From'\n",
    "import re\n",
    "hand = open('newfile.txt')\n",
    "for line in hand:\n",
    "    line = line.rstrip()\n",
    "    if re.search('\\:', line):\n",
    "        print(line)"
   ]
  },
  {
   "cell_type": "code",
   "execution_count": null,
   "metadata": {},
   "outputs": [],
   "source": []
  }
 ],
 "metadata": {
  "kernelspec": {
   "display_name": "Python 3",
   "language": "python",
   "name": "python3"
  },
  "language_info": {
   "codemirror_mode": {
    "name": "ipython",
    "version": 3
   },
   "file_extension": ".py",
   "mimetype": "text/x-python",
   "name": "python",
   "nbconvert_exporter": "python",
   "pygments_lexer": "ipython3",
   "version": "3.8.5"
  }
 },
 "nbformat": 4,
 "nbformat_minor": 4
}
