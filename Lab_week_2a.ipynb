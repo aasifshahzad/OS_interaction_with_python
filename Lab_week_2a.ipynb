{
 "cells": [
  {
   "cell_type": "code",
   "execution_count": 1,
   "metadata": {},
   "outputs": [
    {
     "name": "stdout",
     "output_type": "stream",
     "text": [
      "Full Name,Username,Department\n",
      "\n",
      "Audrey Miller,audrey,Development\n",
      "\n",
      "Arden Garcia,ardeng,Sales\n",
      "\n",
      "Bailey Thomas,baileyt,Human Resources\n",
      "\n",
      "Blake Sousa,sousa,IT infrastructure\n",
      "\n",
      "Cameron Nguyen,nguyen,Marketing\n",
      "\n",
      "Charlie Grey,greyc,Development\n",
      "\n",
      "Chris Black,chrisb,User Experience Research\n",
      "\n",
      "Courtney Silva,silva,IT infrastructure\n",
      "\n",
      "Darcy Johnsonn,darcy,IT infrastructure\n",
      "\n",
      "Elliot Lamb,elliotl,Development\n",
      "\n",
      "Emery Halls,halls,Sales\n",
      "\n",
      "Flynn McMillan,flynn,Marketing\n",
      "\n",
      "Harley Klose,harley,Human Resources\n",
      "\n",
      "Jean May Coy,jeanm,Vendor operations\n",
      "\n",
      "Kay Stevens,kstev,Sales\n",
      "\n",
      "Lio Nelson,lion,User Experience Research\n",
      "\n",
      "Logan Tillas,tillas,Vendor operations\n",
      "\n",
      "Micah Lopes,micah,Development\n",
      "\n",
      "Sol Mansi,solm,IT infrastructure\n"
     ]
    }
   ],
   "source": [
    "import csv\n",
    "import os\n",
    "with open(\"employees.csv\") as file:\n",
    "    for lines in file:\n",
    "        print(lines)\n",
    "    "
   ]
  },
  {
   "cell_type": "code",
   "execution_count": 2,
   "metadata": {},
   "outputs": [
    {
     "name": "stdout",
     "output_type": "stream",
     "text": [
      "[{'Full Name': 'Audrey Miller', 'Username': 'audrey', 'Department': 'Development'}, {'Full Name': 'Arden Garcia', 'Username': 'ardeng', 'Department': 'Sales'}, {'Full Name': 'Bailey Thomas', 'Username': 'baileyt', 'Department': 'Human Resources'}, {'Full Name': 'Blake Sousa', 'Username': 'sousa', 'Department': 'IT infrastructure'}, {'Full Name': 'Cameron Nguyen', 'Username': 'nguyen', 'Department': 'Marketing'}, {'Full Name': 'Charlie Grey', 'Username': 'greyc', 'Department': 'Development'}, {'Full Name': 'Chris Black', 'Username': 'chrisb', 'Department': 'User Experience Research'}, {'Full Name': 'Courtney Silva', 'Username': 'silva', 'Department': 'IT infrastructure'}, {'Full Name': 'Darcy Johnsonn', 'Username': 'darcy', 'Department': 'IT infrastructure'}, {'Full Name': 'Elliot Lamb', 'Username': 'elliotl', 'Department': 'Development'}, {'Full Name': 'Emery Halls', 'Username': 'halls', 'Department': 'Sales'}, {'Full Name': 'Flynn McMillan', 'Username': 'flynn', 'Department': 'Marketing'}, {'Full Name': 'Harley Klose', 'Username': 'harley', 'Department': 'Human Resources'}, {'Full Name': 'Jean May Coy', 'Username': 'jeanm', 'Department': 'Vendor operations'}, {'Full Name': 'Kay Stevens', 'Username': 'kstev', 'Department': 'Sales'}, {'Full Name': 'Lio Nelson', 'Username': 'lion', 'Department': 'User Experience Research'}, {'Full Name': 'Logan Tillas', 'Username': 'tillas', 'Department': 'Vendor operations'}, {'Full Name': 'Micah Lopes', 'Username': 'micah', 'Department': 'Development'}, {'Full Name': 'Sol Mansi', 'Username': 'solm', 'Department': 'IT infrastructure'}]\n"
     ]
    }
   ],
   "source": [
    "# This code is used to convert csv file data into a list of dictionaries\n",
    "\n",
    "import csv\n",
    "with open(\"employees.csv\") as f:\n",
    "    file_data = csv.reader(f)\n",
    "    header = next(file_data)\n",
    "    employee_list = ([dict(zip(header,i)) for i in file_data])\n",
    "    print(employee_list)\n"
   ]
  },
  {
   "cell_type": "code",
   "execution_count": 4,
   "metadata": {},
   "outputs": [
    {
     "data": {
      "text/plain": [
       "'# This code will return the dictionary from a csv file with column name as key and list of row value for\\n# corresponding subject key\\ninput_file = csv.DictReader(open(\"employees.csv\"))\\ncsv_dict = {elem: [] for elem in input_file.fieldnames}\\nfor row in input_file:\\n    for key in csv_dict.keys():\\n        csv_dict[key].append(row[key])\\nprint(csv_dict)\\n\\nprint(csv_dict[\"Full Name\"])\\n\\nprint(csv_dict[\"Username\"])\\n\\nprint(csv_dict[\"Department\"])\\n\\n'"
      ]
     },
     "execution_count": 4,
     "metadata": {},
     "output_type": "execute_result"
    }
   ],
   "source": [
    "\"\"\"# This code will return the dictionary from a csv file with column name as key and list of row value for\n",
    "# corresponding subject key\n",
    "input_file = csv.DictReader(open(\"employees.csv\"))\n",
    "csv_dict = {elem: [] for elem in input_file.fieldnames}\n",
    "for row in input_file:\n",
    "    for key in csv_dict.keys():\n",
    "        csv_dict[key].append(row[key])\n",
    "print(csv_dict)\n",
    "\n",
    "print(csv_dict[\"Full Name\"])\n",
    "\n",
    "print(csv_dict[\"Username\"])\n",
    "\n",
    "print(csv_dict[\"Department\"])\n",
    "\n",
    "\"\"\""
   ]
  },
  {
   "cell_type": "code",
   "execution_count": 5,
   "metadata": {},
   "outputs": [],
   "source": [
    "#print(employee_list)\n",
    "def process_data(employee_list):\n",
    "    department_list = []\n",
    "    for employee_data in employee_list:\n",
    "        #print(employee_data)\n",
    "        #print(employee_data['Department'])\n",
    "        department_list.append(employee_data[\"Department\"])\n",
    "    return department_list\n",
    "department_list = process_data(employee_list)"
   ]
  },
  {
   "cell_type": "code",
   "execution_count": 6,
   "metadata": {},
   "outputs": [
    {
     "name": "stdout",
     "output_type": "stream",
     "text": [
      "{'Development': 4, 'Sales': 3, 'Human Resources': 2, 'IT infrastructure': 4, 'Marketing': 2, 'User Experience Research': 2, 'Vendor operations': 2}\n"
     ]
    }
   ],
   "source": [
    "from collections import Counter\n",
    "department_data = dict(Counter(department_list))\n",
    "print(department_data)\n"
   ]
  },
  {
   "cell_type": "code",
   "execution_count": 7,
   "metadata": {},
   "outputs": [],
   "source": [
    "def generate_report(department_data,path):\n",
    "    \n",
    "    import os\n",
    "    filename = os.path.join(path,'report.txt')\n",
    "    with open(filename, \"w+\") as f:\n",
    "        for k,v in sorted(department_data.items()):\n",
    "            f.write(str(k)+':'+str(v)+'\\n')\n",
    "        \n",
    "generate_report(department_data,\"C:/Users/asif1/Git/OS_interaction_with_python/new_dir\")"
   ]
  },
  {
   "cell_type": "raw",
   "metadata": {},
   "source": [
    "Final file \"generate_py\" in putty"
   ]
  },
  {
   "cell_type": "code",
   "execution_count": null,
   "metadata": {},
   "outputs": [],
   "source": [
    "#!/usr/bin/env python3\n",
    "import csv\n",
    "with open(\"../data/employees.csv\") as f:\n",
    "    file_data = csv.reader(f)\n",
    "    header = next(file_data)\n",
    "    employee_list = ([dict(zip(header,i)) for i in file_data])\n",
    "#    print(employee_list)\n",
    "def process_data(employee_list):\n",
    "    department_list = []\n",
    "    for employee_data in employee_list:\n",
    "        #print(employee_data)\n",
    "        #print(employee_data['Department'])\n",
    "        department_list.append(employee_data[\" Department\"])\n",
    "    return department_list\n",
    "department_list = process_data(employee_list)\n",
    "#print(department_list)\n",
    "from collections import Counter\n",
    "department_data = dict(Counter(department_list))\n",
    "#print(department_data)\n",
    "def generate_report(department_data,path):\n",
    "    import os\n",
    "    path = '../data/'\n",
    "    filename = os.path.join(path,'report.txt')\n",
    "    with open(filename, \"w+\") as f:\n",
    "        for k,v in sorted(department_data.items()):\n",
    "            f.write(str(k)+':'+str(v)+'\\n')\n",
    "\n",
    "generate_report(department_data,\"../test_report.txt\")\n"
   ]
  },
  {
   "cell_type": "code",
   "execution_count": null,
   "metadata": {},
   "outputs": [],
   "source": [
    "#!/usr/bin/env python3\n",
    "import csv\n",
    "def read_employees(csv_file_location):\n",
    "    csv.register_dialect('empDialect', skipinitialspace=True, strict=True)\n",
    "    employee_file = csv.DictReader(open(csv_file_location), dialect = 'empDialect')\n",
    "    employee_list = []\n",
    "    for data in employee_file:\n",
    "        employee_list.append(data)\n",
    "    return employee_list\n",
    "employee_list = read_employees('../data/employees.csv')\n",
    "#print(employee_list)\n"
   ]
  },
  {
   "cell_type": "code",
   "execution_count": null,
   "metadata": {},
   "outputs": [],
   "source": []
  }
 ],
 "metadata": {
  "kernelspec": {
   "display_name": "Python 3",
   "language": "python",
   "name": "python3"
  },
  "language_info": {
   "codemirror_mode": {
    "name": "ipython",
    "version": 3
   },
   "file_extension": ".py",
   "mimetype": "text/x-python",
   "name": "python",
   "nbconvert_exporter": "python",
   "pygments_lexer": "ipython3",
   "version": "3.8.5"
  }
 },
 "nbformat": 4,
 "nbformat_minor": 4
}
