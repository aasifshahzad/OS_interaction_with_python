{
 "cells": [
  {
   "cell_type": "code",
   "execution_count": 3,
   "metadata": {},
   "outputs": [
    {
     "name": "stdout",
     "output_type": "stream",
     "text": [
      "Please enter your name: ssai\n",
      "hello ssai\n"
     ]
    }
   ],
   "source": [
    "name = input(\"Please enter your name: \")\n",
    "print(\"hello \"+name)"
   ]
  },
  {
   "cell_type": "code",
   "execution_count": 1,
   "metadata": {},
   "outputs": [
    {
     "name": "stdout",
     "output_type": "stream",
     "text": [
      "Welcome to Time converter\n",
      "Please enter the hours: 54\n",
      "Please enter the minutes: 36\n",
      "Please enter the seconds: 50\n",
      "That's 196610 seconds.\n",
      "\n",
      "Do you want to do another conversion? [y to countinue]y\n",
      "Please enter the hours: 98\n",
      "Please enter the minutes: 654\n",
      "Please enter the seconds: 5896\n",
      "That's 397936 seconds.\n",
      "\n",
      "Do you want to do another conversion? [y to countinue]n\n",
      "Goodbye\n"
     ]
    }
   ],
   "source": [
    "def to_seconds(hrs,min,sec):\n",
    "    return hrs*3600+min*60+sec\n",
    "\n",
    "\n",
    "print(\"Welcome to Time converter\")\n",
    "\n",
    "count = \"y\"\n",
    "\n",
    "while (count.lower() == \"y\"):\n",
    "    hrs = int(input(\"Please enter the hours: \"))\n",
    "    min = int(input(\"Please enter the minutes: \"))\n",
    "    sec = int(input(\"Please enter the seconds: \"))\n",
    "    \n",
    "    print(\"That's {} seconds.\".format(to_seconds(hrs,min,sec)))\n",
    "    print()\n",
    "    count = input(\"Do you want to do another conversion? [y to countinue]\")\n",
    "    \n",
    "print(\"Goodbye\")\n"
   ]
  },
  {
   "cell_type": "code",
   "execution_count": 3,
   "metadata": {},
   "outputs": [
    {
     "name": "stdout",
     "output_type": "stream",
     "text": [
      "This will come from STDIN: asif\n",
      "Now we will write it to STDOUT: asif\n",
      "Now we generate an error to STDERR: asif1\n"
     ]
    }
   ],
   "source": [
    "data = input(\"This will come from STDIN: \")\n",
    "print(\"Now we will write it to STDOUT: \" + data)\n",
    "print(\"Now we generate an error to STDERR: \"+ data + str(1))\n"
   ]
  },
  {
   "cell_type": "code",
   "execution_count": 83,
   "metadata": {},
   "outputs": [],
   "source": [
    "#env"
   ]
  },
  {
   "cell_type": "code",
   "execution_count": 9,
   "metadata": {},
   "outputs": [
    {
     "name": "stdout",
     "output_type": "stream",
     "text": [
      "PATH: C:\\Users\\asif1\\anaconda3;C:\\Users\\asif1\\anaconda3\\Library\\mingw-w64\\bin;C:\\Users\\asif1\\anaconda3\\Library\\usr\\bin;C:\\Users\\asif1\\anaconda3\\Library\\bin;C:\\Users\\asif1\\anaconda3\\Scripts;C:\\WINDOWS\\system32;C:\\WINDOWS;C:\\WINDOWS\\System32\\Wbem;C:\\WINDOWS\\System32\\WindowsPowerShell\\v1.0\\;C:\\Program Files\\Git\\cmd;C:\\WINDOWS\\System32\\OpenSSH\\;C:\\Users\\asif1\\AppData\\Local\\Microsoft\\WindowsApps;C:\\Users\\asif1\\AppData\\Local\\GitHubDesktop\\bin;\n",
      "APPDATA: C:\\Users\\asif1\\AppData\\Roaming\n",
      "FRUIT: \n"
     ]
    }
   ],
   "source": [
    "import os \n",
    "print(\"PATH: \"+ os.environ.get(\"PATH\",\"\"))\n",
    "print(\"APPDATA: \"+ os.environ.get(\"APPDATA\",\"\"))\n",
    "print(\"FRUIT: \"+ os.environ.get(\"FRUIT\",\"\"))"
   ]
  },
  {
   "cell_type": "code",
   "execution_count": 1,
   "metadata": {},
   "outputs": [
    {
     "name": "stdout",
     "output_type": "stream",
     "text": [
      "['C:\\\\Users\\\\asif1\\\\Git\\\\OS_interaction_with_python', 'C:\\\\Users\\\\asif1\\\\anaconda3\\\\python38.zip', 'C:\\\\Users\\\\asif1\\\\anaconda3\\\\DLLs', 'C:\\\\Users\\\\asif1\\\\anaconda3\\\\lib', 'C:\\\\Users\\\\asif1\\\\anaconda3', '', 'C:\\\\Users\\\\asif1\\\\anaconda3\\\\lib\\\\site-packages', 'C:\\\\Users\\\\asif1\\\\anaconda3\\\\lib\\\\site-packages\\\\win32', 'C:\\\\Users\\\\asif1\\\\anaconda3\\\\lib\\\\site-packages\\\\win32\\\\lib', 'C:\\\\Users\\\\asif1\\\\anaconda3\\\\lib\\\\site-packages\\\\Pythonwin', 'C:\\\\Users\\\\asif1\\\\anaconda3\\\\lib\\\\site-packages\\\\IPython\\\\extensions', 'C:\\\\Users\\\\asif1\\\\.ipython'] \n",
      "\n",
      "['C:\\\\Users\\\\asif1\\\\anaconda3\\\\lib\\\\site-packages\\\\ipykernel_launcher.py', '-f', 'C:\\\\Users\\\\asif1\\\\AppData\\\\Roaming\\\\jupyter\\\\runtime\\\\kernel-2c95548f-0191-4af1-b970-002c6bff7db3.json'] \n",
      "\n",
      "Copyright (c) 2001-2020 Python Software Foundation.\n",
      "All Rights Reserved.\n",
      "\n",
      "Copyright (c) 2000 BeOpen.com.\n",
      "All Rights Reserved.\n",
      "\n",
      "Copyright (c) 1995-2001 Corporation for National Research Initiatives.\n",
      "All Rights Reserved.\n",
      "\n",
      "Copyright (c) 1991-1995 Stichting Mathematisch Centrum, Amsterdam.\n",
      "All Rights Reserved. \n",
      "\n",
      "<built-in function addaudithook> \n",
      "\n",
      "1013 \n",
      "\n",
      "<built-in function audit> \n",
      "\n",
      "C:\\Users\\asif1\\anaconda3 \n",
      "\n",
      "C:\\Users\\asif1\\anaconda3 \n",
      "\n",
      "<built-in function breakpointhook> \n",
      "\n",
      "<built-in function call_tracing> \n",
      "\n",
      "<ipykernel.displayhook.ZMQShellDisplayHook object at 0x00000253E2BADDF0> \n",
      "\n",
      "False \n",
      "\n",
      "C:\\Users\\asif1\\anaconda3\\python.exe \n",
      "\n",
      "C:\\Users\\asif1\\anaconda3 \n",
      "\n",
      "<built-in function getprofile> \n",
      "\n",
      "<built-in function getcheckinterval> \n",
      "\n",
      "<built-in function gettrace> \n",
      "\n",
      "<built-in function getfilesystemencoding> \n",
      "\n",
      "<built-in function getrecursionlimit> \n",
      "\n",
      "<built-in function getrefcount> \n",
      "\n",
      "<built-in function getsizeof> \n",
      "\n",
      "<built-in function getswitchinterval> \n",
      "\n",
      "<built-in function gettrace> \n",
      "\n",
      "<built-in function getwindowsversion> \n",
      "\n",
      "sys.hash_info(width=64, modulus=2305843009213693951, inf=314159, nan=0, imag=1000003, algorithm='siphash24', hash_bits=64, seed_bits=128, cutoff=0) \n",
      "\n",
      "50857456 \n",
      "\n",
      "namespace(cache_tag='cpython-38', hexversion=50857456, name='cpython', version=sys.version_info(major=3, minor=8, micro=5, releaselevel='final', serial=0)) \n",
      "\n",
      "sys.int_info(bits_per_digit=30, sizeof_digit=4) \n",
      "\n",
      "<ipykernel.iostream.OutStream object at 0x00000253E2B430D0> \n",
      "\n",
      "<_io.TextIOWrapper name='<stdin>' mode='r' encoding='cp1252'> \n",
      "\n",
      "<ipykernel.iostream.OutStream object at 0x00000253E2B43D00> \n",
      "\n",
      "[] \n",
      "\n",
      "['C:\\\\Users\\\\asif1\\\\anaconda3\\\\lib\\\\site-packages\\\\ipykernel_launcher.py', '-f', 'C:\\\\Users\\\\asif1\\\\AppData\\\\Roaming\\\\jupyter\\\\runtime\\\\kernel-2c95548f-0191-4af1-b970-002c6bff7db3.json']\n"
     ]
    }
   ],
   "source": [
    "import sys\n",
    "import sys\n",
    "print(sys.path,'\\n')\n",
    "print(sys.argv,'\\n')\n",
    "print(sys.copyright,'\\n')\n",
    "print(sys.addaudithook,'\\n')\n",
    "print(sys.api_version,'\\n')\n",
    "print(sys.audit,'\\n')\n",
    "print(sys.base_exec_prefix,'\\n')\n",
    "print(sys.base_prefix,'\\n')\n",
    "print(sys.breakpointhook,'\\n')\n",
    "print(sys.call_tracing,'\\n')\n",
    "print(sys.displayhook,'\\n')\n",
    "print(sys.dont_write_bytecode,'\\n')\n",
    "print(sys.executable,'\\n')\n",
    "print(sys.exec_prefix,'\\n')\n",
    "print(sys.getprofile,'\\n')\n",
    "print(sys.getcheckinterval,'\\n')\n",
    "print(sys.gettrace,'\\n')\n",
    "print(sys.getfilesystemencoding,'\\n')\n",
    "print(sys.getrecursionlimit,'\\n')\n",
    "print(sys.getrefcount,'\\n')\n",
    "print(sys.getsizeof,'\\n')\n",
    "print(sys.getswitchinterval,'\\n')\n",
    "\n",
    "print(sys.gettrace,'\\n')\n",
    "print(sys.getwindowsversion,'\\n')\n",
    "print(sys.hash_info,'\\n')\n",
    "print(sys.hexversion,'\\n')\n",
    "print(sys.implementation,'\\n')\n",
    "\n",
    "print(sys.int_info,'\\n')\n",
    "print(sys.stderr,'\\n')\n",
    "print(sys.stdin,'\\n')\n",
    "print(sys.stdout,'\\n')\n",
    "print(sys.warnoptions,'\\n')\n",
    "\n",
    "\n",
    "\n",
    "print(sys.argv)"
   ]
  },
  {
   "cell_type": "code",
   "execution_count": 18,
   "metadata": {},
   "outputs": [],
   "source": [
    "? env "
   ]
  },
  {
   "cell_type": "code",
   "execution_count": 19,
   "metadata": {},
   "outputs": [
    {
     "name": "stderr",
     "output_type": "stream",
     "text": [
      "UsageError: Environment does not have key: var\n"
     ]
    }
   ],
   "source": [
    "env var\n"
   ]
  },
  {
   "cell_type": "code",
   "execution_count": 23,
   "metadata": {},
   "outputs": [
    {
     "name": "stdout",
     "output_type": "stream",
     "text": [
      "env: var=#: get value for var\n",
      "env: var=val              #: set value for var\n",
      "env: var=val              #: set value for var\n",
      "env: var=$val              #: set value for var, using python expansion if possible\n"
     ]
    }
   ],
   "source": [
    "#env lists all environment variables/values\n",
    "%env var                   #: get value for var\n",
    "%env var val              #: set value for var\n",
    "%env var=val              #: set value for var\n",
    "%env var=$val              #: set value for var, using python expansion if possible"
   ]
  },
  {
   "cell_type": "code",
   "execution_count": 29,
   "metadata": {},
   "outputs": [
    {
     "name": "stdout",
     "output_type": "stream",
     "text": [
      "status is false i.e 0\n"
     ]
    }
   ],
   "source": [
    "#Return a dictionary containing the current scope's local variables.\n",
    "\n",
    "var1=\"hello\"\n",
    "if 'var1' in locals():\n",
    "    print (\"status is false i.e 0\")\n",
    "else :\n",
    "    print (\"status is false i.e 1\")"
   ]
  },
  {
   "cell_type": "code",
   "execution_count": 82,
   "metadata": {},
   "outputs": [],
   "source": [
    "locals()"
   ]
  },
  {
   "cell_type": "code",
   "execution_count": 33,
   "metadata": {},
   "outputs": [
    {
     "data": {
      "text/plain": [
       "'$val              #: set value for var, using python expansion if possible'"
      ]
     },
     "execution_count": 33,
     "metadata": {},
     "output_type": "execute_result"
    }
   ],
   "source": [
    "get_ipython().run_line_magic('env', 'var')"
   ]
  },
  {
   "cell_type": "code",
   "execution_count": 37,
   "metadata": {},
   "outputs": [
    {
     "ename": "SyntaxError",
     "evalue": "EOL while scanning string literal (<ipython-input-37-fa67e4bae7f7>, line 1)",
     "output_type": "error",
     "traceback": [
      "\u001b[1;36m  File \u001b[1;32m\"<ipython-input-37-fa67e4bae7f7>\"\u001b[1;36m, line \u001b[1;32m1\u001b[0m\n\u001b[1;33m    get_ipython().run_line_magic('pinfo', '$ print(sys.argv)\u001b[0m\n\u001b[1;37m                                                            ^\u001b[0m\n\u001b[1;31mSyntaxError\u001b[0m\u001b[1;31m:\u001b[0m EOL while scanning string literal\n"
     ]
    }
   ],
   "source": [
    "get_ipython().run_line_magic('pinfo', '$ print(sys.argv)\n"
   ]
  },
  {
   "cell_type": "code",
   "execution_count": 81,
   "metadata": {},
   "outputs": [],
   "source": [
    "get_ipython().run_line_magic('pinfo', ' env')"
   ]
  },
  {
   "cell_type": "code",
   "execution_count": 80,
   "metadata": {},
   "outputs": [
    {
     "ename": "CalledProcessError",
     "evalue": "Command 'ps -aef | grep -i dmesg -wT | grep -v grep' returned non-zero exit status 255.",
     "output_type": "error",
     "traceback": [
      "\u001b[1;31m---------------------------------------------------------------------------\u001b[0m",
      "\u001b[1;31mCalledProcessError\u001b[0m                        Traceback (most recent call last)",
      "\u001b[1;32m<ipython-input-80-f103b912b3f0>\u001b[0m in \u001b[0;36m<module>\u001b[1;34m\u001b[0m\n\u001b[1;32m----> 1\u001b[1;33m \u001b[0mvar1\u001b[0m\u001b[1;33m=\u001b[0m\u001b[0msubprocess\u001b[0m\u001b[1;33m.\u001b[0m\u001b[0mcheck_output\u001b[0m\u001b[1;33m(\u001b[0m\u001b[1;34m'ps -aef | grep -i dmesg -wT | grep -v grep'\u001b[0m\u001b[1;33m,\u001b[0m\u001b[0mshell\u001b[0m\u001b[1;33m=\u001b[0m\u001b[1;32mTrue\u001b[0m\u001b[1;33m)\u001b[0m\u001b[1;33m\u001b[0m\u001b[1;33m\u001b[0m\u001b[0m\n\u001b[0m\u001b[0;32m      2\u001b[0m \u001b[1;32mif\u001b[0m \u001b[1;34m'var1'\u001b[0m \u001b[1;32min\u001b[0m \u001b[0mlocals\u001b[0m\u001b[1;33m(\u001b[0m\u001b[1;33m)\u001b[0m\u001b[1;33m:\u001b[0m\u001b[1;33m\u001b[0m\u001b[1;33m\u001b[0m\u001b[0m\n\u001b[0;32m      3\u001b[0m     \u001b[0mprint\u001b[0m \u001b[1;33m(\u001b[0m\u001b[1;34m\"status is true i.e 0\"\u001b[0m\u001b[1;33m)\u001b[0m\u001b[1;33m\u001b[0m\u001b[1;33m\u001b[0m\u001b[0m\n\u001b[0;32m      4\u001b[0m \u001b[1;32melse\u001b[0m \u001b[1;33m:\u001b[0m\u001b[1;33m\u001b[0m\u001b[1;33m\u001b[0m\u001b[0m\n\u001b[0;32m      5\u001b[0m     \u001b[0mprint\u001b[0m \u001b[1;33m(\u001b[0m\u001b[1;34m\"status is false i.e 1\"\u001b[0m\u001b[1;33m)\u001b[0m\u001b[1;33m\u001b[0m\u001b[1;33m\u001b[0m\u001b[0m\n",
      "\u001b[1;32m~\\anaconda3\\lib\\subprocess.py\u001b[0m in \u001b[0;36mcheck_output\u001b[1;34m(timeout, *popenargs, **kwargs)\u001b[0m\n\u001b[0;32m    409\u001b[0m         \u001b[0mkwargs\u001b[0m\u001b[1;33m[\u001b[0m\u001b[1;34m'input'\u001b[0m\u001b[1;33m]\u001b[0m \u001b[1;33m=\u001b[0m \u001b[1;34m''\u001b[0m \u001b[1;32mif\u001b[0m \u001b[0mkwargs\u001b[0m\u001b[1;33m.\u001b[0m\u001b[0mget\u001b[0m\u001b[1;33m(\u001b[0m\u001b[1;34m'universal_newlines'\u001b[0m\u001b[1;33m,\u001b[0m \u001b[1;32mFalse\u001b[0m\u001b[1;33m)\u001b[0m \u001b[1;32melse\u001b[0m \u001b[1;34mb''\u001b[0m\u001b[1;33m\u001b[0m\u001b[1;33m\u001b[0m\u001b[0m\n\u001b[0;32m    410\u001b[0m \u001b[1;33m\u001b[0m\u001b[0m\n\u001b[1;32m--> 411\u001b[1;33m     return run(*popenargs, stdout=PIPE, timeout=timeout, check=True,\n\u001b[0m\u001b[0;32m    412\u001b[0m                **kwargs).stdout\n\u001b[0;32m    413\u001b[0m \u001b[1;33m\u001b[0m\u001b[0m\n",
      "\u001b[1;32m~\\anaconda3\\lib\\subprocess.py\u001b[0m in \u001b[0;36mrun\u001b[1;34m(input, capture_output, timeout, check, *popenargs, **kwargs)\u001b[0m\n\u001b[0;32m    510\u001b[0m         \u001b[0mretcode\u001b[0m \u001b[1;33m=\u001b[0m \u001b[0mprocess\u001b[0m\u001b[1;33m.\u001b[0m\u001b[0mpoll\u001b[0m\u001b[1;33m(\u001b[0m\u001b[1;33m)\u001b[0m\u001b[1;33m\u001b[0m\u001b[1;33m\u001b[0m\u001b[0m\n\u001b[0;32m    511\u001b[0m         \u001b[1;32mif\u001b[0m \u001b[0mcheck\u001b[0m \u001b[1;32mand\u001b[0m \u001b[0mretcode\u001b[0m\u001b[1;33m:\u001b[0m\u001b[1;33m\u001b[0m\u001b[1;33m\u001b[0m\u001b[0m\n\u001b[1;32m--> 512\u001b[1;33m             raise CalledProcessError(retcode, process.args,\n\u001b[0m\u001b[0;32m    513\u001b[0m                                      output=stdout, stderr=stderr)\n\u001b[0;32m    514\u001b[0m     \u001b[1;32mreturn\u001b[0m \u001b[0mCompletedProcess\u001b[0m\u001b[1;33m(\u001b[0m\u001b[0mprocess\u001b[0m\u001b[1;33m.\u001b[0m\u001b[0margs\u001b[0m\u001b[1;33m,\u001b[0m \u001b[0mretcode\u001b[0m\u001b[1;33m,\u001b[0m \u001b[0mstdout\u001b[0m\u001b[1;33m,\u001b[0m \u001b[0mstderr\u001b[0m\u001b[1;33m)\u001b[0m\u001b[1;33m\u001b[0m\u001b[1;33m\u001b[0m\u001b[0m\n",
      "\u001b[1;31mCalledProcessError\u001b[0m: Command 'ps -aef | grep -i dmesg -wT | grep -v grep' returned non-zero exit status 255."
     ]
    }
   ],
   "source": [
    "var1=subprocess.check_output('ps -aef | grep -i dmesg -wT | grep -v grep',shell=True)\n",
    "if 'var1' in locals():\n",
    "    print (\"status is true i.e 0\")\n",
    "else :\n",
    "    print (\"status is false i.e 1\")"
   ]
  },
  {
   "cell_type": "code",
   "execution_count": 49,
   "metadata": {},
   "outputs": [
    {
     "name": "stdout",
     "output_type": "stream",
     "text": [
      "The file program.py already exists.\n"
     ]
    },
    {
     "ename": "SystemExit",
     "evalue": "1",
     "output_type": "error",
     "traceback": [
      "An exception has occurred, use %tb to see the full traceback.\n",
      "\u001b[1;31mSystemExit\u001b[0m\u001b[1;31m:\u001b[0m 1\n"
     ]
    }
   ],
   "source": [
    "def checking_file(filename):\n",
    "\n",
    "    import os\n",
    "    import sys\n",
    "\n",
    "    filename = sys.argv[1]\n",
    "\n",
    "    if not os.path.exists(filename):\n",
    "            with open(filename, \"w\") as file:\n",
    "                file.write(\"New file created./n\")\n",
    "                print(\"The file {} has been created\".format(filename))\n",
    "    else:\n",
    "        print(\"The file {} already exists.\".format(filename))\n",
    "        sys.exit(1)\n",
    "checking_file(\"program.py\")"
   ]
  },
  {
   "cell_type": "code",
   "execution_count": 47,
   "metadata": {},
   "outputs": [
    {
     "ename": "SystemExit",
     "evalue": "1",
     "output_type": "error",
     "traceback": [
      "\u001b[1;31m---------------------------------------------------------------------------\u001b[0m",
      "\u001b[1;31mSystemExit\u001b[0m                                Traceback (most recent call last)",
      "\u001b[1;32m<ipython-input-46-396132b6494b>\u001b[0m in \u001b[0;36m<module>\u001b[1;34m\u001b[0m\n\u001b[0;32m     13\u001b[0m         \u001b[0mprint\u001b[0m\u001b[1;33m(\u001b[0m\u001b[1;34m\"The file {} already exists.\"\u001b[0m\u001b[1;33m.\u001b[0m\u001b[0mformat\u001b[0m\u001b[1;33m(\u001b[0m\u001b[0mfilename\u001b[0m\u001b[1;33m)\u001b[0m\u001b[1;33m)\u001b[0m\u001b[1;33m\u001b[0m\u001b[1;33m\u001b[0m\u001b[0m\n\u001b[0;32m     14\u001b[0m         \u001b[0msys\u001b[0m\u001b[1;33m.\u001b[0m\u001b[0mexit\u001b[0m\u001b[1;33m(\u001b[0m\u001b[1;36m1\u001b[0m\u001b[1;33m)\u001b[0m\u001b[1;33m\u001b[0m\u001b[1;33m\u001b[0m\u001b[0m\n\u001b[1;32m---> 15\u001b[1;33m \u001b[0mchecking_file\u001b[0m\u001b[1;33m(\u001b[0m\u001b[1;34m\"program.py\"\u001b[0m\u001b[1;33m)\u001b[0m\u001b[1;33m\u001b[0m\u001b[1;33m\u001b[0m\u001b[0m\n\u001b[0m",
      "\u001b[1;32m<ipython-input-46-396132b6494b>\u001b[0m in \u001b[0;36mchecking_file\u001b[1;34m(filename)\u001b[0m\n\u001b[0;32m     12\u001b[0m     \u001b[1;32melse\u001b[0m\u001b[1;33m:\u001b[0m\u001b[1;33m\u001b[0m\u001b[1;33m\u001b[0m\u001b[0m\n\u001b[0;32m     13\u001b[0m         \u001b[0mprint\u001b[0m\u001b[1;33m(\u001b[0m\u001b[1;34m\"The file {} already exists.\"\u001b[0m\u001b[1;33m.\u001b[0m\u001b[0mformat\u001b[0m\u001b[1;33m(\u001b[0m\u001b[0mfilename\u001b[0m\u001b[1;33m)\u001b[0m\u001b[1;33m)\u001b[0m\u001b[1;33m\u001b[0m\u001b[1;33m\u001b[0m\u001b[0m\n\u001b[1;32m---> 14\u001b[1;33m         \u001b[0msys\u001b[0m\u001b[1;33m.\u001b[0m\u001b[0mexit\u001b[0m\u001b[1;33m(\u001b[0m\u001b[1;36m1\u001b[0m\u001b[1;33m)\u001b[0m\u001b[1;33m\u001b[0m\u001b[1;33m\u001b[0m\u001b[0m\n\u001b[0m\u001b[0;32m     15\u001b[0m \u001b[0mchecking_file\u001b[0m\u001b[1;33m(\u001b[0m\u001b[1;34m\"program.py\"\u001b[0m\u001b[1;33m)\u001b[0m\u001b[1;33m\u001b[0m\u001b[1;33m\u001b[0m\u001b[0m\n",
      "\u001b[1;31mSystemExit\u001b[0m: 1"
     ]
    }
   ],
   "source": [
    "%tb"
   ]
  },
  {
   "cell_type": "code",
   "execution_count": 50,
   "metadata": {},
   "outputs": [
    {
     "name": "stdout",
     "output_type": "stream",
     "text": [
      "The file helpfile.txt has been created\n"
     ]
    }
   ],
   "source": [
    "checking_file(\"helpfile.txt\")"
   ]
  },
  {
   "cell_type": "code",
   "execution_count": 51,
   "metadata": {},
   "outputs": [
    {
     "data": {
      "text/plain": [
       "'C:\\\\Users\\\\asif1\\\\anaconda3\\\\lib\\\\site-packages\\\\ipykernel_launcher.py'"
      ]
     },
     "execution_count": 51,
     "metadata": {},
     "output_type": "execute_result"
    }
   ],
   "source": [
    "sys.argv[0]"
   ]
  },
  {
   "cell_type": "code",
   "execution_count": 52,
   "metadata": {},
   "outputs": [
    {
     "data": {
      "text/plain": [
       "'-f'"
      ]
     },
     "execution_count": 52,
     "metadata": {},
     "output_type": "execute_result"
    }
   ],
   "source": [
    "sys.argv[1]"
   ]
  },
  {
   "cell_type": "code",
   "execution_count": 53,
   "metadata": {},
   "outputs": [
    {
     "data": {
      "text/plain": [
       "'C:\\\\Users\\\\asif1\\\\AppData\\\\Roaming\\\\jupyter\\\\runtime\\\\kernel-7ea8718e-a2db-4e63-b4a0-2bfb3ebfdd6f.json'"
      ]
     },
     "execution_count": 53,
     "metadata": {},
     "output_type": "execute_result"
    }
   ],
   "source": [
    "sys.argv[2]"
   ]
  },
  {
   "cell_type": "code",
   "execution_count": 59,
   "metadata": {},
   "outputs": [],
   "source": [
    "# Subprocess Module"
   ]
  },
  {
   "cell_type": "code",
   "execution_count": 79,
   "metadata": {},
   "outputs": [],
   "source": [
    "#env"
   ]
  },
  {
   "cell_type": "code",
   "execution_count": 62,
   "metadata": {},
   "outputs": [
    {
     "ename": "FileNotFoundError",
     "evalue": "[WinError 2] The system cannot find the file specified",
     "output_type": "error",
     "traceback": [
      "\u001b[1;31m---------------------------------------------------------------------------\u001b[0m",
      "\u001b[1;31mFileNotFoundError\u001b[0m                         Traceback (most recent call last)",
      "\u001b[1;32m<ipython-input-62-3a74b5ca0913>\u001b[0m in \u001b[0;36m<module>\u001b[1;34m\u001b[0m\n\u001b[0;32m      1\u001b[0m \u001b[1;32mimport\u001b[0m \u001b[0msubprocess\u001b[0m\u001b[1;33m\u001b[0m\u001b[1;33m\u001b[0m\u001b[0m\n\u001b[1;32m----> 2\u001b[1;33m \u001b[0msubprocess\u001b[0m\u001b[1;33m.\u001b[0m\u001b[0mcheck_output\u001b[0m\u001b[1;33m(\u001b[0m\u001b[1;33m[\u001b[0m\u001b[1;34m\"date\"\u001b[0m\u001b[1;33m]\u001b[0m\u001b[1;33m)\u001b[0m\u001b[1;33m\u001b[0m\u001b[1;33m\u001b[0m\u001b[0m\n\u001b[0m",
      "\u001b[1;32m~\\anaconda3\\lib\\subprocess.py\u001b[0m in \u001b[0;36mcheck_output\u001b[1;34m(timeout, *popenargs, **kwargs)\u001b[0m\n\u001b[0;32m    409\u001b[0m         \u001b[0mkwargs\u001b[0m\u001b[1;33m[\u001b[0m\u001b[1;34m'input'\u001b[0m\u001b[1;33m]\u001b[0m \u001b[1;33m=\u001b[0m \u001b[1;34m''\u001b[0m \u001b[1;32mif\u001b[0m \u001b[0mkwargs\u001b[0m\u001b[1;33m.\u001b[0m\u001b[0mget\u001b[0m\u001b[1;33m(\u001b[0m\u001b[1;34m'universal_newlines'\u001b[0m\u001b[1;33m,\u001b[0m \u001b[1;32mFalse\u001b[0m\u001b[1;33m)\u001b[0m \u001b[1;32melse\u001b[0m \u001b[1;34mb''\u001b[0m\u001b[1;33m\u001b[0m\u001b[1;33m\u001b[0m\u001b[0m\n\u001b[0;32m    410\u001b[0m \u001b[1;33m\u001b[0m\u001b[0m\n\u001b[1;32m--> 411\u001b[1;33m     return run(*popenargs, stdout=PIPE, timeout=timeout, check=True,\n\u001b[0m\u001b[0;32m    412\u001b[0m                **kwargs).stdout\n\u001b[0;32m    413\u001b[0m \u001b[1;33m\u001b[0m\u001b[0m\n",
      "\u001b[1;32m~\\anaconda3\\lib\\subprocess.py\u001b[0m in \u001b[0;36mrun\u001b[1;34m(input, capture_output, timeout, check, *popenargs, **kwargs)\u001b[0m\n\u001b[0;32m    487\u001b[0m         \u001b[0mkwargs\u001b[0m\u001b[1;33m[\u001b[0m\u001b[1;34m'stderr'\u001b[0m\u001b[1;33m]\u001b[0m \u001b[1;33m=\u001b[0m \u001b[0mPIPE\u001b[0m\u001b[1;33m\u001b[0m\u001b[1;33m\u001b[0m\u001b[0m\n\u001b[0;32m    488\u001b[0m \u001b[1;33m\u001b[0m\u001b[0m\n\u001b[1;32m--> 489\u001b[1;33m     \u001b[1;32mwith\u001b[0m \u001b[0mPopen\u001b[0m\u001b[1;33m(\u001b[0m\u001b[1;33m*\u001b[0m\u001b[0mpopenargs\u001b[0m\u001b[1;33m,\u001b[0m \u001b[1;33m**\u001b[0m\u001b[0mkwargs\u001b[0m\u001b[1;33m)\u001b[0m \u001b[1;32mas\u001b[0m \u001b[0mprocess\u001b[0m\u001b[1;33m:\u001b[0m\u001b[1;33m\u001b[0m\u001b[1;33m\u001b[0m\u001b[0m\n\u001b[0m\u001b[0;32m    490\u001b[0m         \u001b[1;32mtry\u001b[0m\u001b[1;33m:\u001b[0m\u001b[1;33m\u001b[0m\u001b[1;33m\u001b[0m\u001b[0m\n\u001b[0;32m    491\u001b[0m             \u001b[0mstdout\u001b[0m\u001b[1;33m,\u001b[0m \u001b[0mstderr\u001b[0m \u001b[1;33m=\u001b[0m \u001b[0mprocess\u001b[0m\u001b[1;33m.\u001b[0m\u001b[0mcommunicate\u001b[0m\u001b[1;33m(\u001b[0m\u001b[0minput\u001b[0m\u001b[1;33m,\u001b[0m \u001b[0mtimeout\u001b[0m\u001b[1;33m=\u001b[0m\u001b[0mtimeout\u001b[0m\u001b[1;33m)\u001b[0m\u001b[1;33m\u001b[0m\u001b[1;33m\u001b[0m\u001b[0m\n",
      "\u001b[1;32m~\\anaconda3\\lib\\subprocess.py\u001b[0m in \u001b[0;36m__init__\u001b[1;34m(self, args, bufsize, executable, stdin, stdout, stderr, preexec_fn, close_fds, shell, cwd, env, universal_newlines, startupinfo, creationflags, restore_signals, start_new_session, pass_fds, encoding, errors, text)\u001b[0m\n\u001b[0;32m    852\u001b[0m                             encoding=encoding, errors=errors)\n\u001b[0;32m    853\u001b[0m \u001b[1;33m\u001b[0m\u001b[0m\n\u001b[1;32m--> 854\u001b[1;33m             self._execute_child(args, executable, preexec_fn, close_fds,\n\u001b[0m\u001b[0;32m    855\u001b[0m                                 \u001b[0mpass_fds\u001b[0m\u001b[1;33m,\u001b[0m \u001b[0mcwd\u001b[0m\u001b[1;33m,\u001b[0m \u001b[0menv\u001b[0m\u001b[1;33m,\u001b[0m\u001b[1;33m\u001b[0m\u001b[1;33m\u001b[0m\u001b[0m\n\u001b[0;32m    856\u001b[0m                                 \u001b[0mstartupinfo\u001b[0m\u001b[1;33m,\u001b[0m \u001b[0mcreationflags\u001b[0m\u001b[1;33m,\u001b[0m \u001b[0mshell\u001b[0m\u001b[1;33m,\u001b[0m\u001b[1;33m\u001b[0m\u001b[1;33m\u001b[0m\u001b[0m\n",
      "\u001b[1;32m~\\anaconda3\\lib\\subprocess.py\u001b[0m in \u001b[0;36m_execute_child\u001b[1;34m(self, args, executable, preexec_fn, close_fds, pass_fds, cwd, env, startupinfo, creationflags, shell, p2cread, p2cwrite, c2pread, c2pwrite, errread, errwrite, unused_restore_signals, unused_start_new_session)\u001b[0m\n\u001b[0;32m   1305\u001b[0m             \u001b[1;31m# Start the process\u001b[0m\u001b[1;33m\u001b[0m\u001b[1;33m\u001b[0m\u001b[1;33m\u001b[0m\u001b[0m\n\u001b[0;32m   1306\u001b[0m             \u001b[1;32mtry\u001b[0m\u001b[1;33m:\u001b[0m\u001b[1;33m\u001b[0m\u001b[1;33m\u001b[0m\u001b[0m\n\u001b[1;32m-> 1307\u001b[1;33m                 hp, ht, pid, tid = _winapi.CreateProcess(executable, args,\n\u001b[0m\u001b[0;32m   1308\u001b[0m                                          \u001b[1;31m# no special security\u001b[0m\u001b[1;33m\u001b[0m\u001b[1;33m\u001b[0m\u001b[1;33m\u001b[0m\u001b[0m\n\u001b[0;32m   1309\u001b[0m                                          \u001b[1;32mNone\u001b[0m\u001b[1;33m,\u001b[0m \u001b[1;32mNone\u001b[0m\u001b[1;33m,\u001b[0m\u001b[1;33m\u001b[0m\u001b[1;33m\u001b[0m\u001b[0m\n",
      "\u001b[1;31mFileNotFoundError\u001b[0m: [WinError 2] The system cannot find the file specified"
     ]
    }
   ],
   "source": [
    "import subprocess\n",
    "subprocess.run([\"date\"])"
   ]
  },
  {
   "cell_type": "code",
   "execution_count": 77,
   "metadata": {},
   "outputs": [],
   "source": [
    "from subprocess import Popen, PIPE, CalledProcessError\n",
    "cmd = \"notepad.exe\"\n",
    "with Popen(cmd, stdout=PIPE, bufsize=1, universal_newlines=True) as p:\n",
    "    for b in p.stdout:\n",
    "        print(b, end='') # b is the byte from stdout\n",
    "\n",
    "if p.returncode != 0:\n",
    "    print (CalledProcessError(p.returncode, p.args))"
   ]
  },
  {
   "cell_type": "raw",
   "metadata": {},
   "source": [
    "open in power shell:\n",
    "(Get-Process).Count\n",
    "When run in power shell\n",
    "\n",
    "188\n",
    "PS C:\\Users\\asif1> (Get-Process).Count\n",
    "187\n",
    "PS C:\\Users\\asif1> (Get-Process)\n",
    "\n",
    "Handles  NPM(K)    PM(K)      WS(K)     CPU(s)     Id  SI ProcessName\n",
    "-------  ------    -----      -----     ------     --  -- -----------\n",
    "    163      12     1624       7092       0.05   1840   2 acrotray\n",
    "    694      38    34196      40804      16.44   3332   2 ApplicationFrameHost\n",
    "    216      12     7532      13572       9.52   1420   0 audiodg\n",
    "    341      19     6140      25972       0.30   5508   2 backgroundTaskHost\n",
    "    508      28    21436        128       0.70   4704   2 Calculator\n",
    "    445      28   120152     163404     111.88    516   2 chrome\n",
    "    208      13     7784      14244       3.45   2144   2 chrome\n",
    "    310      21    60360      93800       6.77   3556   2 chrome\n",
    "    279      19    34712      63600      29.13   4684   2 chrome\n",
    "    495      52   170116     165468     642.81   4748   2 chrome\n",
    "    212      14    11632      21124       0.09   5060   2 chrome\n",
    "    264      16     6632      15156       0.95   5352   2 chrome\n",
    "    331      23    71452     103540     322.47   6212   2 chrome\n",
    "    347      25    35728      49468      98.05   6708   2 chrome\n",
    "   1553      60   123176     174368     655.39   7524   2 chrome\n",
    "    232      15    16252      37556       1.09   8696   2 chrome\n",
    "    185       9     1732       6468       0.22   9348   2 chrome\n",
    "    266      14     7608      14256       0.81   9188   2 conhost\n",
    "    263      14     4472      15580       0.17  13036   2 conhost\n",
    "    616      22     1896       5672               564   0 csrss\n",
    "    672      26     2452       5932             10336   2 csrss\n",
    "    466      15     4116      14424      36.86   9408   2 ctfmon\n",
    "    151      10     2540       5516              3708   0 DbxSvc\n",
    "    783     110   168104     171644   1,391.28   3212   2 Discord\n",
    "    444      21    15892      25080      13.06   3308   2 Discord\n",
    "    320      20    12564      17656       1.05   4796   2 Discord\n",
    "    743      48    34856      58936     160.13   5564   2 Discord\n",
    "    436      31    44248      42836      15.09   7620   2 Discord\n",
    "    241      15    11236      12040       0.23  12160   2 Discord\n",
    "    235      22     4968      12240       0.36   5812   2 dllhost\n",
    "    226      14     2064        220              1592   0 DropboxUpdate\n",
    "   1182      59    71408      85064              1116   2 dwm\n",
    "   3687     188   108924     171860     255.48   9896   2 explorer\n",
    "     38       5     1484       2948               944   0 fontdrvhost\n",
    "     38       8     3016       8332              6080   2 fontdrvhost\n",
    "    182      11     1732        236              9520   0 GoogleCrashHandler\n",
    "    161       9     1724        272             10164   0 GoogleCrashHandler64\n",
    "    155      10     1772       8248       0.17   6416   2 hkcmd\n",
    "    209      12     1848       9516      27.09   4400   2 HPMSGSVC\n",
    "    114       8     1312       5736              2384   0 hpservice\n",
    "    154       9     1316       6564              8748   0 HPWMISVC\n",
    "    969      47    37736        172       2.22   3780   2 HxOutlook\n",
    "    641      28    10420      17624       2.55   4764   2 HxTsr\n",
    "      0       0       60          8                 0   0 Idle\n",
    "    228      12     2032       9632       0.31   5248   2 igfxpers\n",
    "    157      11     1796       8488       0.06   2816   2 igfxtray\n",
    "    514      27    14976      49460       3.23   2632   2 LockApp\n",
    "   1516      28     8296      19332               796   0 lsass\n",
    "      0       0      544     128248              1464   0 Memory Compression\n",
    "    649      46    40632      54700       0.69   2008   2 Microsoft.Photos\n",
    "   1188      81   313692     183660              3896   0 MsMpEng\n",
    "    202      12     5916      10832              4320   0 NisSrv\n",
    "    197      12     2508      11916       0.11   2884   2 notepad\n",
    "    655      30    63980      77188       1.27  13248   2 powershell\n",
    "    298      75    42812      50996       1.14   4060   2 python\n",
    "    165      14     8136       8304       0.41   5204   2 python\n",
    "    286      74    42628      13576       1.17   9460   2 python\n",
    "    832      89    59360      39992      14.72  10048   2 python\n",
    "      0      13     9608      97936                96   0 Registry\n",
    "    329      20     7964      21360       1.89   9628   2 RemindersServer\n",
    "    133       9     2328       8252       0.03   4212   2 rundll32\n",
    "    166       9     2224       9456       0.13    720   2 RuntimeBroker\n",
    "    403      22     8708      32908       3.41   1216   2 RuntimeBroker\n",
    "    252      13     3052      17704       0.11   3160   2 RuntimeBroker\n",
    "    220      14     5344      19640       0.33   5620   2 RuntimeBroker\n",
    "    370      22     6424      26588       5.63   6432   2 RuntimeBroker\n",
    "    276      14     3528      14624       0.23   7692   2 RuntimeBroker\n",
    "    481      22    12120      33440       3.00  10892   2 RuntimeBroker\n",
    "    718      30    13576      42824      16.38  11344   2 RuntimeBroker\n",
    "    350      18     9304      29320       0.44  11472   2 RuntimeBroker\n",
    "    254      14     3204      19592       0.08  11652   2 RuntimeBroker\n",
    "    338      18     6080      24832       3.36  11896   2 RuntimeBroker\n",
    "    835      74    39600      51128              5572   0 SearchIndexer\n",
    "    377      13     2444       8940              8880   0 SearchProtocolHost\n",
    "   2150     111   141796     215864      24.45   4180   2 SearchUI\n",
    "    443      15     4596      14612              7320   0 SecurityHealthService\n",
    "    154       9     1724       8548       0.08  10836   2 SecurityHealthSystray\n",
    "    696      11     5264       9540               712   0 services\n",
    "    605      26    10500       6276      15.30   6756   2 SettingSyncHost\n",
    "     90       7     3532       6324              3628   0 SgrmBroker\n",
    "    563      28    15424      55028       2.48   4128   2 ShellExperienceHost\n",
    "    816      25    11700      36172      20.78   2380   2 sihost\n",
    "    719      82   156984     193256       4.00   7076   2 SkypeApp\n",
    "    145       8     1860       8072       0.06  11040   2 SkypeBackgroundHost\n",
    "    722      32    41920      58044      22.88   9664   2 SkypeBridge\n",
    "    430      31    18212      28148       1.22   8268   2 smartscreen\n",
    "     53       3     1156       1092               396   0 smss\n",
    "    473      23     6012      14308              2772   0 spoolsv\n",
    "   1415      69    37276      77848      20.23  11404   2 StartMenuExperienceHost\n",
    "    281      10     2680       8368               448   0 svchost\n",
    "   1518      23    10596      18496               488   0 svchost\n",
    "     87       5      976       3600               912   0 svchost\n",
    "   1416      24    15268      31844              1000   0 svchost\n",
    "    256      13     2568      10740              1080   0 svchost\n",
    "    265      10     2352       8916              1140   0 svchost\n",
    "    371      19     7744      30652              1160   0 svchost\n",
    "    138       8     1592       5928              1172   0 svchost\n",
    "    244       7     1308       5520              1348   0 svchost\n",
    "    240      13     2992      12076              1360   0 svchost\n",
    "    248      14    89432      90344              1372   0 svchost\n",
    "    282      12     3028      10212              1444   0 svchost\n",
    "    401      18     6660      15732              1516   0 svchost\n",
    "    168       9     2000       7404              1584   0 svchost\n",
    "    410      14    14792      16596              1588   0 svchost\n",
    "    163      10     2260      11888              1600   0 svchost\n",
    "    178      12     1884       8228              1712   0 svchost\n",
    "    459      20     4720      18464              1756   0 svchost\n",
    "    191       9     1764       7536              1776   0 svchost\n",
    "    151      27     5196       8736              1784   0 svchost\n",
    "    160      10     1900       8240              1808   0 svchost\n",
    "    210      12     2296       8416              1856   0 svchost\n",
    "    229      10     2460       7436              1876   0 svchost\n",
    "    144       8     2568       7964              1896   0 svchost\n",
    "    255      11     9640      18152              1900   0 svchost\n",
    "    217      13     2992      11648              1908   0 svchost\n",
    "    396      17     5184      12716              2024   0 svchost\n",
    "    303      14     3736       8640              2116   0 svchost\n",
    "    222      12     2368      10528              2152   0 svchost\n",
    "    513      13     3240       9268              2240   0 svchost\n",
    "    376      18     4280      16188              2268   0 svchost\n",
    "    427      15     3852      14196              2308   0 svchost\n",
    "    399      18     3164      10016              2436   0 svchost\n",
    "    141      13     1860       6240              2444   0 svchost\n",
    "    242      12     4168       8812              2484   0 svchost\n",
    "    188       9     2040       7260              2548   0 svchost\n",
    "    504      22     6396      17892              2616   0 svchost\n",
    "    247      14     2648      13916              2664   0 svchost\n",
    "    419      32     9664      17932              2808   0 svchost\n",
    "    188      10     2024       7500              2852   0 svchost\n",
    "    175       7     1680       5688              3112   0 svchost\n",
    "    125       8     1472       6720              3196   0 svchost\n",
    "    143       8     1484       6072              3224   0 svchost\n",
    "    575      25    16792      28672              3724   0 svchost\n",
    "    289      26     4028      13168              3740   0 svchost\n",
    "    397      20     7724      17164              3752   0 svchost\n",
    "    254      14     2652       8464              3768   0 svchost\n",
    "    146       7     1304       5252              3788   0 svchost\n",
    "    385      20    29052      37632              3800   0 svchost\n",
    "    562      28     8124      24756       1.75   3832   2 svchost\n",
    "    448      22     5576      23388              3860   0 svchost\n",
    "    135       9     1624       5736              3904   0 svchost\n",
    "    501      22     3940      12672              3944   0 svchost\n",
    "    107       7     1352       5016              4044   0 svchost\n",
    "    400      27     3588      12556              4232   0 svchost\n",
    "    173      10     2020       8892              4292   0 svchost\n",
    "    303      15     4764      21464              4332   0 svchost\n",
    "    178       9     1796       7568              4828   0 svchost\n",
    "    268      14     3720      17532              5428   0 svchost\n",
    "    437      21     5688      19936              5628   0 svchost\n",
    "    233      10     1960       9012              5944   0 svchost\n",
    "    199      12     1744       7400              6064   0 svchost\n",
    "    218      15     2108       7104              6344   0 svchost\n",
    "    241      13     3048      11672              7164   0 svchost\n",
    "    195      15     6256       9756              7556   0 svchost\n",
    "    353      16     4132      22548       2.27   7616   2 svchost\n",
    "    179      10     2300      11016              8276   0 svchost\n",
    "    950      28    11080      41096      13.75   8760   2 svchost\n",
    "    416      19     6332      17304              8944   0 svchost\n",
    "    143       8     1780       7376       0.44   9016   2 svchost\n",
    "    292      17     4808      16128              9136   0 svchost\n",
    "    238      13     2972      11948              9244   0 svchost\n",
    "    224      12     2604       9232              9264   0 svchost\n",
    "    202      11     2048       9396              9968   0 svchost\n",
    "    208      11     2420       8316             10000   0 svchost\n",
    "    150       9     1740       7496             11416   0 svchost\n",
    "    463      18     9524      25564       9.30  11520   2 svchost\n",
    "    129       8     1672       5964             11524   0 svchost\n",
    "    108       8     1400       5556             11780   0 svchost\n",
    "    173       9     1824       6928             11972   0 svchost\n",
    "    116       7     1372       5560             12228   0 svchost\n",
    "    652      16     6980      20832       3.70   8848   2 SynTPEnh\n",
    "    221       6     1200       4456              3732   0 SynTPEnhService\n",
    "     72       6     1052       4284       0.06  10420   2 SynTPHelper\n",
    "   3854       0      196        152                 4   0 System\n",
    "    863      43    25408        140       1.16   9676   2 SystemSettings\n",
    "    340      33     7696      17656       2.25   8928   2 taskhostw\n",
    "    207      11     2508       8060       0.06  12740   2 taskhostw\n",
    "    160       9     1716       7588              8816   0 uhssvc\n",
    "    117       9     1804       7780       0.05  10424   2 UserOOBEBroker\n",
    "   1331      60    63832     120596     580.67   8892   2 Video.UI\n",
    "    482      22    11276      38412      11.28   9404   2 WindowsInternal.ComposableShell.Experiences.TextInput.Inpu...\n",
    "    165      12     1476       6576               660   0 wininit\n",
    "    275      12     2628       9788             11664   2 winlogon\n",
    "   1079      74    45304         36       2.63   4960   2 WinStore.App\n",
    "   1342      67   117832     171120     103.67  12616   2 WINWORD\n",
    "    180      11     2304       9212              7736   0 WmiPrvSE\n",
    "    712      47    25340      50156       1.20   3492   2 YourPhone\n",
    "\n"
   ]
  },
  {
   "cell_type": "code",
   "execution_count": 78,
   "metadata": {},
   "outputs": [
    {
     "ename": "NameError",
     "evalue": "name 'subporcess' is not defined",
     "output_type": "error",
     "traceback": [
      "\u001b[1;31m---------------------------------------------------------------------------\u001b[0m",
      "\u001b[1;31mNameError\u001b[0m                                 Traceback (most recent call last)",
      "\u001b[1;32m<ipython-input-78-2176578333dc>\u001b[0m in \u001b[0;36m<module>\u001b[1;34m\u001b[0m\n\u001b[0;32m      3\u001b[0m \u001b[1;32mimport\u001b[0m \u001b[0msubprocess\u001b[0m\u001b[1;33m\u001b[0m\u001b[1;33m\u001b[0m\u001b[0m\n\u001b[0;32m      4\u001b[0m \u001b[1;33m\u001b[0m\u001b[0m\n\u001b[1;32m----> 5\u001b[1;33m \u001b[0msubporcess\u001b[0m\u001b[1;33m.\u001b[0m\u001b[0mcall\u001b[0m\u001b[1;33m(\u001b[0m\u001b[1;34m\"ifconfig \"\u001b[0m \u001b[1;33m+\u001b[0m \u001b[0mexample\u001b[0m \u001b[1;33m+\u001b[0m \u001b[1;34m\" hw ether \"\u001b[0m\u001b[1;33m)\u001b[0m\u001b[1;33m\u001b[0m\u001b[1;33m\u001b[0m\u001b[0m\n\u001b[0m\u001b[0;32m      6\u001b[0m \u001b[1;33m\u001b[0m\u001b[0m\n\u001b[0;32m      7\u001b[0m \u001b[1;31m#or for security use\u001b[0m\u001b[1;33m\u001b[0m\u001b[1;33m\u001b[0m\u001b[1;33m\u001b[0m\u001b[0m\n",
      "\u001b[1;31mNameError\u001b[0m: name 'subporcess' is not defined"
     ]
    }
   ],
   "source": [
    "#one example of a way to use subprocesses in python for kali is chanign the mac adress\n",
    "#all you have to do is \n",
    "import subprocess\n",
    "\n",
    "subporcess.call(\"ifconfig \" + example + \" hw ether \")\n",
    "\n",
    "#or for security use\n",
    "subprocess.call([\"ifconfig\", example, \"hw\", \"ether\"])#this is safe as no one can run extra scripts\n"
   ]
  },
  {
   "cell_type": "code",
   "execution_count": null,
   "metadata": {},
   "outputs": [],
   "source": [
    "import subprocess, os\n",
    "my_env = os.environ.copy()\n",
    "my_env[\"PATH\"] = \"/usr/sbin:/sbin:\" + my_env[\"PATH\"]\n",
    "subprocess.Popen(my_command, env=my_env)"
   ]
  },
  {
   "cell_type": "code",
   "execution_count": 3,
   "metadata": {},
   "outputs": [],
   "source": [
    "import subprocess, os"
   ]
  },
  {
   "cell_type": "code",
   "execution_count": 9,
   "metadata": {},
   "outputs": [
    {
     "ename": "FileNotFoundError",
     "evalue": "[WinError 2] The system cannot find the file specified",
     "output_type": "error",
     "traceback": [
      "\u001b[1;31m---------------------------------------------------------------------------\u001b[0m",
      "\u001b[1;31mFileNotFoundError\u001b[0m                         Traceback (most recent call last)",
      "\u001b[1;32m<ipython-input-9-7dc11a77836b>\u001b[0m in \u001b[0;36m<module>\u001b[1;34m\u001b[0m\n\u001b[1;32m----> 1\u001b[1;33m \u001b[0mresult\u001b[0m \u001b[1;33m=\u001b[0m \u001b[0msubprocess\u001b[0m\u001b[1;33m.\u001b[0m\u001b[0mrun\u001b[0m\u001b[1;33m(\u001b[0m\u001b[1;33m[\u001b[0m\u001b[1;34m\"www.google.com\"\u001b[0m\u001b[1;33m]\u001b[0m\u001b[1;33m,\u001b[0m \u001b[0mcapture_output\u001b[0m \u001b[1;33m=\u001b[0m \u001b[1;32mTrue\u001b[0m\u001b[1;33m)\u001b[0m\u001b[1;33m\u001b[0m\u001b[1;33m\u001b[0m\u001b[0m\n\u001b[0m\u001b[0;32m      2\u001b[0m \u001b[0mprint\u001b[0m\u001b[1;33m(\u001b[0m\u001b[0mresult\u001b[0m\u001b[1;33m.\u001b[0m\u001b[0mreturncode\u001b[0m\u001b[1;33m)\u001b[0m\u001b[1;33m\u001b[0m\u001b[1;33m\u001b[0m\u001b[0m\n",
      "\u001b[1;32m~\\anaconda3\\lib\\subprocess.py\u001b[0m in \u001b[0;36mrun\u001b[1;34m(input, capture_output, timeout, check, *popenargs, **kwargs)\u001b[0m\n\u001b[0;32m    487\u001b[0m         \u001b[0mkwargs\u001b[0m\u001b[1;33m[\u001b[0m\u001b[1;34m'stderr'\u001b[0m\u001b[1;33m]\u001b[0m \u001b[1;33m=\u001b[0m \u001b[0mPIPE\u001b[0m\u001b[1;33m\u001b[0m\u001b[1;33m\u001b[0m\u001b[0m\n\u001b[0;32m    488\u001b[0m \u001b[1;33m\u001b[0m\u001b[0m\n\u001b[1;32m--> 489\u001b[1;33m     \u001b[1;32mwith\u001b[0m \u001b[0mPopen\u001b[0m\u001b[1;33m(\u001b[0m\u001b[1;33m*\u001b[0m\u001b[0mpopenargs\u001b[0m\u001b[1;33m,\u001b[0m \u001b[1;33m**\u001b[0m\u001b[0mkwargs\u001b[0m\u001b[1;33m)\u001b[0m \u001b[1;32mas\u001b[0m \u001b[0mprocess\u001b[0m\u001b[1;33m:\u001b[0m\u001b[1;33m\u001b[0m\u001b[1;33m\u001b[0m\u001b[0m\n\u001b[0m\u001b[0;32m    490\u001b[0m         \u001b[1;32mtry\u001b[0m\u001b[1;33m:\u001b[0m\u001b[1;33m\u001b[0m\u001b[1;33m\u001b[0m\u001b[0m\n\u001b[0;32m    491\u001b[0m             \u001b[0mstdout\u001b[0m\u001b[1;33m,\u001b[0m \u001b[0mstderr\u001b[0m \u001b[1;33m=\u001b[0m \u001b[0mprocess\u001b[0m\u001b[1;33m.\u001b[0m\u001b[0mcommunicate\u001b[0m\u001b[1;33m(\u001b[0m\u001b[0minput\u001b[0m\u001b[1;33m,\u001b[0m \u001b[0mtimeout\u001b[0m\u001b[1;33m=\u001b[0m\u001b[0mtimeout\u001b[0m\u001b[1;33m)\u001b[0m\u001b[1;33m\u001b[0m\u001b[1;33m\u001b[0m\u001b[0m\n",
      "\u001b[1;32m~\\anaconda3\\lib\\subprocess.py\u001b[0m in \u001b[0;36m__init__\u001b[1;34m(self, args, bufsize, executable, stdin, stdout, stderr, preexec_fn, close_fds, shell, cwd, env, universal_newlines, startupinfo, creationflags, restore_signals, start_new_session, pass_fds, encoding, errors, text)\u001b[0m\n\u001b[0;32m    852\u001b[0m                             encoding=encoding, errors=errors)\n\u001b[0;32m    853\u001b[0m \u001b[1;33m\u001b[0m\u001b[0m\n\u001b[1;32m--> 854\u001b[1;33m             self._execute_child(args, executable, preexec_fn, close_fds,\n\u001b[0m\u001b[0;32m    855\u001b[0m                                 \u001b[0mpass_fds\u001b[0m\u001b[1;33m,\u001b[0m \u001b[0mcwd\u001b[0m\u001b[1;33m,\u001b[0m \u001b[0menv\u001b[0m\u001b[1;33m,\u001b[0m\u001b[1;33m\u001b[0m\u001b[1;33m\u001b[0m\u001b[0m\n\u001b[0;32m    856\u001b[0m                                 \u001b[0mstartupinfo\u001b[0m\u001b[1;33m,\u001b[0m \u001b[0mcreationflags\u001b[0m\u001b[1;33m,\u001b[0m \u001b[0mshell\u001b[0m\u001b[1;33m,\u001b[0m\u001b[1;33m\u001b[0m\u001b[1;33m\u001b[0m\u001b[0m\n",
      "\u001b[1;32m~\\anaconda3\\lib\\subprocess.py\u001b[0m in \u001b[0;36m_execute_child\u001b[1;34m(self, args, executable, preexec_fn, close_fds, pass_fds, cwd, env, startupinfo, creationflags, shell, p2cread, p2cwrite, c2pread, c2pwrite, errread, errwrite, unused_restore_signals, unused_start_new_session)\u001b[0m\n\u001b[0;32m   1305\u001b[0m             \u001b[1;31m# Start the process\u001b[0m\u001b[1;33m\u001b[0m\u001b[1;33m\u001b[0m\u001b[1;33m\u001b[0m\u001b[0m\n\u001b[0;32m   1306\u001b[0m             \u001b[1;32mtry\u001b[0m\u001b[1;33m:\u001b[0m\u001b[1;33m\u001b[0m\u001b[1;33m\u001b[0m\u001b[0m\n\u001b[1;32m-> 1307\u001b[1;33m                 hp, ht, pid, tid = _winapi.CreateProcess(executable, args,\n\u001b[0m\u001b[0;32m   1308\u001b[0m                                          \u001b[1;31m# no special security\u001b[0m\u001b[1;33m\u001b[0m\u001b[1;33m\u001b[0m\u001b[1;33m\u001b[0m\u001b[0m\n\u001b[0;32m   1309\u001b[0m                                          \u001b[1;32mNone\u001b[0m\u001b[1;33m,\u001b[0m \u001b[1;32mNone\u001b[0m\u001b[1;33m,\u001b[0m\u001b[1;33m\u001b[0m\u001b[1;33m\u001b[0m\u001b[0m\n",
      "\u001b[1;31mFileNotFoundError\u001b[0m: [WinError 2] The system cannot find the file specified"
     ]
    }
   ],
   "source": [
    "# not working in jupiter\n",
    "result = subprocess.run([\"localhost\",\"8.8.8.8\"], capture_output = True)\n",
    "print(result.returncode)"
   ]
  },
  {
   "cell_type": "code",
   "execution_count": 37,
   "metadata": {},
   "outputs": [],
   "source": [
    "import platform    # For getting the operating system name\n",
    "import subprocess  # For executing a shell command\n",
    "\n",
    "def ping(host):\n",
    "    \"\"\"\n",
    "    Returns True if host (str) responds to a ping request.\n",
    "    Remember that a host may not respond to a ping (ICMP) request even if the host name is valid.\n",
    "    \"\"\"\n",
    "\n",
    "    # Option for the number of packets as a function of\n",
    "    param = '-n' if platform.system().lower()=='windows' else '-c'\n",
    "\n",
    "    # Building the command. Ex: \"ping -c 1 google.com\"\n",
    "    command = ['ping', param, '1', host]\n",
    "\n",
    "    return subprocess.call(command) == 0"
   ]
  },
  {
   "cell_type": "code",
   "execution_count": 38,
   "metadata": {},
   "outputs": [
    {
     "data": {
      "text/plain": [
       "True"
      ]
     },
     "execution_count": 38,
     "metadata": {},
     "output_type": "execute_result"
    }
   ],
   "source": [
    "ping(\"www.google.com\")"
   ]
  },
  {
   "cell_type": "code",
   "execution_count": 36,
   "metadata": {},
   "outputs": [
    {
     "name": "stdout",
     "output_type": "stream",
     "text": [
      "google.com is up!\n"
     ]
    }
   ],
   "source": [
    "import os\n",
    "hostname = \"google.com\" #example\n",
    "response = os.system(\"ping -n 1 \" + hostname) # -c for linux\n",
    "\n",
    "#and then check the response...\n",
    "if response == 0:\n",
    "    print (hostname, 'is up!')\n",
    "else:\n",
    "    print (hostname, 'is down!')"
   ]
  },
  {
   "cell_type": "code",
   "execution_count": 17,
   "metadata": {},
   "outputs": [
    {
     "name": "stdout",
     "output_type": "stream",
     "text": [
      "Collecting pypingNote: you may need to restart the kernel to use updated packages.\n",
      "  Downloading pyping-0.0.6.tar.gz (8.7 kB)\n",
      "Building wheels for collected packages: pyping\n",
      "  Building wheel for pyping (setup.py): started\n",
      "  Building wheel for pyping (setup.py): finished with status 'done'\n",
      "  Created wheel for pyping: filename=pyping-0.0.6-py3-none-any.whl size=9916 sha256=cf4ae7a293848f1eeb3b8e8634c92946be78fcb3d74e174acc267958a517a8d6\n",
      "  Stored in directory: c:\\users\\asif1\\appdata\\local\\pip\\cache\\wheels\\98\\9a\\e0\\a44fb97a4c1f896344b35d26d8a88bb1e1d4c3a6cf25182904\n",
      "Successfully built pyping\n",
      "Installing collected packages: pyping\n",
      "Successfully installed pyping-0.0.6\n",
      "\n"
     ]
    }
   ],
   "source": [
    "pip install pyping"
   ]
  },
  {
   "cell_type": "code",
   "execution_count": 20,
   "metadata": {},
   "outputs": [
    {
     "ename": "ModuleNotFoundError",
     "evalue": "No module named 'core'",
     "output_type": "error",
     "traceback": [
      "\u001b[1;31m---------------------------------------------------------------------------\u001b[0m",
      "\u001b[1;31mModuleNotFoundError\u001b[0m                       Traceback (most recent call last)",
      "\u001b[1;32m<ipython-input-20-669740f0adcb>\u001b[0m in \u001b[0;36m<module>\u001b[1;34m\u001b[0m\n\u001b[1;32m----> 1\u001b[1;33m \u001b[1;32mimport\u001b[0m \u001b[0mpyping\u001b[0m\u001b[1;33m\u001b[0m\u001b[1;33m\u001b[0m\u001b[0m\n\u001b[0m\u001b[0;32m      2\u001b[0m \u001b[1;33m\u001b[0m\u001b[0m\n\u001b[0;32m      3\u001b[0m \u001b[0mr\u001b[0m \u001b[1;33m=\u001b[0m \u001b[0mpyping\u001b[0m\u001b[1;33m.\u001b[0m\u001b[0mping\u001b[0m\u001b[1;33m(\u001b[0m\u001b[1;34m'google.com'\u001b[0m\u001b[1;33m)\u001b[0m\u001b[1;33m\u001b[0m\u001b[1;33m\u001b[0m\u001b[0m\n\u001b[0;32m      4\u001b[0m \u001b[1;33m\u001b[0m\u001b[0m\n\u001b[0;32m      5\u001b[0m \u001b[1;32mif\u001b[0m \u001b[0mr\u001b[0m\u001b[1;33m.\u001b[0m\u001b[0mret_code\u001b[0m \u001b[1;33m==\u001b[0m \u001b[1;36m0\u001b[0m\u001b[1;33m:\u001b[0m\u001b[1;33m\u001b[0m\u001b[1;33m\u001b[0m\u001b[0m\n",
      "\u001b[1;32m~\\anaconda3\\lib\\site-packages\\pyping\\__init__.py\u001b[0m in \u001b[0;36m<module>\u001b[1;34m\u001b[0m\n\u001b[0;32m      1\u001b[0m \u001b[1;31m# -*- coding: utf-8 -*-\u001b[0m\u001b[1;33m\u001b[0m\u001b[1;33m\u001b[0m\u001b[1;33m\u001b[0m\u001b[0m\n\u001b[0;32m      2\u001b[0m \u001b[1;33m\u001b[0m\u001b[0m\n\u001b[1;32m----> 3\u001b[1;33m \u001b[1;32mfrom\u001b[0m \u001b[0mcore\u001b[0m \u001b[1;32mimport\u001b[0m \u001b[1;33m*\u001b[0m\u001b[1;33m\u001b[0m\u001b[1;33m\u001b[0m\u001b[0m\n\u001b[0m",
      "\u001b[1;31mModuleNotFoundError\u001b[0m: No module named 'core'"
     ]
    }
   ],
   "source": [
    "# code not working\n",
    "import pyping\n",
    "\n",
    "r = pyping.ping('google.com')\n",
    "\n",
    "if r.ret_code == 0:\n",
    "    print(\"Success\")\n",
    "else:\n",
    "    print(\"Failed with {}\".format(r.ret_code))"
   ]
  },
  {
   "cell_type": "code",
   "execution_count": 23,
   "metadata": {},
   "outputs": [
    {
     "name": "stdout",
     "output_type": "stream",
     "text": [
      "False\n"
     ]
    }
   ],
   "source": [
    "# shebang does not work over all platforms\n",
    "# ping.py  2016-02-25 Rudolf\n",
    "# subprocess.call() is preferred to os.system()\n",
    "# works under Python 2.7 and 3.4\n",
    "# works under Linux, Mac OS, Windows\n",
    "\n",
    "def ping(host):\n",
    "    \"\"\"\n",
    "    Returns True if host responds to a ping request\n",
    "    \"\"\"\n",
    "    import subprocess, platform\n",
    "\n",
    "    # Ping parameters as function of OS\n",
    "    ping_str = \"-n 1\" if  platform.system().lower()==\"windows\" else \"-c 1\"\n",
    "    args = \"ping \" + \" \" + ping_str + \" \" + host\n",
    "    need_sh = False if  platform.system().lower()==\"windows\" else True\n",
    "\n",
    "    # Ping\n",
    "    return subprocess.call(args, shell=need_sh) == 0\n",
    "\n",
    "# test call\n",
    "print(ping(\"192.168.17.142\"))"
   ]
  },
  {
   "cell_type": "code",
   "execution_count": 27,
   "metadata": {},
   "outputs": [
    {
     "name": "stdout",
     "output_type": "stream",
     "text": [
      "Enter the ip address: 119.160.116.240\n",
      "System 119.160.116.240 is DOWN !\n"
     ]
    }
   ],
   "source": [
    "import subprocess as sp\n",
    "\n",
    "def ipcheck():\n",
    "    status,result = sp.getstatusoutput(\"ping -c1 -w2 \" + str(pop))\n",
    "    if status == 0:\n",
    "        print(\"System \" + str(pop) + \" is UP !\")\n",
    "    else:\n",
    "        print(\"System \" + str(pop) + \" is DOWN !\")\n",
    "\n",
    "\n",
    "pop = input(\"Enter the ip address: \")\n",
    "ipcheck()"
   ]
  },
  {
   "cell_type": "code",
   "execution_count": 25,
   "metadata": {},
   "outputs": [
    {
     "name": "stdout",
     "output_type": "stream",
     "text": [
      "System 192.168.17.142 is DOWN !\n"
     ]
    }
   ],
   "source": [
    "ipcheck()"
   ]
  },
  {
   "cell_type": "code",
   "execution_count": 69,
   "metadata": {},
   "outputs": [
    {
     "name": "stdout",
     "output_type": "stream",
     "text": [
      "b' Volume in drive E has no label.\\r\\n Volume Serial Number is EA94-A080\\r\\n\\r\\n Directory of E:\\\\\\r\\n\\r\\n12/25/2020  04:05 PM    <DIR>          DANISH\\r\\n12/13/2020  12:18 AM    <DIR>          SOFTWARE\\r\\n12/13/2020  12:41 AM    <DIR>          STUDY\\r\\n               0 File(s)              0 bytes\\r\\n               3 Dir(s)  84,231,659,520 bytes free\\r\\n'\n",
      "<_io.BufferedReader name=6>\n"
     ]
    },
    {
     "ename": "AttributeError",
     "evalue": "'_io.BufferedReader' object has no attribute 'decode'",
     "output_type": "error",
     "traceback": [
      "\u001b[1;31m---------------------------------------------------------------------------\u001b[0m",
      "\u001b[1;31mAttributeError\u001b[0m                            Traceback (most recent call last)",
      "\u001b[1;32m<ipython-input-69-ea66e530405a>\u001b[0m in \u001b[0;36m<module>\u001b[1;34m\u001b[0m\n\u001b[0;32m      7\u001b[0m \u001b[0mprint\u001b[0m \u001b[1;33m(\u001b[0m\u001b[0moutput\u001b[0m\u001b[1;33m)\u001b[0m\u001b[1;33m\u001b[0m\u001b[1;33m\u001b[0m\u001b[0m\n\u001b[0;32m      8\u001b[0m \u001b[0mprint\u001b[0m\u001b[1;33m(\u001b[0m\u001b[0mresult\u001b[0m\u001b[1;33m.\u001b[0m\u001b[0mstdout\u001b[0m\u001b[1;33m)\u001b[0m\u001b[1;33m\u001b[0m\u001b[1;33m\u001b[0m\u001b[0m\n\u001b[1;32m----> 9\u001b[1;33m \u001b[0mprint\u001b[0m\u001b[1;33m(\u001b[0m\u001b[0mresult\u001b[0m\u001b[1;33m.\u001b[0m\u001b[0mstdout\u001b[0m\u001b[1;33m.\u001b[0m\u001b[0mdecode\u001b[0m\u001b[1;33m(\u001b[0m\u001b[1;33m)\u001b[0m\u001b[1;33m.\u001b[0m\u001b[0msplit\u001b[0m\u001b[1;33m(\u001b[0m\u001b[1;33m)\u001b[0m\u001b[1;33m)\u001b[0m\u001b[1;33m\u001b[0m\u001b[1;33m\u001b[0m\u001b[0m\n\u001b[0m",
      "\u001b[1;31mAttributeError\u001b[0m: '_io.BufferedReader' object has no attribute 'decode'"
     ]
    }
   ],
   "source": [
    "import subprocess\n",
    "\n",
    "result = subprocess.Popen(\"dir e:\", shell=True,stdout=subprocess.PIPE, stderr=subprocess.PIPE)\n",
    "\n",
    "output,error = result.communicate()\n",
    "\n",
    "print (output)\n",
    "print(result.stdout)\n",
    "print(result.stdout.decode().split())"
   ]
  },
  {
   "cell_type": "code",
   "execution_count": 70,
   "metadata": {},
   "outputs": [
    {
     "name": "stdout",
     "output_type": "stream",
     "text": [
      "O=: \"realtime abc\"\n",
      "\n"
     ]
    }
   ],
   "source": [
    "from subprocess import Popen, PIPE\n",
    "\n",
    "args = [\"echo\", \"realtime abc\"]\n",
    "p = Popen(args, stdout=PIPE, stderr=PIPE, shell=True, text=True)\n",
    "\n",
    "for line in p.stdout:\n",
    "    print(\"O=:\", line)"
   ]
  },
  {
   "cell_type": "code",
   "execution_count": 71,
   "metadata": {},
   "outputs": [
    {
     "name": "stdout",
     "output_type": "stream",
     "text": [
      "0\n"
     ]
    }
   ],
   "source": [
    "result = subprocess.run(\"exit 0\", shell=True, check=True)\n",
    "print(result.returncode)"
   ]
  },
  {
   "cell_type": "code",
   "execution_count": 72,
   "metadata": {},
   "outputs": [
    {
     "name": "stdout",
     "output_type": "stream",
     "text": [
      "None\n"
     ]
    }
   ],
   "source": [
    "print(result.stdout)"
   ]
  },
  {
   "cell_type": "code",
   "execution_count": 10,
   "metadata": {},
   "outputs": [
    {
     "ename": "FileNotFoundError",
     "evalue": "[WinError 2] The system cannot find the file specified",
     "output_type": "error",
     "traceback": [
      "\u001b[1;31m---------------------------------------------------------------------------\u001b[0m",
      "\u001b[1;31mFileNotFoundError\u001b[0m                         Traceback (most recent call last)",
      "\u001b[1;32m<ipython-input-10-acb221eb7a17>\u001b[0m in \u001b[0;36m<module>\u001b[1;34m\u001b[0m\n\u001b[1;32m----> 1\u001b[1;33m \u001b[0mresult\u001b[0m \u001b[1;33m=\u001b[0m \u001b[0msubprocess\u001b[0m\u001b[1;33m.\u001b[0m\u001b[0mrun\u001b[0m\u001b[1;33m(\u001b[0m\u001b[1;33m[\u001b[0m\u001b[1;34m\"rm\"\u001b[0m\u001b[1;33m,\u001b[0m\u001b[1;34m\"does_not_exist\"\u001b[0m\u001b[1;33m]\u001b[0m\u001b[1;33m,\u001b[0m\u001b[0mcapture_output\u001b[0m \u001b[1;33m=\u001b[0m \u001b[1;32mTrue\u001b[0m\u001b[1;33m)\u001b[0m\u001b[1;33m\u001b[0m\u001b[1;33m\u001b[0m\u001b[0m\n\u001b[0m\u001b[0;32m      2\u001b[0m \u001b[0mresult\u001b[0m\u001b[1;33m.\u001b[0m\u001b[0mstdout\u001b[0m\u001b[1;33m\u001b[0m\u001b[1;33m\u001b[0m\u001b[0m\n\u001b[0;32m      3\u001b[0m \u001b[0mprint\u001b[0m\u001b[1;33m(\u001b[0m\u001b[0mresult\u001b[0m\u001b[1;33m.\u001b[0m\u001b[0mreturncode\u001b[0m\u001b[1;33m)\u001b[0m\u001b[1;33m\u001b[0m\u001b[1;33m\u001b[0m\u001b[0m\n",
      "\u001b[1;32m~\\anaconda3\\lib\\subprocess.py\u001b[0m in \u001b[0;36mrun\u001b[1;34m(input, capture_output, timeout, check, *popenargs, **kwargs)\u001b[0m\n\u001b[0;32m    487\u001b[0m         \u001b[0mkwargs\u001b[0m\u001b[1;33m[\u001b[0m\u001b[1;34m'stderr'\u001b[0m\u001b[1;33m]\u001b[0m \u001b[1;33m=\u001b[0m \u001b[0mPIPE\u001b[0m\u001b[1;33m\u001b[0m\u001b[1;33m\u001b[0m\u001b[0m\n\u001b[0;32m    488\u001b[0m \u001b[1;33m\u001b[0m\u001b[0m\n\u001b[1;32m--> 489\u001b[1;33m     \u001b[1;32mwith\u001b[0m \u001b[0mPopen\u001b[0m\u001b[1;33m(\u001b[0m\u001b[1;33m*\u001b[0m\u001b[0mpopenargs\u001b[0m\u001b[1;33m,\u001b[0m \u001b[1;33m**\u001b[0m\u001b[0mkwargs\u001b[0m\u001b[1;33m)\u001b[0m \u001b[1;32mas\u001b[0m \u001b[0mprocess\u001b[0m\u001b[1;33m:\u001b[0m\u001b[1;33m\u001b[0m\u001b[1;33m\u001b[0m\u001b[0m\n\u001b[0m\u001b[0;32m    490\u001b[0m         \u001b[1;32mtry\u001b[0m\u001b[1;33m:\u001b[0m\u001b[1;33m\u001b[0m\u001b[1;33m\u001b[0m\u001b[0m\n\u001b[0;32m    491\u001b[0m             \u001b[0mstdout\u001b[0m\u001b[1;33m,\u001b[0m \u001b[0mstderr\u001b[0m \u001b[1;33m=\u001b[0m \u001b[0mprocess\u001b[0m\u001b[1;33m.\u001b[0m\u001b[0mcommunicate\u001b[0m\u001b[1;33m(\u001b[0m\u001b[0minput\u001b[0m\u001b[1;33m,\u001b[0m \u001b[0mtimeout\u001b[0m\u001b[1;33m=\u001b[0m\u001b[0mtimeout\u001b[0m\u001b[1;33m)\u001b[0m\u001b[1;33m\u001b[0m\u001b[1;33m\u001b[0m\u001b[0m\n",
      "\u001b[1;32m~\\anaconda3\\lib\\subprocess.py\u001b[0m in \u001b[0;36m__init__\u001b[1;34m(self, args, bufsize, executable, stdin, stdout, stderr, preexec_fn, close_fds, shell, cwd, env, universal_newlines, startupinfo, creationflags, restore_signals, start_new_session, pass_fds, encoding, errors, text)\u001b[0m\n\u001b[0;32m    852\u001b[0m                             encoding=encoding, errors=errors)\n\u001b[0;32m    853\u001b[0m \u001b[1;33m\u001b[0m\u001b[0m\n\u001b[1;32m--> 854\u001b[1;33m             self._execute_child(args, executable, preexec_fn, close_fds,\n\u001b[0m\u001b[0;32m    855\u001b[0m                                 \u001b[0mpass_fds\u001b[0m\u001b[1;33m,\u001b[0m \u001b[0mcwd\u001b[0m\u001b[1;33m,\u001b[0m \u001b[0menv\u001b[0m\u001b[1;33m,\u001b[0m\u001b[1;33m\u001b[0m\u001b[1;33m\u001b[0m\u001b[0m\n\u001b[0;32m    856\u001b[0m                                 \u001b[0mstartupinfo\u001b[0m\u001b[1;33m,\u001b[0m \u001b[0mcreationflags\u001b[0m\u001b[1;33m,\u001b[0m \u001b[0mshell\u001b[0m\u001b[1;33m,\u001b[0m\u001b[1;33m\u001b[0m\u001b[1;33m\u001b[0m\u001b[0m\n",
      "\u001b[1;32m~\\anaconda3\\lib\\subprocess.py\u001b[0m in \u001b[0;36m_execute_child\u001b[1;34m(self, args, executable, preexec_fn, close_fds, pass_fds, cwd, env, startupinfo, creationflags, shell, p2cread, p2cwrite, c2pread, c2pwrite, errread, errwrite, unused_restore_signals, unused_start_new_session)\u001b[0m\n\u001b[0;32m   1305\u001b[0m             \u001b[1;31m# Start the process\u001b[0m\u001b[1;33m\u001b[0m\u001b[1;33m\u001b[0m\u001b[1;33m\u001b[0m\u001b[0m\n\u001b[0;32m   1306\u001b[0m             \u001b[1;32mtry\u001b[0m\u001b[1;33m:\u001b[0m\u001b[1;33m\u001b[0m\u001b[1;33m\u001b[0m\u001b[0m\n\u001b[1;32m-> 1307\u001b[1;33m                 hp, ht, pid, tid = _winapi.CreateProcess(executable, args,\n\u001b[0m\u001b[0;32m   1308\u001b[0m                                          \u001b[1;31m# no special security\u001b[0m\u001b[1;33m\u001b[0m\u001b[1;33m\u001b[0m\u001b[1;33m\u001b[0m\u001b[0m\n\u001b[0;32m   1309\u001b[0m                                          \u001b[1;32mNone\u001b[0m\u001b[1;33m,\u001b[0m \u001b[1;32mNone\u001b[0m\u001b[1;33m,\u001b[0m\u001b[1;33m\u001b[0m\u001b[1;33m\u001b[0m\u001b[0m\n",
      "\u001b[1;31mFileNotFoundError\u001b[0m: [WinError 2] The system cannot find the file specified"
     ]
    }
   ],
   "source": [
    "result = subprocess.run([\"rm\",\"does_not_exist\"],capture_output = True)\n",
    "result.stdout\n",
    "print(result.returncode)"
   ]
  },
  {
   "cell_type": "markdown",
   "metadata": {},
   "source": [
    "# https://queirozf.com/entries/python-3-subprocess-examples"
   ]
  },
  {
   "cell_type": "code",
   "execution_count": 4,
   "metadata": {},
   "outputs": [
    {
     "data": {
      "text/plain": [
       "1"
      ]
     },
     "execution_count": 4,
     "metadata": {},
     "output_type": "execute_result"
    }
   ],
   "source": [
    "import subprocess\n",
    "\n",
    "subprocess.call([\"ls\", \"-lha\"], shell = True)"
   ]
  },
  {
   "cell_type": "code",
   "execution_count": 5,
   "metadata": {},
   "outputs": [
    {
     "data": {
      "text/plain": [
       "1"
      ]
     },
     "execution_count": 5,
     "metadata": {},
     "output_type": "execute_result"
    }
   ],
   "source": [
    "subprocess.call([\"./bash-script-with-bad-syntax\"], shell = True)"
   ]
  },
  {
   "cell_type": "code",
   "execution_count": 6,
   "metadata": {},
   "outputs": [
    {
     "data": {
      "text/plain": [
       "1"
      ]
     },
     "execution_count": 6,
     "metadata": {},
     "output_type": "execute_result"
    }
   ],
   "source": [
    "subprocess.call(\"ls -lha\", shell=True)"
   ]
  },
  {
   "cell_type": "code",
   "execution_count": 7,
   "metadata": {},
   "outputs": [],
   "source": [
    "import subprocess\n",
    "import sys\n",
    "\n",
    "# create two files to hold the output and errors, respectively\n",
    "with open('out.txt','w+') as fout:\n",
    "    with open('err.txt','w+') as ferr:\n",
    "        out=subprocess.call([\"ls\",'-lha'],stdout=fout,stderr=ferr,shell = True)\n",
    "        # reset file to read from it\n",
    "        fout.seek(0)\n",
    "        # save output (if any) in variable\n",
    "        output=fout.read()\n",
    "\n",
    "        # reset file to read from it\n",
    "        ferr.seek(0) \n",
    "        # save errors (if any) in variable\n",
    "        errors = ferr.read()\n"
   ]
  },
  {
   "cell_type": "code",
   "execution_count": 9,
   "metadata": {},
   "outputs": [
    {
     "ename": "CalledProcessError",
     "evalue": "Command '['./bash-script-with-bad-syntax']' returned non-zero exit status 1.",
     "output_type": "error",
     "traceback": [
      "\u001b[1;31m---------------------------------------------------------------------------\u001b[0m",
      "\u001b[1;31mCalledProcessError\u001b[0m                        Traceback (most recent call last)",
      "\u001b[1;32m<ipython-input-9-1c34fb03ef9e>\u001b[0m in \u001b[0;36m<module>\u001b[1;34m\u001b[0m\n\u001b[0;32m      3\u001b[0m \u001b[1;31m# unlike subprocess.call, this throws a CalledProcessError\u001b[0m\u001b[1;33m\u001b[0m\u001b[1;33m\u001b[0m\u001b[1;33m\u001b[0m\u001b[0m\n\u001b[0;32m      4\u001b[0m \u001b[1;31m# if the underlying process errors out\u001b[0m\u001b[1;33m\u001b[0m\u001b[1;33m\u001b[0m\u001b[1;33m\u001b[0m\u001b[0m\n\u001b[1;32m----> 5\u001b[1;33m \u001b[0mresult\u001b[0m \u001b[1;33m=\u001b[0m \u001b[0msubprocess\u001b[0m\u001b[1;33m.\u001b[0m\u001b[0mcheck_call\u001b[0m\u001b[1;33m(\u001b[0m\u001b[1;33m[\u001b[0m\u001b[1;34m\"./bash-script-with-bad-syntax\"\u001b[0m\u001b[1;33m]\u001b[0m\u001b[1;33m,\u001b[0m \u001b[0mshell\u001b[0m\u001b[1;33m=\u001b[0m\u001b[1;32mTrue\u001b[0m\u001b[1;33m)\u001b[0m\u001b[1;33m\u001b[0m\u001b[1;33m\u001b[0m\u001b[0m\n\u001b[0m\u001b[0;32m      6\u001b[0m \u001b[0mprint\u001b[0m\u001b[1;33m(\u001b[0m\u001b[0mresult\u001b[0m\u001b[1;33m.\u001b[0m\u001b[0mreturncode\u001b[0m\u001b[1;33m)\u001b[0m\u001b[1;33m\u001b[0m\u001b[1;33m\u001b[0m\u001b[0m\n",
      "\u001b[1;32m~\\anaconda3\\lib\\subprocess.py\u001b[0m in \u001b[0;36mcheck_call\u001b[1;34m(*popenargs, **kwargs)\u001b[0m\n\u001b[0;32m    362\u001b[0m         \u001b[1;32mif\u001b[0m \u001b[0mcmd\u001b[0m \u001b[1;32mis\u001b[0m \u001b[1;32mNone\u001b[0m\u001b[1;33m:\u001b[0m\u001b[1;33m\u001b[0m\u001b[1;33m\u001b[0m\u001b[0m\n\u001b[0;32m    363\u001b[0m             \u001b[0mcmd\u001b[0m \u001b[1;33m=\u001b[0m \u001b[0mpopenargs\u001b[0m\u001b[1;33m[\u001b[0m\u001b[1;36m0\u001b[0m\u001b[1;33m]\u001b[0m\u001b[1;33m\u001b[0m\u001b[1;33m\u001b[0m\u001b[0m\n\u001b[1;32m--> 364\u001b[1;33m         \u001b[1;32mraise\u001b[0m \u001b[0mCalledProcessError\u001b[0m\u001b[1;33m(\u001b[0m\u001b[0mretcode\u001b[0m\u001b[1;33m,\u001b[0m \u001b[0mcmd\u001b[0m\u001b[1;33m)\u001b[0m\u001b[1;33m\u001b[0m\u001b[1;33m\u001b[0m\u001b[0m\n\u001b[0m\u001b[0;32m    365\u001b[0m     \u001b[1;32mreturn\u001b[0m \u001b[1;36m0\u001b[0m\u001b[1;33m\u001b[0m\u001b[1;33m\u001b[0m\u001b[0m\n\u001b[0;32m    366\u001b[0m \u001b[1;33m\u001b[0m\u001b[0m\n",
      "\u001b[1;31mCalledProcessError\u001b[0m: Command '['./bash-script-with-bad-syntax']' returned non-zero exit status 1."
     ]
    }
   ],
   "source": [
    "import subprocess\n",
    "\n",
    "# unlike subprocess.call, this throws a CalledProcessError\n",
    "# if the underlying process errors out\n",
    "result = subprocess.check_call([\"./bash-script-with-bad-syntax\"], shell=True)\n"
   ]
  },
  {
   "cell_type": "code",
   "execution_count": 133,
   "metadata": {},
   "outputs": [
    {
     "data": {
      "text/plain": [
       "''"
      ]
     },
     "execution_count": 133,
     "metadata": {},
     "output_type": "execute_result"
    }
   ],
   "source": [
    "#Python version 3.5+\n",
    "\n",
    "import subprocess\n",
    "\n",
    "# run() returns a CompletedProcess object if it was successful\n",
    "# errors in the created process are raised here too\n",
    "process = subprocess.run(['cat','abc.txt'], shell = True, stdout=subprocess.PIPE, universal_newlines=True)\n",
    "output = process.stdout\n",
    "output"
   ]
  },
  {
   "cell_type": "code",
   "execution_count": 129,
   "metadata": {},
   "outputs": [
    {
     "name": "stdout",
     "output_type": "stream",
     "text": [
      "CompletedProcess(args=['cat', 'newfile.txt'], returncode=1)\n",
      "None\n",
      "None\n",
      "1\n"
     ]
    }
   ],
   "source": [
    "cp = subprocess.run([\"cat\",\"newfile.txt\"], shell = True)\n",
    "print(cp)\n",
    "print(cp.stdout)\n",
    "print(cp.stderr)\n",
    "print(cp.returncode)"
   ]
  },
  {
   "cell_type": "code",
   "execution_count": 128,
   "metadata": {},
   "outputs": [
    {
     "name": "stdout",
     "output_type": "stream",
     "text": [
      "CompletedProcess(args=['dir', 'new_dir'], returncode=0)\n",
      "None\n",
      "None\n",
      "0\n"
     ]
    }
   ],
   "source": [
    "sp = subprocess.run([\"dir\",\"new_dir\"], shell = True)\n",
    "print(sp)\n",
    "print(sp.stdout)\n",
    "print(sp.stderr)\n",
    "print(sp.returncode)"
   ]
  },
  {
   "cell_type": "code",
   "execution_count": 132,
   "metadata": {},
   "outputs": [
    {
     "name": "stdout",
     "output_type": "stream",
     "text": [
      "CompletedProcess(args=['dir', 'Lab_week_3'], returncode=1)\n",
      "None\n",
      "None\n",
      "1\n"
     ]
    }
   ],
   "source": [
    "cp = subprocess.run([\"dir\",\"Lab_week_3\"], shell = True)\n",
    "print(cp)\n",
    "print(cp.stdout)\n",
    "print(cp.stderr)\n",
    "print(cp.returncode)"
   ]
  },
  {
   "cell_type": "code",
   "execution_count": 136,
   "metadata": {},
   "outputs": [
    {
     "data": {
      "text/plain": [
       "0"
      ]
     },
     "execution_count": 136,
     "metadata": {},
     "output_type": "execute_result"
    }
   ],
   "source": [
    "from subprocess import Popen\n",
    "\n",
    "p = Popen([\"dir\",\"new_dir\"], shell = True)\n",
    "p.wait()"
   ]
  },
  {
   "cell_type": "code",
   "execution_count": 141,
   "metadata": {},
   "outputs": [
    {
     "name": "stdout",
     "output_type": "stream",
     "text": [
      "None\n",
      "None\n"
     ]
    }
   ],
   "source": [
    "from subprocess import Popen\n",
    "\n",
    "p = Popen([\"dir\",\"new_dir\"], shell = True)\n",
    "\n",
    "output, errors = p.communicate()\n",
    "print(output)\n",
    "print(errors)"
   ]
  },
  {
   "cell_type": "code",
   "execution_count": 1,
   "metadata": {},
   "outputs": [
    {
     "data": {
      "text/plain": [
       "b''"
      ]
     },
     "execution_count": 1,
     "metadata": {},
     "output_type": "execute_result"
    }
   ],
   "source": [
    "from subprocess import Popen,PIPE\n",
    "\n",
    "# this is equivalent to ls -lha | grep \"foo bar\"\n",
    "p1 = Popen([\"powershell.exe\",\"new_dir\"], stdout=PIPE)\n",
    "p2 = Popen([\"notepad.exe\", \"report.txt\"], stdin=p1.stdout, stdout=PIPE)\n",
    "p1.stdout.close()\n",
    "\n",
    "output = p2.communicate()[0]\n",
    "output"
   ]
  },
  {
   "cell_type": "markdown",
   "metadata": {},
   "source": [
    "# Processing Log Files"
   ]
  },
  {
   "cell_type": "code",
   "execution_count": 4,
   "metadata": {},
   "outputs": [
    {
     "name": "stdout",
     "output_type": "stream",
     "text": [
      "{'good_user': 4, 'naughty_user': 8}\n"
     ]
    }
   ],
   "source": [
    "import re\n",
    "import sys\n",
    "import os\n",
    "\n",
    "#logfile = sys.argv[1]\n",
    "logfile = os.path.join(os.getcwd() ,\"log_file.txt\")\n",
    "username = {}\n",
    "with open(logfile) as f:\n",
    "    for line in f:\n",
    "        if \"CRON\" not in line:\n",
    "            continue\n",
    "        pattern = r\"USER \\((\\w+)\\)$\"\n",
    "        result = re.search(pattern,line)\n",
    "        if result is None:\n",
    "            continue\n",
    "        name = result[1]\n",
    "        username[name] = username.get(name, 0) +1\n",
    "print(username)"
   ]
  },
  {
   "cell_type": "code",
   "execution_count": null,
   "metadata": {},
   "outputs": [],
   "source": []
  }
 ],
 "metadata": {
  "kernelspec": {
   "display_name": "Python 3",
   "language": "python",
   "name": "python3"
  },
  "language_info": {
   "codemirror_mode": {
    "name": "ipython",
    "version": 3
   },
   "file_extension": ".py",
   "mimetype": "text/x-python",
   "name": "python",
   "nbconvert_exporter": "python",
   "pygments_lexer": "ipython3",
   "version": "3.8.5"
  }
 },
 "nbformat": 4,
 "nbformat_minor": 4
}
